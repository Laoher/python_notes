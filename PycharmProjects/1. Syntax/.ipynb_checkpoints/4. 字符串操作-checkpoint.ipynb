{
 "cells": [
  {
   "cell_type": "markdown",
   "metadata": {},
   "source": [
    "# 多行注释"
   ]
  },
  {
   "cell_type": "code",
   "execution_count": 1,
   "metadata": {},
   "outputs": [
    {
     "name": "stdout",
     "output_type": "stream",
     "text": [
      "\n",
      "I am a boy\n",
      "she is a girl\n",
      "it is good\n",
      "we have different sex\n",
      "Amen\n",
      "\n"
     ]
    }
   ],
   "source": [
    "# 多行String 使用''' ''' 而且还可以保持格式\n",
    "from numpy.core.defchararray import upper, split\n",
    "\n",
    "String1 = '''\n",
    "I am a boy\n",
    "she is a girl\n",
    "it is good\n",
    "we have different sex\n",
    "Amen\n",
    "'''\n",
    "\n",
    "print(String1)"
   ]
  },
  {
   "cell_type": "code",
   "execution_count": 12,
   "metadata": {},
   "outputs": [
    {
     "name": "stdout",
     "output_type": "stream",
     "text": [
      "为什么我的眼泪常含泪水\n",
      "因为我对这土地爱得深沉\n",
      "我的爱\n",
      "存在\n",
      "就不能再回来\n"
     ]
    }
   ],
   "source": [
    "poem =\"\"\"为什么我的眼泪常含泪水\n",
    "因为我对这土地爱得深沉\n",
    "我的爱\n",
    "存在\n",
    "就不能再回来\"\"\"\n",
    "print(poem)"
   ]
  },
  {
   "cell_type": "markdown",
   "metadata": {},
   "source": [
    "# 查找"
   ]
  },
  {
   "cell_type": "code",
   "execution_count": 2,
   "metadata": {},
   "outputs": [
    {
     "data": {
      "text/plain": [
       "False"
      ]
     },
     "execution_count": 2,
     "metadata": {},
     "output_type": "execute_result"
    }
   ],
   "source": [
    "# 查看字母是否在string中\n",
    "\"I\" in \"Team\""
   ]
  },
  {
   "cell_type": "code",
   "execution_count": 3,
   "metadata": {},
   "outputs": [
    {
     "name": "stdout",
     "output_type": "stream",
     "text": [
      "2\n",
      "3\n",
      "-1\n"
     ]
    }
   ],
   "source": [
    "# 查找字符串\n",
    "##find 方法\n",
    "sStr1 = 'abcdefg'\n",
    "sStr2 = 'cde'\n",
    "print(sStr1.find(sStr2))\n",
    "info = 'abca'\n",
    "print(info.find('a',1))##从下标1开始，查找在字符串里第一个出现的子串：返回结果3\n",
    "print(info.find('333'))##返回-1,查找不到返回-1"
   ]
  },
  {
   "cell_type": "code",
   "execution_count": 4,
   "metadata": {},
   "outputs": [],
   "source": [
    "##index 方法(不建议使用)\n",
    "#index方法是在字符串里查找子串第一次出现的位置，类似字符串的find方法，和find方法不同的是，如果查找不到子串，会抛出异常，而不是返回-1"
   ]
  },
  {
   "cell_type": "markdown",
   "metadata": {},
   "source": [
    "# 大小写转换"
   ]
  },
  {
   "cell_type": "code",
   "execution_count": 5,
   "metadata": {},
   "outputs": [
    {
     "data": {
      "text/plain": [
       "'APPLE'"
      ]
     },
     "execution_count": 5,
     "metadata": {},
     "output_type": "execute_result"
    }
   ],
   "source": [
    "# 把字母变成大写\n",
    "'apple'.upper()"
   ]
  },
  {
   "cell_type": "code",
   "execution_count": 6,
   "metadata": {},
   "outputs": [
    {
     "data": {
      "text/plain": [
       "'apple'"
      ]
     },
     "execution_count": 6,
     "metadata": {},
     "output_type": "execute_result"
    }
   ],
   "source": [
    "# 把字母变成小写\n",
    "'APPLE'.lower()"
   ]
  },
  {
   "cell_type": "markdown",
   "metadata": {},
   "source": [
    "# 字符串的分割"
   ]
  },
  {
   "cell_type": "code",
   "execution_count": 7,
   "metadata": {},
   "outputs": [
    {
     "name": "stdout",
     "output_type": "stream",
     "text": [
      "is\n",
      "['wang0792', 'e.ntu.edu.sg']\n",
      "['wang0792@e.ntu.edu.sg']\n"
     ]
    }
   ],
   "source": [
    "# 把string用空格或者别的符号隔开\n",
    "## split的用法\n",
    "print('this is my life'.split()[1])\n",
    "str =\"wang0792@e.ntu.edu.sg\"\n",
    "add = str.split('@')\n",
    "print(add)\n",
    "add = str.split()\n",
    "print(add)"
   ]
  },
  {
   "cell_type": "markdown",
   "metadata": {},
   "source": [
    "# 字符串计算"
   ]
  },
  {
   "cell_type": "code",
   "execution_count": 8,
   "metadata": {},
   "outputs": [
    {
     "name": "stdout",
     "output_type": "stream",
     "text": [
      "5\n"
     ]
    }
   ],
   "source": [
    "# 长度len\n",
    "print(len('apple'))"
   ]
  },
  {
   "cell_type": "code",
   "execution_count": 9,
   "metadata": {},
   "outputs": [
    {
     "name": "stdout",
     "output_type": "stream",
     "text": [
      "子串出现的次数为7次\n"
     ]
    }
   ],
   "source": [
    "# 计算子串出现的次数\n",
    "str1 = 'abababababbabab'\n",
    "str2 = 'ab'\n",
    "ncount = str1.count(str2)\n",
    "print('子串出现的次数为%s次' %ncount)"
   ]
  },
  {
   "cell_type": "code",
   "execution_count": 21,
   "metadata": {},
   "outputs": [
    {
     "name": "stdout",
     "output_type": "stream",
     "text": [
      "False\n"
     ]
    }
   ],
   "source": [
    "#比较字符串\n",
    "sStr1 = 'abcdefg'\n",
    "sStr2 = 'cde'\n",
    "print(sStr1 > sStr2)"
   ]
  },
  {
   "cell_type": "markdown",
   "metadata": {},
   "source": [
    "# 字符串剪枝"
   ]
  },
  {
   "cell_type": "code",
   "execution_count": null,
   "metadata": {},
   "outputs": [],
   "source": [
    "#strip用法 用于移除字符串头尾指定的字符（默认为空格或换行符）或字符序列 不用于删除中间的字符\n",
    "str = \"00000003210Runoob01230000000\"\n",
    "print(str.strip( '0' ))  # 去除首尾字符 0\n",
    "str2 = \"   Runoob      \"   # 去除首尾空格\n",
    "print(str2.strip())\n",
    "str = \"123abcrunoob321\" #只要包含在序列里就删除,和顺序无关\n",
    "print (str.strip( '12' ))\n",
    "#lstrip() 和 rstrip()就是只看一边"
   ]
  },
  {
   "cell_type": "markdown",
   "metadata": {},
   "source": [
    "# 打印"
   ]
  },
  {
   "cell_type": "code",
   "execution_count": 3,
   "metadata": {},
   "outputs": [
    {
     "name": "stdout",
     "output_type": "stream",
     "text": [
      "apple\n",
      "apple\n",
      "apple\n"
     ]
    }
   ],
   "source": [
    "import math\n",
    "\n",
    "# print 可以用单引号也可以用双引号也可以用三引号，也就是说以下都是合理的\n",
    "\n",
    "print('apple')  # apple\n",
    "print(\"apple\")  # apple\n",
    "print('''apple''')  # apple"
   ]
  },
  {
   "cell_type": "code",
   "execution_count": 4,
   "metadata": {},
   "outputs": [
    {
     "name": "stdout",
     "output_type": "stream",
     "text": [
      "12.456\n"
     ]
    }
   ],
   "source": [
    "#格式化输出\n",
    "print('{0:.3f}'.format(12.4563554768))  # 12.456"
   ]
  },
  {
   "cell_type": "code",
   "execution_count": 5,
   "metadata": {},
   "outputs": [
    {
     "name": "stdout",
     "output_type": "stream",
     "text": [
      "常量 PI 的值近似为 3.142。\n"
     ]
    }
   ],
   "source": [
    "print('常量 PI 的值近似为 {0:.3f}。'.format(math.pi))  # 常量 PI 的值近似为 3.142。"
   ]
  },
  {
   "cell_type": "code",
   "execution_count": 10,
   "metadata": {},
   "outputs": [
    {
     "name": "stdout",
     "output_type": "stream",
     "text": [
      "Let\\'s \\go!\n",
      "'C:\\now'\n"
     ]
    }
   ],
   "source": [
    "# 转义字符\n",
    "print(\"Let\\\\\\'s \\\\go!\")  # Let\\'s \\go! 多了一个转义斜杠就忽略\n",
    "print('\\'C:\\\\now\\'')  # 'C:\\now'"
   ]
  }
 ],
 "metadata": {
  "kernelspec": {
   "display_name": "Python 3",
   "language": "python",
   "name": "python3"
  },
  "language_info": {
   "codemirror_mode": {
    "name": "ipython",
    "version": 3
   },
   "file_extension": ".py",
   "mimetype": "text/x-python",
   "name": "python",
   "nbconvert_exporter": "python",
   "pygments_lexer": "ipython3",
   "version": "3.6.12"
  }
 },
 "nbformat": 4,
 "nbformat_minor": 2
}
