{
 "cells": [
  {
   "cell_type": "code",
   "execution_count": 1,
   "metadata": {},
   "outputs": [
    {
     "name": "stdout",
     "output_type": "stream",
     "text": [
      "{'living room': 21, 'kitchen': 23, 'bedroom': 24, 'pantry': 22}\n"
     ]
    }
   ],
   "source": [
    "sensors =  {\"living room\": 21, \"kitchen\": 23, \"bedroom\": 20}\n",
    "# 添加/修改 dictionary\n",
    "sensors[\"pantry\"]=22\n",
    "sensors[\"bedroom\"]=sensors[\"kitchen\"]+1  #\n",
    "print(sensors)"
   ]
  },
  {
   "cell_type": "code",
   "execution_count": 2,
   "metadata": {},
   "outputs": [
    {
     "name": "stdout",
     "output_type": "stream",
     "text": [
      "{'living room': 21, 'kitchen': 23, 'bedroom': 24, 'pantry': 23, 'guest room': 25, 'patio': 34}\n"
     ]
    }
   ],
   "source": [
    "# 创建空dictionary\n",
    "empty_dictionary={}\n",
    "\n",
    "# 添加/修改多个key\n",
    "sensors.update({\"pantry\": 23, \"guest room\": 25, \"patio\": 34})\n",
    "print(sensors)"
   ]
  },
  {
   "cell_type": "code",
   "execution_count": 5,
   "metadata": {},
   "outputs": [
    {
     "name": "stdout",
     "output_type": "stream",
     "text": [
      "{'Jenny': 61, 'Alexus': 70, 'Sam': 67, 'Grace': 64}\n",
      "{'a': 'b', 1: 2}\n"
     ]
    }
   ],
   "source": [
    "# 利用list comprehension创建dictionary\n",
    "names = ['Jenny', 'Alexus', 'Sam', 'Grace']\n",
    "heights = [61, 70, 67, 64]\n",
    "students = {key:value for key, value in zip(names, heights)}\n",
    "print(students)\n",
    "\n",
    "# 列表转换为字典\n",
    "i = ['a', 'b']\n",
    "l = [1, 2]\n",
    "print(dict([i,l]))"
   ]
  },
  {
   "cell_type": "code",
   "execution_count": 6,
   "metadata": {},
   "outputs": [],
   "source": [
    "# 防止key不在字典中产生error\n",
    "if \"pantry\" in sensors:  # \n",
    "  print(sensors[\"pantry\"])\n",
    "\n",
    "# 还有一种很安全的方法 使用get()\n",
    "tc_id= students.get(\"Liu Wen\", 81)  # 后面这个数字就是如果这个值不存在的话，用后面这个数字来赋值"
   ]
  },
  {
   "cell_type": "code",
   "execution_count": 7,
   "metadata": {},
   "outputs": [
    {
     "data": {
      "text/plain": [
       "'Gift Basket'"
      ]
     },
     "execution_count": 7,
     "metadata": {},
     "output_type": "execute_result"
    }
   ],
   "source": [
    "# 删除其中一项用pop（）\n",
    "raffle = {223842: \"Teddy Bear\", 872921: \"Concert Tickets\", 320291: \"Gift Basket\", 412123: \"Necklace\", 298787: \"Pasta Maker\"}\n",
    "raffle.pop(320291, \"No Prize\")  # 后面的这个值也是在一旦没有对应的key的时候就使用后面的值"
   ]
  },
  {
   "cell_type": "code",
   "execution_count": 8,
   "metadata": {},
   "outputs": [
    {
     "name": "stdout",
     "output_type": "stream",
     "text": [
      "223842\n",
      "872921\n",
      "412123\n",
      "298787\n",
      "Teddy Bear\n",
      "Concert Tickets\n",
      "Necklace\n",
      "Pasta Maker\n",
      "Apple has a value of 184 billion dollars. \n",
      "Google has a value of 141.7 billion dollars. \n",
      "Microsoft has a value of 80 billion dollars. \n",
      "Coca-Cola has a value of 69.7 billion dollars. \n",
      "Amazon has a value of 64.8 billion dollars. \n"
     ]
    }
   ],
   "source": [
    "# 得到所有的key\n",
    "list(raffle)  # 方法一\n",
    "raffle.keys()  # 方法二 用key（）这个方法\n",
    "for i in raffle.keys():\n",
    "  print(i)\n",
    "\n",
    "# 得到所有的value\n",
    "list(raffle.values())  # 方法一\n",
    "raffle.values()  # 方法二 用values（）这个方法\n",
    "for i in raffle.values():\n",
    "  print(i)\n",
    "\n",
    "# 得到所有的key, value\n",
    "list(raffle.items())  # 方法一\n",
    "raffle.items()  # 方法二 用items（）这个方法\n",
    "biggest_brands = {\"Apple\": 184, \"Google\": 141.7, \"Microsoft\": 80, \"Coca-Cola\": 69.7, \"Amazon\": 64.8}\n",
    "for company, value in biggest_brands.items():\n",
    "  print(company + \" has a value of \" + str(value) + \" billion dollars. \")"
   ]
  },
  {
   "cell_type": "code",
   "execution_count": 9,
   "metadata": {},
   "outputs": [
    {
     "name": "stdout",
     "output_type": "stream",
     "text": [
      "[21, 23, 23]\n",
      "living room\n",
      "l\n",
      "[21, 23, 23]\n",
      "kitchen\n",
      "k\n",
      "[21, 23, 23]\n",
      "bedroom\n",
      "b\n",
      "yes\n"
     ]
    }
   ],
   "source": [
    "sensors =  {\"living room\": [21,23,23], \"kitchen\": [21,23,23], \"bedroom\": [21,23,23]}\n",
    "for i in sensors.keys(): # i 是key(index)\n",
    "    print(sensors[i])\n",
    "    print(i)\n",
    "    print(i[0])\n",
    "if \"living room\" in sensors.keys():\n",
    "    print(\"yes\")\n",
    "else:\n",
    "    print(\"no\")"
   ]
  },
  {
   "cell_type": "code",
   "execution_count": null,
   "metadata": {},
   "outputs": [],
   "source": []
  },
  {
   "cell_type": "code",
   "execution_count": null,
   "metadata": {},
   "outputs": [],
   "source": []
  }
 ],
 "metadata": {
  "kernelspec": {
   "display_name": "Python 3",
   "language": "python",
   "name": "python3"
  },
  "language_info": {
   "codemirror_mode": {
    "name": "ipython",
    "version": 3
   },
   "file_extension": ".py",
   "mimetype": "text/x-python",
   "name": "python",
   "nbconvert_exporter": "python",
   "pygments_lexer": "ipython3",
   "version": "3.6.8"
  }
 },
 "nbformat": 4,
 "nbformat_minor": 2
}
