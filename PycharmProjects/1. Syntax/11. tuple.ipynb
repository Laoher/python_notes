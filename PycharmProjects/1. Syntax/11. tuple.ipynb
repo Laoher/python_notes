{
 "cells": [
  {
   "cell_type": "code",
   "execution_count": 1,
   "metadata": {},
   "outputs": [
    {
     "name": "stdout",
     "output_type": "stream",
     "text": [
      "<class 'tuple'>\n",
      "<class 'float'>\n"
     ]
    }
   ],
   "source": [
    "# 一个元素的话要加逗号才知道是元组\n",
    "tuple1 = (3.5,)\n",
    "print(type(tuple1))\n",
    "tuple2 = (3.5) # 没有逗号的话当做没有括号的普通类型\n",
    "print(type(tuple2))"
   ]
  },
  {
   "cell_type": "code",
   "execution_count": 2,
   "metadata": {},
   "outputs": [
    {
     "name": "stdout",
     "output_type": "stream",
     "text": [
      "<class 'tuple'>\n"
     ]
    }
   ],
   "source": [
    "#没有括号的元组\n",
    "temp2 =2,3,4\n",
    "print(type(temp2)) "
   ]
  },
  {
   "cell_type": "code",
   "execution_count": 3,
   "metadata": {},
   "outputs": [
    {
     "name": "stdout",
     "output_type": "stream",
     "text": [
      "<class 'tuple'>\n",
      "<class 'tuple'>\n"
     ]
    }
   ],
   "source": [
    "# 空元组\n",
    "temp3 = ()\n",
    "print(type(temp3))\n",
    "temp3 = tuple()\n",
    "print(type(temp3))"
   ]
  },
  {
   "cell_type": "code",
   "execution_count": 4,
   "metadata": {},
   "outputs": [
    {
     "name": "stdout",
     "output_type": "stream",
     "text": [
      "<class 'tuple'>\n"
     ]
    }
   ],
   "source": [
    "#这里的8*是重复操作八次的含义\n",
    "tuple3 = (8*(8,)) \n",
    "print(type(tuple3))"
   ]
  },
  {
   "cell_type": "code",
   "execution_count": 5,
   "metadata": {},
   "outputs": [
    {
     "name": "stdout",
     "output_type": "stream",
     "text": [
      "('apple', 'banana', 'pineapple', 'orange', 'pear')\n"
     ]
    }
   ],
   "source": [
    "# 元组的修改  \n",
    "# 这个例子是利用了切片操作符,不能直接对其中的元素赋值修改，只能这样重新赋值替换\n",
    "tuple1 = (\"apple\", \"banana\", \"orange\",\"pear\")\n",
    "tuple1 = tuple1[:2]+(\"pineapple\",)+tuple1[2:]\n",
    "print(tuple1)"
   ]
  },
  {
   "cell_type": "code",
   "execution_count": 6,
   "metadata": {},
   "outputs": [
    {
     "name": "stdout",
     "output_type": "stream",
     "text": [
      "apple\n"
     ]
    }
   ],
   "source": [
    "# 访问元组\n",
    "print(tuple1[0])"
   ]
  },
  {
   "cell_type": "code",
   "execution_count": 7,
   "metadata": {
    "collapsed": true
   },
   "outputs": [],
   "source": [
    "#删除元组（没什么用），因为系统是会自己删除的\n",
    "del tuple1"
   ]
  },
  {
   "cell_type": "code",
   "execution_count": 8,
   "metadata": {},
   "outputs": [
    {
     "name": "stdout",
     "output_type": "stream",
     "text": [
      "('l', 'u', 'p', 'i', 'n', 's')\n"
     ]
    }
   ],
   "source": [
    "# 如果参数是一个序列（字符串、列表或元组），\n",
    "# tuple函数的调用结果是产生一个包含序列元素的元组\n",
    "t = tuple('lupins')\n",
    "print(t)"
   ]
  },
  {
   "cell_type": "code",
   "execution_count": 10,
   "metadata": {},
   "outputs": [
    {
     "name": "stdout",
     "output_type": "stream",
     "text": [
      "True\n"
     ]
    }
   ],
   "source": [
    "# 元组的比较\n",
    "# 逐个元素比较,相同就看下一个,只要有一个比较出结果就直接输出结论, 不管后面的有多大\n",
    "print((0, 1, 20) < (0, 3, 4))"
   ]
  },
  {
   "cell_type": "code",
   "execution_count": 2,
   "metadata": {},
   "outputs": [
    {
     "name": "stdout",
     "output_type": "stream",
     "text": [
      "3\n",
      "2\n",
      "wang0792\n",
      "e.ntu.edu.sg\n"
     ]
    }
   ],
   "source": [
    "#元组的特别赋值技巧\n",
    "# 当然等号两边对应的数量必须相等\n",
    "x, y = 3,5.5\n",
    "# 实际上相当于左边是一个元组,右边是一个元组,然后对应赋值\n",
    "a=2\n",
    "b=3\n",
    "a,b = b,a\n",
    "user, domain = \"wang0792@e.ntu.edu.sg\".split(\"@\") # split()返回的是含有两个元素的list\n",
    "# 实际相当于左边是元组变量 右边是元组表达式 \n",
    "print(a)\n",
    "print(b)\n",
    "print(user)\n",
    "print(domain)"
   ]
  },
  {
   "cell_type": "code",
   "execution_count": 11,
   "metadata": {},
   "outputs": [
    {
     "data": {
      "text/plain": [
       "[('a', 14), ('b', 3), ('c', 88), ('d', 2), ('e', 2)]"
      ]
     },
     "execution_count": 11,
     "metadata": {},
     "output_type": "execute_result"
    }
   ],
   "source": [
    "# dictionary转换成tuple用于排序\n",
    "d = {'a':14,'e':2,'d':2,'b':3,'c':88}\n",
    "t = list(d.items())\n",
    "t.sort()\n",
    "t"
   ]
  },
  {
   "cell_type": "code",
   "execution_count": 12,
   "metadata": {},
   "outputs": [
    {
     "name": "stdout",
     "output_type": "stream",
     "text": [
      "a\n",
      "14\n",
      "b\n",
      "3\n",
      "c\n",
      "88\n",
      "d\n",
      "2\n",
      "e\n",
      "2\n"
     ]
    }
   ],
   "source": [
    "# 用元组可以方便遍历dict\n",
    "for key, value in t:\n",
    "    print(key)\n",
    "    print(value)"
   ]
  },
  {
   "cell_type": "code",
   "execution_count": 18,
   "metadata": {},
   "outputs": [],
   "source": [
    "# 如果要用value排序,要么研究一下怎么用那个key,要么新建一个数组,按照反序append进list再排序\n",
    "new_list=[]\n",
    "for key, value in t:\n",
    "    new_list.append((value,key))"
   ]
  },
  {
   "cell_type": "code",
   "execution_count": 19,
   "metadata": {},
   "outputs": [],
   "source": [
    "# 可以用元组作为dictionary的组合键\n",
    "dict ={(\"Wang\",\"Xing\"):83473075,(\"qi\",\"Boyan\"):982576928}"
   ]
  },
  {
   "cell_type": "code",
   "execution_count": null,
   "metadata": {
    "collapsed": true
   },
   "outputs": [],
   "source": []
  }
 ],
 "metadata": {
  "kernelspec": {
   "display_name": "Python 3",
   "language": "python",
   "name": "python3"
  },
  "language_info": {
   "codemirror_mode": {
    "name": "ipython",
    "version": 3
   },
   "file_extension": ".py",
   "mimetype": "text/x-python",
   "name": "python",
   "nbconvert_exporter": "python",
   "pygments_lexer": "ipython3",
   "version": "3.6.8"
  }
 },
 "nbformat": 4,
 "nbformat_minor": 2
}
