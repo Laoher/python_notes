{
 "cells": [
  {
   "cell_type": "code",
   "execution_count": null,
   "metadata": {},
   "outputs": [],
   "source": [
    "# 多行String 使用''' '''\n",
    "from numpy.core.defchararray import upper, split\n",
    "\n",
    "String1 = '''\n",
    "I am a boy\n",
    "she is a girl\n",
    "it is good\n",
    "we have different sex\n",
    "Amen\n",
    "'''\n",
    "\n",
    "print(String1)"
   ]
  },
  {
   "cell_type": "code",
   "execution_count": null,
   "metadata": {},
   "outputs": [],
   "source": [
    "# 查看字母是否在string中\n",
    "a = \"I\" in \"Team\"\n",
    "print(a)"
   ]
  },
  {
   "cell_type": "code",
   "execution_count": null,
   "metadata": {},
   "outputs": [],
   "source": [
    "# 把字母变成大写\n",
    "upper('apple')"
   ]
  },
  {
   "cell_type": "code",
   "execution_count": null,
   "metadata": {},
   "outputs": [],
   "source": [
    "# 把string用空格或者别的符号隔开\n",
    "## split的用法\n",
    "print('this is my life'.split()[1])\n",
    "str =\"wang0792@e.ntu.edu.sg\"\n",
    "add = str.split('@')\n",
    "print(add)\n",
    "add = str.split()\n",
    "print(add)"
   ]
  },
  {
   "cell_type": "code",
   "execution_count": null,
   "metadata": {},
   "outputs": [],
   "source": [
    "# 长度len\n",
    "print(len('apple'))"
   ]
  },
  {
   "cell_type": "code",
   "execution_count": null,
   "metadata": {},
   "outputs": [],
   "source": [
    "# 查找字符串\n",
    "##find 方法\n",
    "sStr1 = 'abcdefg'\n",
    "sStr2 = 'cde'\n",
    "print(sStr1.find(sStr2))\n",
    "info = 'abca'\n",
    "print(info.find('a',1))##从下标1开始，查找在字符串里第一个出现的子串：返回结果3\n",
    "print(info.find('333'))##返回-1,查找不到返回-1\n",
    "##index 方法\n",
    "#index方法是在字符串里查找子串第一次出现的位置，类似字符串的find方法，和find方法不同的是，如果查找不到子串，会抛出异常，而不是返回-1"
   ]
  },
  {
   "cell_type": "code",
   "execution_count": null,
   "metadata": {},
   "outputs": [],
   "source": [
    "# 计算子串出现的次数\n",
    "str1 = 'abababababbabab'\n",
    "str2 = 'ab'\n",
    "ncount = str1.count(str2)\n",
    "print('子串出现的次数为%s次' %ncount)"
   ]
  },
  {
   "cell_type": "code",
   "execution_count": 9,
   "metadata": {},
   "outputs": [
    {
     "name": "stdout",
     "output_type": "stream",
     "text": [
      "\n",
      "I am a boy\n",
      "she is a girl\n",
      "it is good\n",
      "we have different sex\n",
      "Amen\n",
      "\n",
      "False\n",
      "is\n",
      "5\n",
      "2\n",
      "3\n",
      "-1\n",
      "子串出现的次数为7次\n"
     ]
    }
   ],
   "source": [
    "#比较字符串\n",
    "sStr1 = 'abcdefg'\n",
    "sStr2 = 'cde'\n",
    "print(cmp(sStr1,sStr2))"
   ]
  },
  {
   "cell_type": "code",
   "execution_count": 7,
   "metadata": {},
   "outputs": [
    {
     "name": "stdout",
     "output_type": "stream",
     "text": [
      "3210Runoob0123\n",
      "Runoob\n",
      "crun\n"
     ]
    }
   ],
   "source": [
    "#strip用法 用于移除字符串头尾指定的字符（默认为空格或换行符）或字符序列 不用于删除中间的字符\n",
    "str = \"00000003210Runoob01230000000\"\n",
    "print(str.strip( '0' ))  # 去除首尾字符 0\n",
    "str2 = \"   Runoob      \"   # 去除首尾空格\n",
    "print(str2.strip())\n",
    "str = \"123abcrunoob321\" #只要包含在序列里就删除,和顺序无关\n",
    "print (str.strip( '12' ))\n",
    "#lstrip() 和 rstrip()就是只看一侧"
   ]
  },
  {
   "cell_type": "code",
   "execution_count": null,
   "metadata": {},
   "outputs": [],
   "source": []
  }
 ],
 "metadata": {
  "kernelspec": {
   "display_name": "Python 3",
   "language": "python",
   "name": "python3"
  },
  "language_info": {
   "codemirror_mode": {
    "name": "ipython",
    "version": 3
   },
   "file_extension": ".py",
   "mimetype": "text/x-python",
   "name": "python",
   "nbconvert_exporter": "python",
   "pygments_lexer": "ipython3",
   "version": "3.6.8"
  }
 },
 "nbformat": 4,
 "nbformat_minor": 2
}
