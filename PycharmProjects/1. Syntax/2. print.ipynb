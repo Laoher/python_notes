{
 "cells": [
  {
   "cell_type": "code",
   "execution_count": null,
   "metadata": {},
   "outputs": [],
   "source": [
    "import math\n",
    "import random\n",
    "# print 可以用单引号也可以用双引号也可以用三引号，也就是说以下都是合理的\n",
    "\n",
    "print('apple')  # apple\n",
    "print(\"apple\")  # apple\n",
    "print('''apple''')  # apple\n",
    "\n",
    "print(range(5))  # range(0,5)\n",
    "print(list(range(5)))  # [0, 1, 2, 3, 4]\n",
    "#格式化输出\n",
    "print('{0:.3f}'.format(12.4563554768))  # 12.456\n",
    "\n",
    "print('常量 PI 的值近似为 {0:.3f}。'.format(math.pi))  # 常量 PI 的值近似为 3.142。\n",
    "\n",
    "# 转义字符\n",
    "print(\"Let\\\\\\'s \\\\go!\")  # Let\\'s \\go!\n",
    "print('\\'C:\\\\now\\'')  # 'C:\\now'\n",
    "\n",
    "poem =\"\"\"为什么我的眼泪常含泪水\n",
    "因为我对这土地爱得深沉\n",
    "我的爱\n",
    "存在\n",
    "就不能再回来\"\"\"\n",
    "print(poem)\n",
    "# 为什么我的眼泪常含泪水\n",
    "# 因为我对这土地爱得深沉\n",
    "# 我的爱\n",
    "# 存在\n",
    "# 就不能再回来\n",
    "\n",
    "for i in \"FishC\":\n",
    "    print(i)  # 每个字母会逐行输出\n",
    "\n",
    "counter = 100\n",
    "miles = 1000.0\n",
    "name = \"Tyler1993\"\n",
    "complex = 4 + 3j\n",
    "\n",
    "print(counter)\n",
    "print(miles)\n",
    "print(name)\n",
    "print(name[3:6])\n",
    "print(complex)\n",
    "print(type(counter), type(miles), type(name), type(complex))\n",
    "\n"
   ]
  }
 ],
 "metadata": {
  "kernelspec": {
   "display_name": "Python 3",
   "language": "python",
   "name": "python3"
  },
  "language_info": {
   "codemirror_mode": {
    "name": "ipython",
    "version": 3
   },
   "file_extension": ".py",
   "mimetype": "text/x-python",
   "name": "python",
   "nbconvert_exporter": "python",
   "pygments_lexer": "ipython3",
   "version": "3.6.8"
  }
 },
 "nbformat": 4,
 "nbformat_minor": 2
}
