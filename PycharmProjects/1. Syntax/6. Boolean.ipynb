{
 "cells": [
  {
   "cell_type": "code",
   "execution_count": 1,
   "metadata": {},
   "outputs": [
    {
     "name": "stdout",
     "output_type": "stream",
     "text": [
      "False\n"
     ]
    }
   ],
   "source": [
    "# 把一个True 变成False 或者把False变成True 可以用 not()\n",
    "a=True\n",
    "b =not(a)\n",
    "print(b)"
   ]
  },
  {
   "cell_type": "code",
   "execution_count": 2,
   "metadata": {},
   "outputs": [
    {
     "name": "stdout",
     "output_type": "stream",
     "text": [
      "{'f'}\n",
      "{'s', 'f', 'c', 'a', 'q', 'v', 'e', 'd', 'w'}\n"
     ]
    }
   ],
   "source": [
    "# 这个属于set的操作\n",
    "# 字符串间的与或\n",
    "a = set(\"asfasdsdf\")\n",
    "b = set(\"ascaqwcdve\")\n",
    "\n",
    "print(a - b)\n",
    "print(a | b)"
   ]
  },
  {
   "cell_type": "code",
   "execution_count": 5,
   "metadata": {},
   "outputs": [
    {
     "name": "stdout",
     "output_type": "stream",
     "text": [
      "{1, 3, 5}\n",
      "{1, 2, 3, 4, 5, 6, 7, 8}\n",
      "<class 'set'>\n"
     ]
    }
   ],
   "source": [
    "a = set([1,3,4,5,6,7])\n",
    "b = set([2,4,6,7,8])\n",
    "\n",
    "print(a - b)\n",
    "print(a | b)\n",
    "print(type(a | b))"
   ]
  },
  {
   "cell_type": "code",
   "execution_count": null,
   "metadata": {},
   "outputs": [],
   "source": []
  }
 ],
 "metadata": {
  "kernelspec": {
   "display_name": "Python 3",
   "language": "python",
   "name": "python3"
  },
  "language_info": {
   "codemirror_mode": {
    "name": "ipython",
    "version": 3
   },
   "file_extension": ".py",
   "mimetype": "text/x-python",
   "name": "python",
   "nbconvert_exporter": "python",
   "pygments_lexer": "ipython3",
   "version": "3.6.8"
  }
 },
 "nbformat": 4,
 "nbformat_minor": 2
}
