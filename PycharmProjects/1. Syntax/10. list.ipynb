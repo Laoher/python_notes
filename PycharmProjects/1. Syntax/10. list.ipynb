{
 "cells": [
  {
   "cell_type": "code",
   "execution_count": null,
   "metadata": {},
   "outputs": [],
   "source": [
    "import numpy as np\n",
    "# list comprehension\n",
    "# 这个的语法为 [operation for item in list]\n",
    "temperatures = [-5, 29, 26, -7, 1, 18, 12, 31]\n",
    "temperatures_adjusted = [15, 49, 46, 13, 21, 38, 32, 51]\n",
    "temperatures_adjusted_comprehension =[temp +20 for temp in temperatures]  # 这里就使得创建新list变简单了\n",
    "\n",
    "# 同时用到两个list的list comprehensive\n",
    "school_a_x = [0.8, 2.8, 4.8, 6.8, 8.8]\n",
    "school_b_x = [1.6, 3.6, 5.6, 7.6, 9.6]\n",
    "middle_x = [(a + b) / 2.0 for a, b in zip(school_a_x, school_b_x)]\n",
    "\n",
    "# 用到一个元素两次\n",
    "nested_lists = [[4, 8], [15, 16], [23, 42]]\n",
    "product = [i*j for (i,j)in nested_lists]\n",
    "\n",
    "# 创建一个list 前一千个是0 后一千个是1\n",
    "ls= [0]*1000+[1]*1000\n",
    "print(ls)\n",
    "\n",
    "# 访问列表中的值 用中括号\n",
    "list1 = ['physics', 'chemistry', 1997, 2000]\n",
    "print(\"list1[0]: \", list1[0])\n",
    "\n",
    "# 插入元素 insert\n",
    "member = [\"apple\",'banana',\"pineapple\",\"orange\"]\n",
    "member.insert(0,\"pear\")\n",
    "print(member)\n",
    "\n",
    "# 创建迭代器对象\n",
    "list1=[1,2,3,4]\n",
    "it = iter(list1)    # 创建迭代器对象\n",
    "for i in it:\n",
    "    print(i)\n",
    "\n",
    "temperatures = [-5, 29, 26, -7, 1, 18, 12, 31]\n",
    "\n",
    "add =[-5, 29, 26, -7, 1, 18, 12, 31]\n",
    "print(temperatures+add)  # 这样只能加在后面\n",
    "print(np.array(list(zip(temperatures,add))))  # 这样可以成对儿合并\n",
    "\n",
    "# +能直接合并两个list\n"
   ]
  }
 ],
 "metadata": {
  "kernelspec": {
   "display_name": "Python 3",
   "language": "python",
   "name": "python3"
  },
  "language_info": {
   "codemirror_mode": {
    "name": "ipython",
    "version": 3
   },
   "file_extension": ".py",
   "mimetype": "text/x-python",
   "name": "python",
   "nbconvert_exporter": "python",
   "pygments_lexer": "ipython3",
   "version": "3.6.8"
  }
 },
 "nbformat": 4,
 "nbformat_minor": 2
}
