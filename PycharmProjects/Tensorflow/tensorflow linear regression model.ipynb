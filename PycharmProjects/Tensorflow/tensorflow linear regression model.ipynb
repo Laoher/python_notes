{
 "cells": [
  {
   "cell_type": "code",
   "execution_count": 1,
   "metadata": {},
   "outputs": [
    {
     "name": "stderr",
     "output_type": "stream",
     "text": [
      "UsageError: unrecognized arguments: # 有了这个就可以省略plt.show()了\n"
     ]
    }
   ],
   "source": [
    "import tensorflow as tf\n",
    "import numpy as np\n",
    "import matplotlib.pyplot as plt\n",
    "%matplotlib inline # 有了这个就可以省略plt.show()了"
   ]
  },
  {
   "cell_type": "code",
   "execution_count": null,
   "metadata": {},
   "outputs": [],
   "source": [
    "w =0.1\n",
    "b=0.3\n",
    "num_points = 1000\n",
    "vectors_set = []\n",
    "for i in range(num_points):\n",
    "    x = np.random.normal(0,0.55)\n",
    "    y = w*x +b +np.random.normal(0,0.03)\n",
    "    vectors_set.append([x,y])\n",
    "\n",
    "x_data = [v[0] for v in vectors_set]\n",
    "y_data = [v[1] for v in vectors_set]\n",
    "\n",
    "plt.scatter(x_data,y_data,c='r')"
   ]
  },
  {
   "cell_type": "code",
   "execution_count": null,
   "metadata": {},
   "outputs": [],
   "source": [
    "# 生成1维的W矩阵,取值是[-1,1]之间的随机数\n",
    "W = tf.Variable(tf.random_uniform([1],-1.0,1.0), name = 'W')\n",
    "# 生成1维的b矩阵,初始值是0\n",
    "b = tf.Variable(tf.zeros([1]),name='b')\n",
    "# 经过计算得出预估值y\n",
    "y = W * x_data + b\n",
    "\n",
    "# 以预估值y和实际值y_data之间的均方误差作为损失\n",
    "loss = tf.reduce_mean(tf.square(y - y_data), name='loss')\n",
    "# 采用梯度下降法来优化参数\n",
    "optimizer = tf.train.GradientDescentOptimizer(0.5)\n",
    "# 训练的过程就是最小化这个误差值\n",
    "train = optimizer.minimize(loss, name='train')\n",
    "\n",
    "sess = tf.Session()\n",
    "\n",
    "init = tf.global_variables_initializer()\n",
    "sess.run(init)\n",
    "\n",
    "#初始化的W和b是多少\n",
    "print(\"W =\", sess.run(W), \"b=\", sess.run(b), \"loss = \", sess.run(loss))\n",
    "#执行20次训练\n",
    "for step in range(20):\n",
    "    sess.run(train)\n",
    "    #输出训练好的W和b\n",
    "    print(\"W =\", sess.run(W), \"b=\", sess.run(b), \"loss = \", sess.run(loss))"
   ]
  },
  {
   "cell_type": "code",
   "execution_count": null,
   "metadata": {},
   "outputs": [],
   "source": [
    "plt.scatter(x_data,y_data,c='r')\n",
    "plt.plot(x_data,sess.run(W)*x_data+sess.run(b))"
   ]
  },
  {
   "cell_type": "code",
   "execution_count": null,
   "metadata": {},
   "outputs": [],
   "source": []
  }
 ],
 "metadata": {
  "kernelspec": {
   "display_name": "Python 3",
   "language": "python",
   "name": "python3"
  },
  "language_info": {
   "codemirror_mode": {
    "name": "ipython",
    "version": 3
   },
   "file_extension": ".py",
   "mimetype": "text/x-python",
   "name": "python",
   "nbconvert_exporter": "python",
   "pygments_lexer": "ipython3",
   "version": "3.6.8"
  }
 },
 "nbformat": 4,
 "nbformat_minor": 2
}
