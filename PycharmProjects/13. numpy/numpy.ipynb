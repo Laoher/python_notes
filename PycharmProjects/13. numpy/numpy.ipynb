{
 "cells": [
  {
   "cell_type": "code",
   "execution_count": 51,
   "metadata": {},
   "outputs": [
    {
     "name": "stdout",
     "output_type": "stream",
     "text": [
      "Using matplotlib backend: MacOSX\n",
      "Populating the interactive namespace from numpy and matplotlib\n"
     ]
    },
    {
     "name": "stderr",
     "output_type": "stream",
     "text": [
      "/Users/tyler/anaconda/lib/python3.6/site-packages/IPython/core/magics/pylab.py:161: UserWarning: pylab import has clobbered these variables: ['random']\n",
      "`%matplotlib` prevents importing * from pylab and numpy\n",
      "  \"\\n`%matplotlib` prevents importing * from pylab and numpy\"\n"
     ]
    }
   ],
   "source": [
    "%pylab"
   ]
  },
  {
   "cell_type": "code",
   "execution_count": 2,
   "metadata": {
    "collapsed": true
   },
   "outputs": [],
   "source": [
    "set_printoptions(precision=2,suppress='True')"
   ]
  },
  {
   "cell_type": "code",
   "execution_count": 3,
   "metadata": {
    "collapsed": true
   },
   "outputs": [],
   "source": [
    "a = linspace(0,12,100).astype(float)"
   ]
  },
  {
   "cell_type": "code",
   "execution_count": 4,
   "metadata": {},
   "outputs": [
    {
     "data": {
      "text/plain": [
       "array([[ 0.  ,  0.12,  0.24,  0.36,  0.48,  0.61,  0.73,  0.85,  0.97,\n",
       "         1.09,  1.21,  1.33,  1.45,  1.58,  1.7 ,  1.82,  1.94,  2.06,\n",
       "         2.18,  2.3 ,  2.42,  2.55,  2.67,  2.79,  2.91,  3.03,  3.15,\n",
       "         3.27,  3.39,  3.52,  3.64,  3.76,  3.88,  4.  ,  4.12,  4.24,\n",
       "         4.36,  4.48,  4.61,  4.73,  4.85,  4.97,  5.09,  5.21,  5.33,\n",
       "         5.45,  5.58,  5.7 ,  5.82,  5.94],\n",
       "       [ 6.06,  6.18,  6.3 ,  6.42,  6.55,  6.67,  6.79,  6.91,  7.03,\n",
       "         7.15,  7.27,  7.39,  7.52,  7.64,  7.76,  7.88,  8.  ,  8.12,\n",
       "         8.24,  8.36,  8.48,  8.61,  8.73,  8.85,  8.97,  9.09,  9.21,\n",
       "         9.33,  9.45,  9.58,  9.7 ,  9.82,  9.94, 10.06, 10.18, 10.3 ,\n",
       "        10.42, 10.55, 10.67, 10.79, 10.91, 11.03, 11.15, 11.27, 11.39,\n",
       "        11.52, 11.64, 11.76, 11.88, 12.  ]])"
      ]
     },
     "execution_count": 4,
     "metadata": {},
     "output_type": "execute_result"
    }
   ],
   "source": [
    "a.reshape(2,-1)"
   ]
  },
  {
   "cell_type": "code",
   "execution_count": 5,
   "metadata": {},
   "outputs": [
    {
     "data": {
      "text/plain": [
       "array([ 0.  ,  0.12,  0.24,  0.36,  0.48,  0.61,  0.73,  0.85,  0.97,\n",
       "        1.09,  1.21,  1.33,  1.45,  1.58,  1.7 ,  1.82,  1.94,  2.06,\n",
       "        2.18,  2.3 ,  2.42,  2.55,  2.67,  2.79,  2.91,  3.03,  3.15,\n",
       "        3.27,  3.39,  3.52,  3.64,  3.76,  3.88,  4.  ,  4.12,  4.24,\n",
       "        4.36,  4.48,  4.61,  4.73,  4.85,  4.97,  5.09,  5.21,  5.33,\n",
       "        5.45,  5.58,  5.7 ,  5.82,  5.94,  6.06,  6.18,  6.3 ,  6.42,\n",
       "        6.55,  6.67,  6.79,  6.91,  7.03,  7.15,  7.27,  7.39,  7.52,\n",
       "        7.64,  7.76,  7.88,  8.  ,  8.12,  8.24,  8.36,  8.48,  8.61,\n",
       "        8.73,  8.85,  8.97,  9.09,  9.21,  9.33,  9.45,  9.58,  9.7 ,\n",
       "        9.82,  9.94, 10.06, 10.18, 10.3 , 10.42, 10.55, 10.67, 10.79,\n",
       "       10.91, 11.03, 11.15, 11.27, 11.39, 11.52, 11.64, 11.76, 11.88,\n",
       "       12.  ])"
      ]
     },
     "execution_count": 5,
     "metadata": {},
     "output_type": "execute_result"
    }
   ],
   "source": [
    "a"
   ]
  },
  {
   "cell_type": "code",
   "execution_count": 6,
   "metadata": {},
   "outputs": [
    {
     "data": {
      "text/plain": [
       "dtype('float64')"
      ]
     },
     "execution_count": 6,
     "metadata": {},
     "output_type": "execute_result"
    }
   ],
   "source": [
    "a.dtype"
   ]
  },
  {
   "cell_type": "code",
   "execution_count": 7,
   "metadata": {},
   "outputs": [
    {
     "data": {
      "text/plain": [
       "8"
      ]
     },
     "execution_count": 7,
     "metadata": {},
     "output_type": "execute_result"
    }
   ],
   "source": [
    "a.itemsize"
   ]
  },
  {
   "cell_type": "code",
   "execution_count": 8,
   "metadata": {},
   "outputs": [
    {
     "data": {
      "text/plain": [
       "array([[0., 0.],\n",
       "       [0., 0.],\n",
       "       [0., 0.]])"
      ]
     },
     "execution_count": 8,
     "metadata": {},
     "output_type": "execute_result"
    }
   ],
   "source": [
    "a = zeros((3,2))\n",
    "a"
   ]
  },
  {
   "cell_type": "code",
   "execution_count": 9,
   "metadata": {},
   "outputs": [
    {
     "data": {
      "text/plain": [
       "array([[1, 1],\n",
       "       [1, 1],\n",
       "       [1, 1]], dtype=int8)"
      ]
     },
     "execution_count": 9,
     "metadata": {},
     "output_type": "execute_result"
    }
   ],
   "source": [
    "a = ones((3,2),dtype=int8)\n",
    "a"
   ]
  },
  {
   "cell_type": "code",
   "execution_count": 10,
   "metadata": {},
   "outputs": [
    {
     "data": {
      "text/plain": [
       "dtype('int8')"
      ]
     },
     "execution_count": 10,
     "metadata": {},
     "output_type": "execute_result"
    }
   ],
   "source": [
    "a.dtype"
   ]
  },
  {
   "cell_type": "code",
   "execution_count": 80,
   "metadata": {},
   "outputs": [
    {
     "data": {
      "text/plain": [
       "array([ 2,  3,  4,  9,  4,  7,  1,  8, 10,  1,  6,  1])"
      ]
     },
     "execution_count": 80,
     "metadata": {},
     "output_type": "execute_result"
    }
   ],
   "source": [
    "a=random.randint(1,11,12)\n",
    "a"
   ]
  },
  {
   "cell_type": "code",
   "execution_count": 83,
   "metadata": {},
   "outputs": [],
   "source": [
    "a=a.reshape(3,2,2)"
   ]
  },
  {
   "cell_type": "code",
   "execution_count": 84,
   "metadata": {},
   "outputs": [
    {
     "data": {
      "text/plain": [
       "array([[[ 2,  3],\n",
       "        [ 4,  9]],\n",
       "\n",
       "       [[ 4,  7],\n",
       "        [ 1,  8]],\n",
       "\n",
       "       [[10,  1],\n",
       "        [ 6,  1]]])"
      ]
     },
     "execution_count": 84,
     "metadata": {},
     "output_type": "execute_result"
    }
   ],
   "source": [
    "a"
   ]
  },
  {
   "cell_type": "code",
   "execution_count": 85,
   "metadata": {
    "scrolled": true
   },
   "outputs": [
    {
     "data": {
      "text/plain": [
       "array([[16, 11],\n",
       "       [11, 18]])"
      ]
     },
     "execution_count": 85,
     "metadata": {},
     "output_type": "execute_result"
    }
   ],
   "source": [
    "a.sum(axis=0)"
   ]
  },
  {
   "cell_type": "code",
   "execution_count": 89,
   "metadata": {},
   "outputs": [
    {
     "data": {
      "text/plain": [
       "array([[[ 2],\n",
       "        [ 4]],\n",
       "\n",
       "       [[ 4],\n",
       "        [ 1]],\n",
       "\n",
       "       [[10],\n",
       "        [ 6]]])"
      ]
     },
     "execution_count": 89,
     "metadata": {},
     "output_type": "execute_result"
    }
   ],
   "source": [
    "a[:,:,:1]"
   ]
  },
  {
   "cell_type": "code",
   "execution_count": 90,
   "metadata": {},
   "outputs": [
    {
     "data": {
      "text/plain": [
       "array([[[  4,   9],\n",
       "        [ 16,  81]],\n",
       "\n",
       "       [[ 16,  49],\n",
       "        [  1,  64]],\n",
       "\n",
       "       [[100,   1],\n",
       "        [ 36,   1]]])"
      ]
     },
     "execution_count": 90,
     "metadata": {},
     "output_type": "execute_result"
    }
   ],
   "source": [
    "a*a"
   ]
  },
  {
   "cell_type": "code",
   "execution_count": null,
   "metadata": {
    "collapsed": true
   },
   "outputs": [],
   "source": []
  }
 ],
 "metadata": {
  "kernelspec": {
   "display_name": "Python 3",
   "language": "python",
   "name": "python3"
  },
  "language_info": {
   "codemirror_mode": {
    "name": "ipython",
    "version": 3
   },
   "file_extension": ".py",
   "mimetype": "text/x-python",
   "name": "python",
   "nbconvert_exporter": "python",
   "pygments_lexer": "ipython3",
   "version": "3.6.8"
  }
 },
 "nbformat": 4,
 "nbformat_minor": 2
}
