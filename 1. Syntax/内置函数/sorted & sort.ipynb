{
 "cells": [
  {
   "cell_type": "code",
   "execution_count": 1,
   "metadata": {},
   "outputs": [
    {
     "name": "stdout",
     "output_type": "stream",
     "text": [
      "['新疆维吾尔自治区', '广西壮族自治区', '内蒙古自治区', '西藏自治区', '青海省']\n"
     ]
    }
   ],
   "source": [
    "# sorted(iterable, cmp=None, key=None, reverse=False)\n",
    "# iterable：是可迭代类型;\n",
    "# cmp：用于比较的函数，比较什么由key决定;\n",
    "# key：用列表元素的某个属性或函数进行作为关键字，有默认值，迭代集合中的一项;\n",
    "# reverse：排序规则. reverse = True  降序 或者 reverse = False 升序，有默认值。\n",
    "\n",
    "myList = ['青海省','内蒙古自治区','西藏自治区','新疆维吾尔自治区','广西壮族自治区']  \n",
    "myList1 = sorted(myList,key = lambda i:len(i),reverse=True)  \n",
    "# myList.sort(key = lambda i:len(i),reverse=True) \n",
    "print(myList1) "
   ]
  },
  {
   "cell_type": "code",
   "execution_count": null,
   "metadata": {},
   "outputs": [],
   "source": []
  },
  {
   "cell_type": "code",
   "execution_count": null,
   "metadata": {},
   "outputs": [],
   "source": []
  }
 ],
 "metadata": {
  "kernelspec": {
   "display_name": "Python 3",
   "language": "python",
   "name": "python3"
  },
  "language_info": {
   "codemirror_mode": {
    "name": "ipython",
    "version": 3
   },
   "file_extension": ".py",
   "mimetype": "text/x-python",
   "name": "python",
   "nbconvert_exporter": "python",
   "pygments_lexer": "ipython3",
   "version": "3.6.8"
  }
 },
 "nbformat": 4,
 "nbformat_minor": 2
}
