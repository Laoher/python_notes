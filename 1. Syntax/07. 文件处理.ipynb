{
 "cells": [
  {
   "cell_type": "code",
   "execution_count": 4,
   "metadata": {},
   "outputs": [],
   "source": [
    "import os"
   ]
  },
  {
   "cell_type": "code",
   "execution_count": 11,
   "metadata": {},
   "outputs": [
    {
     "name": "stdout",
     "output_type": "stream",
     "text": [
      "total 184\r\n",
      "-rw-------@  1 zhangchenxi  staff   1.8K Nov  9 14:21 tyler.pem\r\n",
      "drwxr-xr-x   7 zhangchenxi  staff   224B Jan  7 16:44 \u001b[34mtf2\u001b[m\u001b[m/\r\n",
      "drwxr-xr-x  25 zhangchenxi  staff   800B Jan 11 15:31 \u001b[34mpython_notes\u001b[m\u001b[m/\r\n",
      "drwxr-xr-x  27 zhangchenxi  staff   864B Jan 11 16:34 \u001b[34mnotes-python\u001b[m\u001b[m/\r\n",
      "drwxr-xr-x  43 zhangchenxi  staff   1.3K Jan 11 11:40 \u001b[34mnn-framework\u001b[m\u001b[m/\r\n",
      "drwxr-xr-x   5 zhangchenxi  staff   160B Dec 30 15:15 \u001b[34mmllc\u001b[m\u001b[m/\r\n",
      "-rw-r--r--@  1 zhangchenxi  staff    92B Nov 10 13:51 ed25519.txt.pub\r\n",
      "-rw-------@  1 zhangchenxi  staff   444B Nov 10 13:51 ed25519.txt\r\n",
      "drwxr-xr-x  27 zhangchenxi  staff   864B Jan  4 14:32 \u001b[34manaconda3\u001b[m\u001b[m/\r\n",
      "drwxr-xr-x   3 zhangchenxi  staff    96B Nov 18 14:52 \u001b[34mWeChatProjects\u001b[m\u001b[m/\r\n",
      "drwxr-xr-x   6 zhangchenxi  staff   192B Dec 21 18:00 \u001b[34mPycharmProjects\u001b[m\u001b[m/\r\n",
      "drwxr-xr-x+  4 zhangchenxi  staff   128B Nov  2 11:27 \u001b[34mPublic\u001b[m\u001b[m/\r\n",
      "drwxr-xr-x   3 zhangchenxi  staff    96B Nov 13 12:01 \u001b[34mPostman\u001b[m\u001b[m/\r\n",
      "drwx------+  3 zhangchenxi  staff    96B Nov  2 11:27 \u001b[34mPictures\u001b[m\u001b[m/\r\n",
      "drwx------+  3 zhangchenxi  staff    96B Nov  2 11:27 \u001b[34mMusic\u001b[m\u001b[m/\r\n",
      "drwx------+  3 zhangchenxi  staff    96B Nov  2 11:27 \u001b[34mMovies\u001b[m\u001b[m/\r\n",
      "drwx------@ 68 zhangchenxi  staff   2.1K Dec 29 12:48 \u001b[34mLibrary\u001b[m\u001b[m/\r\n",
      "drwx------+ 49 zhangchenxi  staff   1.5K Jan 11 15:42 \u001b[34mDownloads\u001b[m\u001b[m/\r\n",
      "drwx------+ 11 zhangchenxi  staff   352B Nov 27 10:30 \u001b[34mDocuments\u001b[m\u001b[m/\r\n",
      "drwx------+  6 zhangchenxi  staff   192B Jan  8 16:32 \u001b[34mDesktop\u001b[m\u001b[m/\r\n",
      "-rw-r--r--@  1 zhangchenxi  staff    76K Dec  4 17:40 BL.yaml\r\n",
      "drwx------@  4 zhangchenxi  staff   128B Nov  2 11:33 \u001b[34mApplications\u001b[m\u001b[m/\r\n"
     ]
    }
   ],
   "source": [
    "ls -rlh"
   ]
  },
  {
   "cell_type": "code",
   "execution_count": 2,
   "metadata": {},
   "outputs": [],
   "source": [
    "f = open('data.txt', 'w')\n",
    "f.write('1 2 3 4\\n')\n",
    "f.write('2 3 4 5\\n')\n",
    "f.close()"
   ]
  },
  {
   "cell_type": "code",
   "execution_count": 3,
   "metadata": {},
   "outputs": [
    {
     "data": {
      "text/plain": [
       "[[1, 2, 3, 4], [2, 3, 4, 5]]"
      ]
     },
     "execution_count": 3,
     "metadata": {},
     "output_type": "execute_result"
    }
   ],
   "source": [
    "f = open('data.txt')\n",
    "data = []\n",
    "for line in f:\n",
    "    data.append([int(field) for field in line.split()])\n",
    "f.close()\n",
    "data"
   ]
  },
  {
   "cell_type": "code",
   "execution_count": 5,
   "metadata": {},
   "outputs": [],
   "source": [
    "os.remove('data.txt')"
   ]
  },
  {
   "cell_type": "code",
   "execution_count": null,
   "metadata": {},
   "outputs": [],
   "source": []
  }
 ],
 "metadata": {
  "kernelspec": {
   "display_name": "Python 3",
   "language": "python",
   "name": "python3"
  },
  "language_info": {
   "codemirror_mode": {
    "name": "ipython",
    "version": 3
   },
   "file_extension": ".py",
   "mimetype": "text/x-python",
   "name": "python",
   "nbconvert_exporter": "python",
   "pygments_lexer": "ipython3",
   "version": "3.6.12"
  }
 },
 "nbformat": 4,
 "nbformat_minor": 4
}
