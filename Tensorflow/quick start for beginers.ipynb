{
 "cells": [
  {
   "cell_type": "code",
   "execution_count": 100,
   "metadata": {},
   "outputs": [],
   "source": [
    "import tensorflow as tf\n",
    "from tensorflow.keras.layers import Dropout,Flatten,Dense\n",
    "from tensorflow.keras.models import Sequential\n",
    "import numpy as np"
   ]
  },
  {
   "cell_type": "code",
   "execution_count": 101,
   "metadata": {},
   "outputs": [],
   "source": [
    "mnist = tf.keras.datasets.mnist\n",
    "\n",
    "(x_train, y_train),(x_test, y_test) = mnist.load_data()\n",
    "x_train, x_test = x_train/255, x_test/255"
   ]
  },
  {
   "cell_type": "code",
   "execution_count": 102,
   "metadata": {},
   "outputs": [],
   "source": [
    "model = Sequential([\n",
    "    Flatten(input_shape = (28,28)),\n",
    "    Dense(128,activation=\"relu\"),\n",
    "    Dropout(0.2),\n",
    "    Dense(10)\n",
    "])"
   ]
  },
  {
   "cell_type": "code",
   "execution_count": 103,
   "metadata": {},
   "outputs": [
    {
     "data": {
      "text/plain": [
       "array([[ 0.39725667, -0.3244596 , -0.08850849,  0.2153718 ,  0.10499106,\n",
       "         0.6291433 , -0.827528  ,  0.08103852, -0.13066149, -0.13936271]],\n",
       "      dtype=float32)"
      ]
     },
     "execution_count": 103,
     "metadata": {},
     "output_type": "execute_result"
    }
   ],
   "source": [
    "prediction = model(x_train[:1]).numpy()\n",
    "prediction"
   ]
  },
  {
   "cell_type": "code",
   "execution_count": 104,
   "metadata": {},
   "outputs": [
    {
     "data": {
      "text/plain": [
       "array([[0.14006263, 0.06805889, 0.0861702 , 0.11676984, 0.10456659,\n",
       "        0.17661572, 0.04115334, 0.10209171, 0.08261336, 0.08189765]],\n",
       "      dtype=float32)"
      ]
     },
     "execution_count": 104,
     "metadata": {},
     "output_type": "execute_result"
    }
   ],
   "source": [
    "tf.nn.softmax(prediction).numpy()"
   ]
  },
  {
   "cell_type": "code",
   "execution_count": 105,
   "metadata": {},
   "outputs": [],
   "source": [
    "loss_fn = tf.keras.losses.SparseCategoricalCrossentropy(from_logits=True)"
   ]
  },
  {
   "cell_type": "code",
   "execution_count": 106,
   "metadata": {},
   "outputs": [
    {
     "data": {
      "text/plain": [
       "2.2586234"
      ]
     },
     "execution_count": 106,
     "metadata": {},
     "output_type": "execute_result"
    }
   ],
   "source": [
    "loss_fn(y_train[:1], predictions).numpy()"
   ]
  },
  {
   "cell_type": "code",
   "execution_count": 107,
   "metadata": {},
   "outputs": [],
   "source": [
    "model.compile(optimizer='adam',\n",
    "              loss=loss_fn,\n",
    "              metrics=['accuracy'])"
   ]
  },
  {
   "cell_type": "code",
   "execution_count": 108,
   "metadata": {},
   "outputs": [
    {
     "name": "stdout",
     "output_type": "stream",
     "text": [
      "Epoch 1/5\n",
      "1875/1875 [==============================] - 3s 2ms/step - loss: 0.2947 - accuracy: 0.9141\n",
      "Epoch 2/5\n",
      "1875/1875 [==============================] - 3s 1ms/step - loss: 0.1425 - accuracy: 0.9566\n",
      "Epoch 3/5\n",
      "1875/1875 [==============================] - 3s 1ms/step - loss: 0.1053 - accuracy: 0.9680\n",
      "Epoch 4/5\n",
      "1875/1875 [==============================] - 3s 1ms/step - loss: 0.0857 - accuracy: 0.9745\n",
      "Epoch 5/5\n",
      "1875/1875 [==============================] - 3s 2ms/step - loss: 0.0735 - accuracy: 0.9770\n"
     ]
    },
    {
     "data": {
      "text/plain": [
       "<tensorflow.python.keras.callbacks.History at 0x7fc973a43438>"
      ]
     },
     "execution_count": 108,
     "metadata": {},
     "output_type": "execute_result"
    }
   ],
   "source": [
    "model.fit(x_train, y_train, epochs=5)"
   ]
  },
  {
   "cell_type": "code",
   "execution_count": 113,
   "metadata": {},
   "outputs": [
    {
     "name": "stdout",
     "output_type": "stream",
     "text": [
      "313/313 - 0s - loss: 0.0719 - accuracy: 0.9770\n"
     ]
    },
    {
     "data": {
      "text/plain": [
       "[0.07185598462820053, 0.9769999980926514]"
      ]
     },
     "execution_count": 113,
     "metadata": {},
     "output_type": "execute_result"
    }
   ],
   "source": [
    "model.evaluate(x_test,  y_test, verbose=2)\n",
    "# 输出loss和accuracy"
   ]
  },
  {
   "cell_type": "code",
   "execution_count": 110,
   "metadata": {},
   "outputs": [],
   "source": [
    "probability_model = tf.keras.Sequential([\n",
    "  model,\n",
    "  tf.keras.layers.Softmax()\n",
    "])"
   ]
  },
  {
   "cell_type": "code",
   "execution_count": 111,
   "metadata": {},
   "outputs": [
    {
     "data": {
      "text/plain": [
       "<tf.Tensor: shape=(5, 10), dtype=float32, numpy=\n",
       "array([[1.2121450e-08, 2.3389296e-10, 3.2284681e-06, 7.3630268e-05,\n",
       "        4.1975707e-09, 1.0160888e-06, 7.7401349e-14, 9.9991357e-01,\n",
       "        5.8478707e-07, 7.8441863e-06],\n",
       "       [9.7502016e-07, 1.0467056e-04, 9.9967408e-01, 2.1342858e-04,\n",
       "        2.6329982e-14, 3.3902199e-06, 1.6310250e-07, 8.2844764e-12,\n",
       "        3.2991520e-06, 3.3986309e-13],\n",
       "       [1.8053715e-06, 9.9835217e-01, 7.8030971e-05, 4.7159779e-06,\n",
       "        7.4449570e-05, 5.5135552e-05, 5.6439389e-05, 1.1935630e-03,\n",
       "        1.8248455e-04, 1.3107880e-06],\n",
       "       [9.9877602e-01, 2.1891525e-10, 1.0494584e-03, 6.3707853e-07,\n",
       "        1.0915503e-05, 2.1678712e-05, 1.4111773e-05, 5.3939606e-05,\n",
       "        3.7443792e-06, 6.9437403e-05],\n",
       "       [4.0038785e-07, 4.2303519e-10, 1.2988283e-05, 5.6850551e-09,\n",
       "        9.9901533e-01, 6.8011268e-08, 6.9887278e-06, 6.5250577e-05,\n",
       "        1.4299577e-06, 8.9745090e-04]], dtype=float32)>"
      ]
     },
     "execution_count": 111,
     "metadata": {},
     "output_type": "execute_result"
    }
   ],
   "source": [
    "probability_model(x_test[:5])"
   ]
  },
  {
   "cell_type": "code",
   "execution_count": 114,
   "metadata": {},
   "outputs": [
    {
     "data": {
      "text/plain": [
       "<tf.Tensor: shape=(5, 10), dtype=float32, numpy=\n",
       "array([[ -7.044201  , -10.99207   ,  -1.4594154 ,   1.6676333 ,\n",
       "         -8.104673  ,  -2.6154628 , -19.005686  ,  11.184001  ,\n",
       "         -3.1679304 ,  -0.5716503 ],\n",
       "       [ -2.9721029 ,   1.7040119 ,  10.868379  ,   2.4164965 ,\n",
       "        -20.399363  ,  -1.7259114 ,  -4.760183  , -14.647934  ,\n",
       "         -1.7531409 , -17.84153   ],\n",
       "       [ -6.6467    ,   6.5763955 ,  -2.88036   ,  -5.68651   ,\n",
       "         -2.9273436 ,  -3.2276711 ,  -3.2042987 ,  -0.15276776,\n",
       "         -2.0308    ,  -6.9668374 ],\n",
       "       [  7.4179206 , -14.823191  ,   0.55966437,  -6.8472276 ,\n",
       "         -4.0061812 ,  -3.3200343 ,  -3.7493556 ,  -2.4085002 ,\n",
       "         -5.076109  ,  -2.1559398 ],\n",
       "       [ -5.026811  , -11.879544  ,  -1.5474415 ,  -9.2814045 ,\n",
       "          9.703036  ,  -6.799571  ,  -2.1671906 ,   0.06674588,\n",
       "         -3.7538443 ,   2.688069  ]], dtype=float32)>"
      ]
     },
     "execution_count": 114,
     "metadata": {},
     "output_type": "execute_result"
    }
   ],
   "source": [
    "model(x_test[:5])"
   ]
  },
  {
   "cell_type": "code",
   "execution_count": null,
   "metadata": {},
   "outputs": [],
   "source": []
  }
 ],
 "metadata": {
  "kernelspec": {
   "display_name": "Python 3",
   "language": "python",
   "name": "python3"
  },
  "language_info": {
   "codemirror_mode": {
    "name": "ipython",
    "version": 3
   },
   "file_extension": ".py",
   "mimetype": "text/x-python",
   "name": "python",
   "nbconvert_exporter": "python",
   "pygments_lexer": "ipython3",
   "version": "3.6.9"
  }
 },
 "nbformat": 4,
 "nbformat_minor": 4
}
