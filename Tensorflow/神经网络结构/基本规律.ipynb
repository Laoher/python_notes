{
 "cells": [
  {
   "attachments": {},
   "cell_type": "markdown",
   "metadata": {},
   "source": [
    "1∗1卷积核（bottleneck）的作用\n",
    "https://blog.csdn.net/ft_sunshine/article/details/90953784\n",
    "- 特征降维，节省计算量\n",
    "- 增加模型非线性表达能力\n",
    "\n",
    "2014年的GoogLeNet中首先应用 GoogLeNet不仅增加了网络的深度 同时也增加宽度 应用了Inception\n",
    "<img src=\"./Naive Inception module.png\" width=\"640px\" heigth=\"640px\" />\n"
   ]
  },
  {
   "attachments": {},
   "cell_type": "markdown",
   "metadata": {},
   "source": []
  },
  {
   "cell_type": "code",
   "execution_count": null,
   "metadata": {},
   "outputs": [],
   "source": []
  }
 ],
 "metadata": {
  "kernelspec": {
   "display_name": "Python 3",
   "language": "python",
   "name": "python3"
  },
  "language_info": {
   "codemirror_mode": {
    "name": "ipython",
    "version": 3
   },
   "file_extension": ".py",
   "mimetype": "text/x-python",
   "name": "python",
   "nbconvert_exporter": "python",
   "pygments_lexer": "ipython3",
   "version": "3.6.12"
  }
 },
 "nbformat": 4,
 "nbformat_minor": 4
}
