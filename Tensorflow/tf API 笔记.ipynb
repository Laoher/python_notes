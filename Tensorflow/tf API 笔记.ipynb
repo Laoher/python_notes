{
 "cells": [
  {
   "cell_type": "markdown",
   "metadata": {},
   "source": [
    "# tf.newaxis"
   ]
  },
  {
   "cell_type": "markdown",
   "metadata": {},
   "source": [
    "tf.newaxis 和np.newaxis的效果和功能是一样的 所以以下无论是np.newaxis还是tf.newaxis的讲解 理论上都是一样的\n",
    "就是插入在哪个维度就在原shape那个位置加一个1，matrix就会被reshape成那个样子"
   ]
  },
  {
   "cell_type": "code",
   "execution_count": 7,
   "metadata": {},
   "outputs": [
    {
     "name": "stdout",
     "output_type": "stream",
     "text": [
      "[[ 0  1  2  3  4]\n",
      " [ 5  6  7  8  9]\n",
      " [10 11 12 13 14]\n",
      " [15 16 17 18 19]\n",
      " [20 21 22 23 24]]\n",
      "original (5, 5)\n",
      "[[[ 0  1  2  3  4]\n",
      "  [ 5  6  7  8  9]\n",
      "  [10 11 12 13 14]\n",
      "  [15 16 17 18 19]\n",
      "  [20 21 22 23 24]]]\n",
      "used in first dimension (1, 5, 5)\n",
      "[[[ 0  1  2  3  4]]\n",
      "\n",
      " [[ 5  6  7  8  9]]\n",
      "\n",
      " [[10 11 12 13 14]]\n",
      "\n",
      " [[15 16 17 18 19]]\n",
      "\n",
      " [[20 21 22 23 24]]]\n",
      "used in seocnd dimension (5, 1, 5)\n",
      "[[[ 0]\n",
      "  [ 1]\n",
      "  [ 2]\n",
      "  [ 3]\n",
      "  [ 4]]\n",
      "\n",
      " [[ 5]\n",
      "  [ 6]\n",
      "  [ 7]\n",
      "  [ 8]\n",
      "  [ 9]]\n",
      "\n",
      " [[10]\n",
      "  [11]\n",
      "  [12]\n",
      "  [13]\n",
      "  [14]]\n",
      "\n",
      " [[15]\n",
      "  [16]\n",
      "  [17]\n",
      "  [18]\n",
      "  [19]]\n",
      "\n",
      " [[20]\n",
      "  [21]\n",
      "  [22]\n",
      "  [23]\n",
      "  [24]]]\n",
      "used in third dimension (5, 5, 1)\n"
     ]
    }
   ],
   "source": [
    "import numpy as np\n",
    "#原始数据集维度\n",
    "data = np.arange(25).reshape((5,5))\n",
    "print(data)\n",
    "print(\"original\",data.shape)\n",
    "\n",
    "#np.newaxis用在第一维度\n",
    "data_1 = data[np.newaxis,:]\n",
    "print(data_1)\n",
    "print(\"used in first dimension\",data_1.shape)\n",
    "\n",
    "#np.newaxis放在第二个参数位置\n",
    "data_2 = data[:,np.newaxis,] # 或者data[:,np.newaxis,...] 或者 data[:,np.newaxis]\n",
    "print(data_2)\n",
    "print(\"used in seocnd dimension\",data_2.shape)\n",
    "\n",
    "#np.newaxis放在第三个参数位置\n",
    "data_3 = data[:,...,np.newaxis]\n",
    "print(data_3)\n",
    "print(\"used in third dimension\",data_3.shape)"
   ]
  },
  {
   "cell_type": "markdown",
   "metadata": {},
   "source": [
    "用none的效果和np.newaxis一样\n",
    "...是省略所有的冒号来用省略号代替,大家看这个a[:, :, None]和a[…, None]的输出是一样的，就是因为…代替了前面两个冒号"
   ]
  }
 ],
 "metadata": {
  "kernelspec": {
   "display_name": "Python 3",
   "language": "python",
   "name": "python3"
  },
  "language_info": {
   "codemirror_mode": {
    "name": "ipython",
    "version": 3
   },
   "file_extension": ".py",
   "mimetype": "text/x-python",
   "name": "python",
   "nbconvert_exporter": "python",
   "pygments_lexer": "ipython3",
   "version": "3.6.9"
  }
 },
 "nbformat": 4,
 "nbformat_minor": 4
}
