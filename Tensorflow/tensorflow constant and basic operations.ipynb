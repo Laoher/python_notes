{
 "cells": [
  {
   "cell_type": "code",
   "execution_count": 2,
   "metadata": {},
   "outputs": [],
   "source": [
    "import tensorflow as tf"
   ]
  },
  {
   "cell_type": "code",
   "execution_count": 3,
   "metadata": {},
   "outputs": [
    {
     "data": {
      "text/plain": [
       "'1.14.0'"
      ]
     },
     "execution_count": 3,
     "metadata": {},
     "output_type": "execute_result"
    }
   ],
   "source": [
    "tf.__version__"
   ]
  },
  {
   "cell_type": "markdown",
   "metadata": {},
   "source": [
    "pb 是 protocol buffer的缩写 是Google提供的一种数据序列化协议\n",
    "是一种轻便高效的结构化数据存储格式，可以用于结构化数据序列化，很适合做数据存储或 RPC 数据交换格式。它可用于通讯协议、数据存储等领域的语言无关、平台无关、可扩展的序列化结构数据格式。"
   ]
  },
  {
   "cell_type": "markdown",
   "metadata": {},
   "source": [
    "# 矩阵乘法 零矩阵 ones constant range linspace"
   ]
  },
  {
   "cell_type": "code",
   "execution_count": 4,
   "metadata": {},
   "outputs": [
    {
     "name": "stdout",
     "output_type": "stream",
     "text": [
      "[[76]\n",
      " [71]]\n",
      "Tensor(\"ones:0\", shape=(2, 4), dtype=float32)\n",
      "[[1. 1. 1. 1.]\n",
      " [1. 1. 1. 1.]]\n",
      "[[1 1 1]\n",
      " [1 1 1]]\n",
      "[[1 2 3]\n",
      " [4 5 6]]\n",
      "[[17]]\n",
      "[[2]\n",
      " [3]]\n",
      "Tensor(\"zeros_like:0\", shape=(2, 3), dtype=int32)\n"
     ]
    }
   ],
   "source": [
    "# w and x are variables, y is operation\n",
    "tensor = tf.Variable([[1,2,3],[4,5,6]]) # 是不是variable形式的tensor都可以\n",
    "w = tf.Variable([[18,3,1],[6,5,4]])\n",
    "x = tf.Variable([[3],[5],[7]])\n",
    "y = tf.matmul(w,x)\n",
    "# global_variables_initializer() is to do initalization for all the variables\n",
    "init_op = tf.global_variables_initializer()\n",
    "with tf.Session() as sess:\n",
    "    sess.run(init_op)\n",
    "    print(y.eval())\n",
    "# print(w)\n",
    "\n",
    "# 形式很接近numpy\n",
    "# 格式以float32为主\n",
    "t1 = tf.zeros([3,4],tf.int32) # [[0,0,0,0],[0,0,0,0],[0,0,0,0]]\n",
    "# tensor = tf.Variable([[1,2,3],[4,5,6]])\n",
    "t2 = tf.zeros_like(tensor) # [[0 0 0], [0 0 0]]\n",
    "t3 = tf.ones([2,4],tf.float32) # [[1. 1. 1. 1.],[1. 1. 1. 1.]]\n",
    "t4 = tf.ones_like(tensor) # [[1 1 1],[1 1 1]]\n",
    "y = t2+tensor\n",
    "print(t3)\n",
    "with tf.Session() as sess:\n",
    "    print(t3.eval())\n",
    "    print(t4.eval())\n",
    "    sess.run(tf.global_variables_initializer()) # 当有运算的时候必须初始化,不是运算可以直接在sess中.eval()\n",
    "    print(y.eval())\n",
    "    \n",
    "\n",
    "m1=tf.constant([[4,3]],tf.int32,name = 'first_value')\n",
    "m2=tf.constant([[2],[3]],tf.int32)\n",
    "m3=tf.constant(-1.0, shape=[2,3]) # [[-1. -1. -1.],[ -1. -1. -1.]]\n",
    "m3 = tf.constant(\"Guru\", tf.string)\n",
    "m4 = tf.zeros(10)\n",
    "m4=tf.linspace(10.0, 12.0, 3, name=\"linspace\") # [10.0 11.0 12.0]\n",
    "m5=tf.range(3, 18, 3) # [3,6,9,12,15]\n",
    "product = tf.matmul(m1,m2)\n",
    "\n",
    "with tf.Session() as sess:  # can also be sess =tf.Session()\n",
    "    result = sess.run(product) # this method is to run a specific operation\n",
    "    print(result)\n",
    "    sess.run(tf.global_variables_initializer()) # this method is to run all the operations\n",
    "    print(sess.run(m2))\n",
    "    print(t2)\n"
   ]
  },
  {
   "cell_type": "markdown",
   "metadata": {},
   "source": [
    "# Variable 和 get_variable"
   ]
  },
  {
   "cell_type": "code",
   "execution_count": 5,
   "metadata": {
    "scrolled": false
   },
   "outputs": [
    {
     "name": "stderr",
     "output_type": "stream",
     "text": [
      "WARNING: Logging before flag parsing goes to stderr.\n",
      "W1206 22:28:45.966649 4459296192 deprecation.py:506] From /Users/tyler/anaconda/envs/tylertf/lib/python3.6/site-packages/tensorflow/python/ops/init_ops.py:1251: calling VarianceScaling.__init__ (from tensorflow.python.ops.init_ops) with dtype is deprecated and will be removed in a future version.\n",
      "Instructions for updating:\n",
      "Call initializer instance with the dtype argument instead of passing it to the constructor\n"
     ]
    }
   ],
   "source": [
    "with tf.variable_scope(\"one\"):\n",
    "    a = tf.get_variable(\"one\",  [1])\n",
    "with tf.variable_scope(\"one\",reuse = True):\n",
    "    b = tf.get_variable(\"one\", [1])"
   ]
  },
  {
   "cell_type": "code",
   "execution_count": 6,
   "metadata": {},
   "outputs": [
    {
     "name": "stdout",
     "output_type": "stream",
     "text": [
      "var2:0\n",
      "var4:0\n"
     ]
    }
   ],
   "source": [
    "var3 = tf.Variable(3.,dtype=tf.float32,name=\"var2\")\n",
    "print(var3.name)\n",
    "value = [0, 1, 2, 3, 4]\n",
    "init = tf.constant_initializer(value)\n",
    "var4 = tf.get_variable(\"var4\",[5],dtype=tf.float32,initializer=tf.constant_initializer(1.0))\n",
    "var5 = tf.get_variable(\"var5\",[5],dtype=tf.float32,initializer=init)\n",
    "# value = np.array(value)\n",
    "# value = value.reshape([2, 4])\n",
    "init = tf.constant_initializer(value)\n",
    "print(var4.name)"
   ]
  },
  {
   "cell_type": "code",
   "execution_count": 7,
   "metadata": {},
   "outputs": [
    {
     "name": "stdout",
     "output_type": "stream",
     "text": [
      "3.0\n",
      "[1. 1. 1. 1. 1.]\n",
      "[0. 1. 2. 3. 4.]\n"
     ]
    }
   ],
   "source": [
    "init = tf.global_variables_initializer() # prepare to initialize all variables\n",
    "with tf.Session() as sess:\n",
    "    init.run() # Initialize x and z\n",
    "    sess.run(var3)\n",
    "    print(var3.eval())\n",
    "    print(var4.eval())\n",
    "    print(var5.eval())\n",
    "# \n",
    "    "
   ]
  },
  {
   "cell_type": "markdown",
   "metadata": {},
   "source": [
    "# 正态分布随机+shuffle"
   ]
  },
  {
   "cell_type": "code",
   "execution_count": 8,
   "metadata": {},
   "outputs": [
    {
     "name": "stdout",
     "output_type": "stream",
     "text": [
      "[[-1.293839    0.02465451  5.0543985 ]\n",
      " [ 3.039198   -0.9453696  -4.6017265 ]]\n",
      "[[5 6]\n",
      " [1 2]\n",
      " [3 4]]\n"
     ]
    }
   ],
   "source": [
    "norm = tf.random_normal([2,3],mean=-1, stddev=4)\n",
    "\n",
    "# shuffle the first dimension of a tensor\n",
    "c = tf.constant([[1,2],[3,4],[5,6]])\n",
    "shuff = tf.random_shuffle(c)\n",
    "\n",
    "#Each time we run these ops, different results are generated\n",
    "sess = tf.Session()\n",
    "print(sess.run(norm))\n",
    "print(sess.run(shuff))\n"
   ]
  },
  {
   "cell_type": "markdown",
   "metadata": {},
   "source": [
    "# 加法迭代更新\n",
    "\n",
    "###### 这个加法看上去很复杂,但是其实不论是简单的计算还是复杂如forward propagation,可能代码量都差不多"
   ]
  },
  {
   "cell_type": "code",
   "execution_count": 9,
   "metadata": {},
   "outputs": [
    {
     "name": "stdout",
     "output_type": "stream",
     "text": [
      "0\n",
      "1\n",
      "2\n",
      "3\n"
     ]
    }
   ],
   "source": [
    "state = tf.Variable(0)\n",
    "new_value = tf.add(state, tf.constant(1))\n",
    "update = tf.assign(state, new_value)\n",
    "\n",
    "with tf.Session() as sess:\n",
    "    sess.run(tf.global_variables_initializer())\n",
    "    print(sess.run(state))\n",
    "    for _ in range(3):\n",
    "        sess.run(update)\n",
    "        print(sess.run(state))"
   ]
  },
  {
   "cell_type": "markdown",
   "metadata": {},
   "source": [
    " # Saver\n",
    "\n",
    " ###### 这个saver到用到的时候可能比较好理解"
   ]
  },
  {
   "cell_type": "code",
   "execution_count": 10,
   "metadata": {},
   "outputs": [
    {
     "name": "stdout",
     "output_type": "stream",
     "text": [
      "Model saved in file: /Users/tyler/PycharmProjects/Tensorflow\n"
     ]
    }
   ],
   "source": [
    "w = tf.Variable([[0.5,1.0]])\n",
    "x = tf.Variable([[2.0],[1.0]])\n",
    "y = tf.matmul(w,x)\n",
    "init_op = tf.global_variables_initializer()\n",
    "saver =tf.train.Saver()\n",
    "with tf.Session() as sess:\n",
    "    sess.run(init_op)\n",
    "        # do some work with the model.\n",
    "        # save the variables to disk.\n",
    "    save_path = saver.save(sess,\"/Users/tyler/PycharmProjects/Tensorflow/model\")\n",
    "    print(\"Model saved in file:\", save_path)"
   ]
  },
  {
   "cell_type": "markdown",
   "metadata": {},
   "source": [
    "# numpy 形式 convert to tensor"
   ]
  },
  {
   "cell_type": "code",
   "execution_count": 13,
   "metadata": {},
   "outputs": [
    {
     "name": "stdout",
     "output_type": "stream",
     "text": [
      "[[0. 0. 0.]\n",
      " [0. 0. 0.]\n",
      " [0. 0. 0.]]\n"
     ]
    }
   ],
   "source": [
    "import numpy as np\n",
    "a =np.zeros((3,3))\n",
    "ta = tf.convert_to_tensor(a)\n",
    "with tf.Session() as sess:\n",
    "    print(sess.run(ta))"
   ]
  },
  {
   "cell_type": "code",
   "execution_count": 15,
   "metadata": {},
   "outputs": [
    {
     "name": "stdout",
     "output_type": "stream",
     "text": [
      "[array([14.], dtype=float32)]\n"
     ]
    }
   ],
   "source": [
    "input1 = tf.placeholder(tf.float32)\n",
    "input2 = tf.placeholder(tf.float32)\n",
    "output = tf.multiply(input1, input2)\n",
    "with tf.Session() as sess:\n",
    "    print(sess.run([output],feed_dict={input1:[7.],input2:[2.]}))"
   ]
  },
  {
   "cell_type": "code",
   "execution_count": null,
   "metadata": {},
   "outputs": [],
   "source": []
  }
 ],
 "metadata": {
  "kernelspec": {
   "display_name": "Python 3",
   "language": "python",
   "name": "python3"
  },
  "language_info": {
   "codemirror_mode": {
    "name": "ipython",
    "version": 3
   },
   "file_extension": ".py",
   "mimetype": "text/x-python",
   "name": "python",
   "nbconvert_exporter": "python",
   "pygments_lexer": "ipython3",
   "version": "3.6.12"
  }
 },
 "nbformat": 4,
 "nbformat_minor": 2
}
