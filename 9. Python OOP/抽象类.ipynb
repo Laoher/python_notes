{
 "cells": [
  {
   "cell_type": "code",
   "execution_count": 8,
   "metadata": {},
   "outputs": [
    {
     "name": "stdout",
     "output_type": "stream",
     "text": [
      "eat apple\n",
      "not abstract\n"
     ]
    }
   ],
   "source": [
    "from abc import ABCMeta, abstractmethod\n",
    "\n",
    "class Animal(metaclass=ABCMeta):\n",
    "    @abstractmethod\n",
    "    def eat(self, food):\n",
    "        pass\n",
    "    def pre(self):\n",
    "        print(\"not abstract\")\n",
    "\n",
    "class Dog(Animal):\n",
    "    def __init__(self, food):\n",
    "        self.food = food\n",
    "    def eat(self):\n",
    "        print(\"eat %s\" %self.food)\n",
    "dog = Dog(\"apple\")\n",
    "dog.eat()\n",
    "dog.pre()"
   ]
  },
  {
   "cell_type": "code",
   "execution_count": null,
   "metadata": {
    "collapsed": true
   },
   "outputs": [],
   "source": []
  }
 ],
 "metadata": {
  "kernelspec": {
   "display_name": "Python 3",
   "language": "python",
   "name": "python3"
  },
  "language_info": {
   "codemirror_mode": {
    "name": "ipython",
    "version": 3
   },
   "file_extension": ".py",
   "mimetype": "text/x-python",
   "name": "python",
   "nbconvert_exporter": "python",
   "pygments_lexer": "ipython3",
   "version": "3.6.8"
  }
 },
 "nbformat": 4,
 "nbformat_minor": 2
}
