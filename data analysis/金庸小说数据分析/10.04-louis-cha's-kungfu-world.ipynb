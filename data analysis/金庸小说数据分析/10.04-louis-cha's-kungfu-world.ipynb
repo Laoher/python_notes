{
 "cells": [
  {
   "cell_type": "markdown",
   "metadata": {},
   "source": [
    "# 金庸的武侠世界"
   ]
  },
  {
   "cell_type": "markdown",
   "metadata": {},
   "source": [
    "金庸老爷子一共写了15部武侠小说，它们分别是：\n",
    "\n",
    "- 《飞狐外传》（1960年）\n",
    "- 《雪山飞狐》（1959年）\n",
    "- 《连城诀》（1963年）\n",
    "- 《天龙八部》（1963年）\n",
    "- 《射雕英雄传》（1957年）\n",
    "- 《白马啸西风》（1961年）\n",
    "- 《鹿鼎记》（1969年）\n",
    "- 《笑傲江湖》（1967年）\n",
    "- 《书剑恩仇录》（1955年）\n",
    "- 《神雕侠侣》（1959年）\n",
    "- 《侠客行》（1965年）\n",
    "- 《倚天屠龙记》（1961年）\n",
    "- 《碧血剑》（1956年）\n",
    "- 《鸳鸯刀》（1961年）\n",
    "- 《越女剑》（1970年）\n",
    "\n",
    "我们现在就用 `Python` 来探索一下金庸小说中的武侠世界吧。"
   ]
  },
  {
   "cell_type": "markdown",
   "metadata": {},
   "source": [
    "## 准备工作"
   ]
  },
  {
   "cell_type": "markdown",
   "metadata": {},
   "source": [
    "再处理小说之前，我们需要先做一些准备工作。\n",
    "\n",
    "因为涉及中文字符，所以我们使用 `__future__` 中 Python 3 的特性，将所有的字符串转为 `unicode`。"
   ]
  },
  {
   "cell_type": "code",
   "execution_count": 90,
   "metadata": {},
   "outputs": [],
   "source": [
    "from __future__ import unicode_literals"
   ]
  },
  {
   "cell_type": "markdown",
   "metadata": {},
   "source": [
    "再来我们解决图像里中文字符显示的问题，Matplotlib虽然支持 `unicode` 编码，但是直接输出中文字体会出现问题。下面是从网上找到的解决方案"
   ]
  },
  {
   "cell_type": "code",
   "execution_count": 93,
   "metadata": {},
   "outputs": [
    {
     "data": {
      "image/png": "[encoded data removed]",
      "text/plain": [
       "<Figure size 432x288 with 1 Axes>"
      ]
     },
     "metadata": {
      "needs_background": "light"
     },
     "output_type": "display_data"
    }
   ],
   "source": [
    "import numpy as np\n",
    "import scipy as sp\n",
    "import matplotlib\n",
    "import matplotlib.pyplot as plt\n",
    "from matplotlib.font_manager import FontProperties\n",
    "%matplotlib inline\n",
    "# matplotlib.rcParams['font.sans-serif'] = [u'SimHei']\n",
    "# matplotlib.rcParams['axes.unicode_minus'] = False\n",
    "\n",
    "\n",
    "font=FontProperties(fname='/Library/Fonts/fangsong.ttf',size=10)\n",
    "\n",
    "x = range(10)\n",
    "plt.plot(x)\n",
    "plt.title(\"中文\",fontproperties=font)\n",
    "plt.show()"
   ]
  },
  {
   "cell_type": "code",
   "execution_count": 94,
   "metadata": {},
   "outputs": [
    {
     "name": "stdout",
     "output_type": "stream",
     "text": [
      "Al Nile.ttc                      Mishafi Gold.ttf\r\n",
      "Al Tarikh.ttc                    Mishafi.ttf\r\n",
      "AlBayan.ttc                      Mshtakan.ttc\r\n",
      "AmericanTypewriter.ttc           Muna.ttc\r\n",
      "Andale Mono.ttf                  Myanmar MN.ttc\r\n",
      "Apple Chancery.ttf               Myanmar Sangam MN.ttc\r\n",
      "AppleGothic.ttf                  NISC18030.ttf\r\n",
      "AppleMyungjo.ttf                 Nadeem.ttc\r\n",
      "Arial Black.ttf                  NewPeninimMT.ttc\r\n",
      "Arial Bold Italic.ttf            Oriya MN.ttc\r\n",
      "Arial Bold.ttf                   Oriya Sangam MN.ttc\r\n",
      "Arial Italic.ttf                 PTMono.ttc\r\n",
      "Arial Narrow Bold Italic.ttf     PTSans.ttc\r\n",
      "Arial Narrow Bold.ttf            PTSerif.ttc\r\n",
      "Arial Narrow Italic.ttf          PTSerifCaption.ttc\r\n",
      "Arial Narrow.ttf                 Papyrus.ttc\r\n",
      "Arial Rounded Bold.ttf           Phosphate.ttc\r\n",
      "Arial Unicode.ttf                PlantagenetCherokee.ttf\r\n",
      "Arial.ttf                        Raanana.ttc\r\n",
      "Athelas.ttc                      Rockwell.ttc\r\n",
      "Ayuthaya.ttf                     STIXGeneral.otf\r\n",
      "Baghdad.ttc                      STIXGeneralBol.otf\r\n",
      "Bangla MN.ttc                    STIXGeneralBolIta.otf\r\n",
      "Bangla Sangam MN.ttc             STIXGeneralItalic.otf\r\n",
      "Baskerville.ttc                  STIXIntDBol.otf\r\n",
      "Beirut.ttc                       STIXIntDReg.otf\r\n",
      "BigCaslon.ttf                    STIXIntSmBol.otf\r\n",
      "Bodoni 72 OS.ttc                 STIXIntSmReg.otf\r\n",
      "Bodoni 72 Smallcaps Book.ttf     STIXIntUpBol.otf\r\n",
      "Bodoni 72.ttc                    STIXIntUpDBol.otf\r\n",
      "Bodoni Ornaments.ttf             STIXIntUpDReg.otf\r\n",
      "Bradley Hand Bold.ttf            STIXIntUpReg.otf\r\n",
      "Brush Script.ttf                 STIXIntUpSmBol.otf\r\n",
      "Chalkboard.ttc                   STIXIntUpSmReg.otf\r\n",
      "ChalkboardSE.ttc                 STIXNonUni.otf\r\n",
      "Chalkduster.ttf                  STIXNonUniBol.otf\r\n",
      "Charter.ttc                      STIXNonUniBolIta.otf\r\n",
      "Cochin.ttc                       STIXNonUniIta.otf\r\n",
      "Comic Sans MS Bold.ttf           STIXSizFiveSymReg.otf\r\n",
      "Comic Sans MS.ttf                STIXSizFourSymBol.otf\r\n",
      "Copperplate.ttc                  STIXSizFourSymReg.otf\r\n",
      "Corsiva.ttc                      STIXSizOneSymBol.otf\r\n",
      "Courier New Bold Italic.ttf      STIXSizOneSymReg.otf\r\n",
      "Courier New Bold.ttf             STIXSizThreeSymBol.otf\r\n",
      "Courier New Italic.ttf           STIXSizThreeSymReg.otf\r\n",
      "Courier New.ttf                  STIXSizTwoSymBol.otf\r\n",
      "DIN Alternate Bold.ttf           STIXSizTwoSymReg.otf\r\n",
      "DIN Condensed Bold.ttf           STIXVar.otf\r\n",
      "Damascus.ttc                     STIXVarBol.otf\r\n",
      "DecoTypeNaskh.ttc                Sana.ttc\r\n",
      "Devanagari Sangam MN.ttc         Sathu.ttf\r\n",
      "DevanagariMT.ttc                 Savoye LET.ttc\r\n",
      "Didot.ttc                        Seravek.ttc\r\n",
      "Diwan Kufi.ttc                   Shree714.ttc\r\n",
      "Diwan Thuluth.ttf                SignPainter.ttc\r\n",
      "EuphemiaCAS.ttc                  Silom.ttf\r\n",
      "Farah.ttc                        SimHei.ttf\r\n",
      "Farisi.ttf                       Sinhala MN.ttc\r\n",
      "Futura.ttc                       Sinhala Sangam MN.ttc\r\n",
      "Georgia Bold Italic.ttf          Skia.ttf\r\n",
      "Georgia Bold.ttf                 SnellRoundhand.ttc\r\n",
      "Georgia Italic.ttf               Songti.ttc\r\n",
      "Georgia.ttf                      SukhumvitSet.ttc\r\n",
      "GillSans.ttc                     SuperClarendon.ttc\r\n",
      "Gujarati Sangam MN.ttc           Tahoma Bold.ttf\r\n",
      "GujaratiMT.ttc                   Tahoma.ttf\r\n",
      "Gurmukhi MN.ttc                  Tamil MN.ttc\r\n",
      "Gurmukhi Sangam MN.ttc           Tamil Sangam MN.ttc\r\n",
      "Gurmukhi.ttf                     Telugu MN.ttc\r\n",
      "Herculanum.ttf                   Telugu Sangam MN.ttc\r\n",
      "Hoefler Text Ornaments.ttf       Times New Roman Bold Italic.ttf\r\n",
      "Hoefler Text.ttc                 Times New Roman Bold.ttf\r\n",
      "ITFDevanagari.ttc                Times New Roman Italic.ttf\r\n",
      "Impact.ttf                       Times New Roman.ttf\r\n",
      "InaiMathi-MN.ttc                 Trattatello.ttf\r\n",
      "Iowan Old Style.ttc              Trebuchet MS Bold Italic.ttf\r\n",
      "Kailasa.ttc                      Trebuchet MS Bold.ttf\r\n",
      "Kannada MN.ttc                   Trebuchet MS Italic.ttf\r\n",
      "Kannada Sangam MN.ttc            Trebuchet MS.ttf\r\n",
      "Kefa.ttc                         Verdana Bold Italic.ttf\r\n",
      "Khmer MN.ttc                     Verdana Bold.ttf\r\n",
      "Khmer Sangam MN.ttf              Verdana Italic.ttf\r\n",
      "Kokonor.ttf                      Verdana.ttf\r\n",
      "Krungthep.ttf                    Waseem.ttc\r\n",
      "KufiStandardGK.ttc               Webdings.ttf\r\n",
      "Lao MN.ttc                       Wingdings 2.ttf\r\n",
      "Lao Sangam MN.ttf                Wingdings 3.ttf\r\n",
      "Luminari.ttf                     Wingdings.ttf\r\n",
      "Malayalam MN.ttc                 Zapfino.ttf\r\n",
      "Malayalam Sangam MN.ttc          chinese.simhei.ttf\r\n",
      "Marion.ttc                       fangsong.ttf\r\n",
      "Microsoft Sans Serif.ttf\r\n"
     ]
    }
   ],
   "source": [
    "ls /Library/Fonts"
   ]
  },
  {
   "cell_type": "markdown",
   "metadata": {},
   "source": [
    "## 小说概览"
   ]
  },
  {
   "cell_type": "markdown",
   "metadata": {},
   "source": [
    "我们从网上找到金庸小说的 txt 全文，放在 `novels` 文件夹中："
   ]
  },
  {
   "cell_type": "code",
   "execution_count": 95,
   "metadata": {},
   "outputs": [
    {
     "name": "stdout",
     "output_type": "stream",
     "text": [
      "侠客行.txt          鸳鸯刀.txt          笑傲江湖.txt        倚天屠龙记.txt\r\n",
      "碧血剑.txt          鹿鼎记.txt          雪山飞狐.txt        射雕英雄传.txt\r\n",
      "越女剑.txt          天龙八部.txt        飞狐外传.txt        白马啸西风.txt\r\n",
      "连城诀.txt          神雕侠侣.txt        书剑恩仇录.txt\r\n"
     ]
    }
   ],
   "source": [
    "!ls novels"
   ]
  },
  {
   "cell_type": "markdown",
   "metadata": {},
   "source": [
    "先一睹为快："
   ]
  },
  {
   "cell_type": "code",
   "execution_count": 96,
   "metadata": {},
   "outputs": [
    {
     "name": "stdout",
     "output_type": "stream",
     "text": [
      "　　四个劲装结束的汉子并肩而立，拦在当路！\n",
      "　　若是黑道上山寨的强人，不会只有四个，莫非在这黑沈沈的松林之中，暗中还埋伏\n",
      "　　下大批人手？如是剪径的小贼，见了这麽声势浩大的镖队，远避之唯恐不及，哪敢这般\n",
      "　　大模大样的拦路挡道？难到竟是武林高手，冲著自己而来？\n"
     ]
    }
   ],
   "source": [
    "with open('novels/鸳鸯刀.txt','rb') as f:\n",
    "    # 去掉结尾的换行符\n",
    "    data = [line.strip().decode('GB18030') for line in f.readlines()]\n",
    "\n",
    "for line in data[:13]:\n",
    "    if line.strip():\n",
    "        print (line)"
   ]
  },
  {
   "cell_type": "markdown",
   "metadata": {},
   "source": [
    "## 出场人物"
   ]
  },
  {
   "cell_type": "markdown",
   "metadata": {},
   "source": [
    "接着，我们先找到金庸小说中所有出场的人物，放到 names.txt 文件中，其格式为：\n",
    "\n",
    "```\n",
    "小说1\n",
    "人物1 人物2 ……\n",
    "小说2\n",
    "人物1 人物2 ……\n",
    "小说3\n",
    "人物1 人物2 ……\n",
    "……\n",
    "```"
   ]
  },
  {
   "cell_type": "code",
   "execution_count": 97,
   "metadata": {
    "scrolled": false
   },
   "outputs": [
    {
     "name": "stdout",
     "output_type": "stream",
     "text": [
      "于管家\n",
      "田青文\n",
      "左书僮\n",
      "右书僮\n",
      "平阿四\n",
      "阮士忠\n",
      "刘元鹤\n",
      "杜希孟\n",
      "周云阳\n",
      "郑三娘\n",
      "宝树\n",
      "苗若兰\n",
      "苗人凤\n",
      "范帮主\n",
      "殷吉\n",
      "胡一刀\n",
      "胡夫人\n",
      "胡斐\n",
      "陶子安\n",
      "陶百岁\n"
     ]
    }
   ],
   "source": [
    "with open('names.txt') as f:\n",
    "    # 去掉结尾的换行符\n",
    "    data = [line.strip() for line in f.readlines()]\n",
    "\n",
    "novels = data[::2]\n",
    "names = data[1::2]\n",
    "\n",
    "novel_names = {k: v.split() for k, v in zip(novels, names)}\n",
    "\n",
    "for name in novel_names['雪山飞狐'][:20]:\n",
    "    print (name)"
   ]
  },
  {
   "cell_type": "markdown",
   "metadata": {},
   "source": [
    "## 寻找主角光环"
   ]
  },
  {
   "cell_type": "markdown",
   "metadata": {},
   "source": [
    "我们来看看人物在小说中的出场次数统计。\n",
    "\n",
    "显然出场次数越多，自然主角光环越强，我们定义一个函数寻找小说中主角光环最强的几个人："
   ]
  },
  {
   "cell_type": "code",
   "execution_count": 108,
   "metadata": {},
   "outputs": [],
   "source": [
    "def find_main_charecters(novel, num=10):\n",
    "    with open('novels/{}.txt'.format(novel),\"rb\") as f:\n",
    "        data = f.read().decode('GB18030')\n",
    "    count = []\n",
    "    for name in novel_names[novel]:\n",
    "        count.append([name, data.count(name)])\n",
    "    count.sort(key=lambda x: x[1])\n",
    "    _, ax = plt.subplots()\n",
    "    \n",
    "    numbers = [x[1] for x in count[-num:]]\n",
    "    names = [x[0] for x in count[-num:]]\n",
    "    from matplotlib.pylab import style\n",
    "#     style.use('ggplot')    \n",
    "    plt.rcParams['axes.unicode_minus'] = False\n",
    "    ax.barh(range(num), numbers, color='red', align='center')\n",
    "    ax.set_title(novel, fontsize=10, fontproperties=font)\n",
    "    ax.set_yticks(range(num))\n",
    "    print(names)\n",
    "    ax.set_yticklabels(names, fontsize=10, fontproperties=font)"
   ]
  },
  {
   "cell_type": "markdown",
   "metadata": {},
   "source": [
    "天龙八部："
   ]
  },
  {
   "cell_type": "code",
   "execution_count": 109,
   "metadata": {},
   "outputs": [
    {
     "name": "stdout",
     "output_type": "stream",
     "text": [
      "['范帮主', '田青文', '陶子安', '刘元鹤', '苗人凤', '胡一刀', '苗若兰', '宝树', '曹云奇', '胡斐']\n",
      "\n"
     ]
    },
    {
     "data": {
      "image/png": "[encoded data removed]",
      "text/plain": [
       "<Figure size 432x288 with 1 Axes>"
      ]
     },
     "metadata": {},
     "output_type": "display_data"
    }
   ],
   "source": [
    "font=FontProperties(fname='/Library/Fonts/fangsong.ttf',size=10)\n",
    "from matplotlib.font_manager import _rebuild\n",
    "_rebuild() #reload一下\n",
    "find_main_charecters(\"雪山飞狐\")\n",
    "print()"
   ]
  },
  {
   "cell_type": "code",
   "execution_count": 110,
   "metadata": {},
   "outputs": [
    {
     "name": "stdout",
     "output_type": "stream",
     "text": [
      "['常长风', '逍遥子', '盖一鸣', '萧半和', '任飞燕', '林玉龙', '袁冠南', '周威信', '卓天雄', '萧中慧']\n"
     ]
    },
    {
     "name": "stderr",
     "output_type": "stream",
     "text": [
      "/Users/Tyler/anaconda3/envs/tf2/lib/python3.6/site-packages/matplotlib/backends/backend_agg.py:238: RuntimeWarning: Glyph 36877 missing from current font.\n",
      "  font.set_text(s, 0.0, flags=flags)\n",
      "/Users/Tyler/anaconda3/envs/tf2/lib/python3.6/site-packages/matplotlib/backends/backend_agg.py:238: RuntimeWarning: Glyph 36965 missing from current font.\n",
      "  font.set_text(s, 0.0, flags=flags)\n",
      "/Users/Tyler/anaconda3/envs/tf2/lib/python3.6/site-packages/matplotlib/backends/backend_agg.py:238: RuntimeWarning: Glyph 30422 missing from current font.\n",
      "  font.set_text(s, 0.0, flags=flags)\n",
      "/Users/Tyler/anaconda3/envs/tf2/lib/python3.6/site-packages/matplotlib/backends/backend_agg.py:238: RuntimeWarning: Glyph 40483 missing from current font.\n",
      "  font.set_text(s, 0.0, flags=flags)\n",
      "/Users/Tyler/anaconda3/envs/tf2/lib/python3.6/site-packages/matplotlib/backends/backend_agg.py:238: RuntimeWarning: Glyph 33831 missing from current font.\n",
      "  font.set_text(s, 0.0, flags=flags)\n",
      "/Users/Tyler/anaconda3/envs/tf2/lib/python3.6/site-packages/matplotlib/backends/backend_agg.py:238: RuntimeWarning: Glyph 21322 missing from current font.\n",
      "  font.set_text(s, 0.0, flags=flags)\n",
      "/Users/Tyler/anaconda3/envs/tf2/lib/python3.6/site-packages/matplotlib/backends/backend_agg.py:238: RuntimeWarning: Glyph 21644 missing from current font.\n",
      "  font.set_text(s, 0.0, flags=flags)\n",
      "/Users/Tyler/anaconda3/envs/tf2/lib/python3.6/site-packages/matplotlib/backends/backend_agg.py:238: RuntimeWarning: Glyph 20219 missing from current font.\n",
      "  font.set_text(s, 0.0, flags=flags)\n",
      "/Users/Tyler/anaconda3/envs/tf2/lib/python3.6/site-packages/matplotlib/backends/backend_agg.py:238: RuntimeWarning: Glyph 39134 missing from current font.\n",
      "  font.set_text(s, 0.0, flags=flags)\n",
      "/Users/Tyler/anaconda3/envs/tf2/lib/python3.6/site-packages/matplotlib/backends/backend_agg.py:238: RuntimeWarning: Glyph 29141 missing from current font.\n",
      "  font.set_text(s, 0.0, flags=flags)\n",
      "/Users/Tyler/anaconda3/envs/tf2/lib/python3.6/site-packages/matplotlib/backends/backend_agg.py:238: RuntimeWarning: Glyph 26519 missing from current font.\n",
      "  font.set_text(s, 0.0, flags=flags)\n",
      "/Users/Tyler/anaconda3/envs/tf2/lib/python3.6/site-packages/matplotlib/backends/backend_agg.py:238: RuntimeWarning: Glyph 29577 missing from current font.\n",
      "  font.set_text(s, 0.0, flags=flags)\n",
      "/Users/Tyler/anaconda3/envs/tf2/lib/python3.6/site-packages/matplotlib/backends/backend_agg.py:238: RuntimeWarning: Glyph 40857 missing from current font.\n",
      "  font.set_text(s, 0.0, flags=flags)\n",
      "/Users/Tyler/anaconda3/envs/tf2/lib/python3.6/site-packages/matplotlib/backends/backend_agg.py:238: RuntimeWarning: Glyph 34945 missing from current font.\n",
      "  font.set_text(s, 0.0, flags=flags)\n",
      "/Users/Tyler/anaconda3/envs/tf2/lib/python3.6/site-packages/matplotlib/backends/backend_agg.py:238: RuntimeWarning: Glyph 20896 missing from current font.\n",
      "  font.set_text(s, 0.0, flags=flags)\n",
      "/Users/Tyler/anaconda3/envs/tf2/lib/python3.6/site-packages/matplotlib/backends/backend_agg.py:238: RuntimeWarning: Glyph 21335 missing from current font.\n",
      "  font.set_text(s, 0.0, flags=flags)\n",
      "/Users/Tyler/anaconda3/envs/tf2/lib/python3.6/site-packages/matplotlib/backends/backend_agg.py:238: RuntimeWarning: Glyph 21608 missing from current font.\n",
      "  font.set_text(s, 0.0, flags=flags)\n",
      "/Users/Tyler/anaconda3/envs/tf2/lib/python3.6/site-packages/matplotlib/backends/backend_agg.py:238: RuntimeWarning: Glyph 23041 missing from current font.\n",
      "  font.set_text(s, 0.0, flags=flags)\n",
      "/Users/Tyler/anaconda3/envs/tf2/lib/python3.6/site-packages/matplotlib/backends/backend_agg.py:238: RuntimeWarning: Glyph 20449 missing from current font.\n",
      "  font.set_text(s, 0.0, flags=flags)\n",
      "/Users/Tyler/anaconda3/envs/tf2/lib/python3.6/site-packages/matplotlib/backends/backend_agg.py:238: RuntimeWarning: Glyph 21331 missing from current font.\n",
      "  font.set_text(s, 0.0, flags=flags)\n",
      "/Users/Tyler/anaconda3/envs/tf2/lib/python3.6/site-packages/matplotlib/backends/backend_agg.py:238: RuntimeWarning: Glyph 22825 missing from current font.\n",
      "  font.set_text(s, 0.0, flags=flags)\n",
      "/Users/Tyler/anaconda3/envs/tf2/lib/python3.6/site-packages/matplotlib/backends/backend_agg.py:238: RuntimeWarning: Glyph 38596 missing from current font.\n",
      "  font.set_text(s, 0.0, flags=flags)\n",
      "/Users/Tyler/anaconda3/envs/tf2/lib/python3.6/site-packages/matplotlib/backends/backend_agg.py:238: RuntimeWarning: Glyph 20013 missing from current font.\n",
      "  font.set_text(s, 0.0, flags=flags)\n",
      "/Users/Tyler/anaconda3/envs/tf2/lib/python3.6/site-packages/matplotlib/backends/backend_agg.py:238: RuntimeWarning: Glyph 24935 missing from current font.\n",
      "  font.set_text(s, 0.0, flags=flags)\n",
      "/Users/Tyler/anaconda3/envs/tf2/lib/python3.6/site-packages/matplotlib/backends/backend_agg.py:201: RuntimeWarning: Glyph 36877 missing from current font.\n",
      "  font.set_text(s, 0, flags=flags)\n",
      "/Users/Tyler/anaconda3/envs/tf2/lib/python3.6/site-packages/matplotlib/backends/backend_agg.py:201: RuntimeWarning: Glyph 36965 missing from current font.\n",
      "  font.set_text(s, 0, flags=flags)\n",
      "/Users/Tyler/anaconda3/envs/tf2/lib/python3.6/site-packages/matplotlib/backends/backend_agg.py:201: RuntimeWarning: Glyph 30422 missing from current font.\n",
      "  font.set_text(s, 0, flags=flags)\n",
      "/Users/Tyler/anaconda3/envs/tf2/lib/python3.6/site-packages/matplotlib/backends/backend_agg.py:201: RuntimeWarning: Glyph 40483 missing from current font.\n",
      "  font.set_text(s, 0, flags=flags)\n",
      "/Users/Tyler/anaconda3/envs/tf2/lib/python3.6/site-packages/matplotlib/backends/backend_agg.py:201: RuntimeWarning: Glyph 33831 missing from current font.\n",
      "  font.set_text(s, 0, flags=flags)\n",
      "/Users/Tyler/anaconda3/envs/tf2/lib/python3.6/site-packages/matplotlib/backends/backend_agg.py:201: RuntimeWarning: Glyph 21322 missing from current font.\n",
      "  font.set_text(s, 0, flags=flags)\n",
      "/Users/Tyler/anaconda3/envs/tf2/lib/python3.6/site-packages/matplotlib/backends/backend_agg.py:201: RuntimeWarning: Glyph 21644 missing from current font.\n",
      "  font.set_text(s, 0, flags=flags)\n",
      "/Users/Tyler/anaconda3/envs/tf2/lib/python3.6/site-packages/matplotlib/backends/backend_agg.py:201: RuntimeWarning: Glyph 20219 missing from current font.\n",
      "  font.set_text(s, 0, flags=flags)\n",
      "/Users/Tyler/anaconda3/envs/tf2/lib/python3.6/site-packages/matplotlib/backends/backend_agg.py:201: RuntimeWarning: Glyph 39134 missing from current font.\n",
      "  font.set_text(s, 0, flags=flags)\n",
      "/Users/Tyler/anaconda3/envs/tf2/lib/python3.6/site-packages/matplotlib/backends/backend_agg.py:201: RuntimeWarning: Glyph 29141 missing from current font.\n",
      "  font.set_text(s, 0, flags=flags)\n",
      "/Users/Tyler/anaconda3/envs/tf2/lib/python3.6/site-packages/matplotlib/backends/backend_agg.py:201: RuntimeWarning: Glyph 26519 missing from current font.\n",
      "  font.set_text(s, 0, flags=flags)\n",
      "/Users/Tyler/anaconda3/envs/tf2/lib/python3.6/site-packages/matplotlib/backends/backend_agg.py:201: RuntimeWarning: Glyph 29577 missing from current font.\n",
      "  font.set_text(s, 0, flags=flags)\n",
      "/Users/Tyler/anaconda3/envs/tf2/lib/python3.6/site-packages/matplotlib/backends/backend_agg.py:201: RuntimeWarning: Glyph 40857 missing from current font.\n",
      "  font.set_text(s, 0, flags=flags)\n",
      "/Users/Tyler/anaconda3/envs/tf2/lib/python3.6/site-packages/matplotlib/backends/backend_agg.py:201: RuntimeWarning: Glyph 34945 missing from current font.\n",
      "  font.set_text(s, 0, flags=flags)\n",
      "/Users/Tyler/anaconda3/envs/tf2/lib/python3.6/site-packages/matplotlib/backends/backend_agg.py:201: RuntimeWarning: Glyph 20896 missing from current font.\n",
      "  font.set_text(s, 0, flags=flags)\n",
      "/Users/Tyler/anaconda3/envs/tf2/lib/python3.6/site-packages/matplotlib/backends/backend_agg.py:201: RuntimeWarning: Glyph 21335 missing from current font.\n",
      "  font.set_text(s, 0, flags=flags)\n",
      "/Users/Tyler/anaconda3/envs/tf2/lib/python3.6/site-packages/matplotlib/backends/backend_agg.py:201: RuntimeWarning: Glyph 21608 missing from current font.\n",
      "  font.set_text(s, 0, flags=flags)\n",
      "/Users/Tyler/anaconda3/envs/tf2/lib/python3.6/site-packages/matplotlib/backends/backend_agg.py:201: RuntimeWarning: Glyph 23041 missing from current font.\n",
      "  font.set_text(s, 0, flags=flags)\n",
      "/Users/Tyler/anaconda3/envs/tf2/lib/python3.6/site-packages/matplotlib/backends/backend_agg.py:201: RuntimeWarning: Glyph 20449 missing from current font.\n",
      "  font.set_text(s, 0, flags=flags)\n",
      "/Users/Tyler/anaconda3/envs/tf2/lib/python3.6/site-packages/matplotlib/backends/backend_agg.py:201: RuntimeWarning: Glyph 21331 missing from current font.\n",
      "  font.set_text(s, 0, flags=flags)\n",
      "/Users/Tyler/anaconda3/envs/tf2/lib/python3.6/site-packages/matplotlib/backends/backend_agg.py:201: RuntimeWarning: Glyph 22825 missing from current font.\n",
      "  font.set_text(s, 0, flags=flags)\n",
      "/Users/Tyler/anaconda3/envs/tf2/lib/python3.6/site-packages/matplotlib/backends/backend_agg.py:201: RuntimeWarning: Glyph 38596 missing from current font.\n",
      "  font.set_text(s, 0, flags=flags)\n",
      "/Users/Tyler/anaconda3/envs/tf2/lib/python3.6/site-packages/matplotlib/backends/backend_agg.py:201: RuntimeWarning: Glyph 20013 missing from current font.\n",
      "  font.set_text(s, 0, flags=flags)\n",
      "/Users/Tyler/anaconda3/envs/tf2/lib/python3.6/site-packages/matplotlib/backends/backend_agg.py:201: RuntimeWarning: Glyph 24935 missing from current font.\n",
      "  font.set_text(s, 0, flags=flags)\n"
     ]
    },
    {
     "data": {
      "image/png": "[encoded data removed]",
      "text/plain": [
       "<Figure size 432x288 with 1 Axes>"
      ]
     },
     "metadata": {},
     "output_type": "display_data"
    }
   ],
   "source": [
    "# find_main_charecters(\"越女剑\")\n",
    "# find_main_charecters(\"连城诀\")\n",
    "find_main_charecters(\"鸳鸯刀\")"
   ]
  },
  {
   "cell_type": "markdown",
   "metadata": {},
   "source": [
    "## Word2Vec"
   ]
  },
  {
   "cell_type": "markdown",
   "metadata": {},
   "source": [
    "接下来，我们将使用一些机器学习的观点来处理这些小说。\n",
    "\n",
    "`Word2Vec` 是一款将词表征为实数值向量的高效工具，原理就不过多介绍了，感兴趣的可以自行搜索，\n",
    "\n",
    "`gensim` 包提供了一个 `Python` 版的实现。\n",
    "\n",
    "- 源代码地址：https://github.com/RaRe-Technologies/gensim\n",
    "- 官方文档地址：http://radimrehurek.com/gensim/\n",
    "\n",
    "首先安装 `gensim`：\n",
    "\n",
    "    pip install gensim\n",
    "    \n",
    "安装完成之后，导入这个包："
   ]
  },
  {
   "cell_type": "code",
   "execution_count": null,
   "metadata": {},
   "outputs": [],
   "source": [
    "import gensim"
   ]
  },
  {
   "cell_type": "markdown",
   "metadata": {},
   "source": [
    "## 中文分词"
   ]
  },
  {
   "cell_type": "markdown",
   "metadata": {},
   "source": [
    "虽然我们安装了 `gensim`，但我们还不可以直接使用它来进行 `Word2Vec` 的操作，因为 `Word2Vec` 中的词默认是用空格分隔的，而中文小说显然不符合这个要求，为此，我们需要对中文进行分词。\n",
    "\n",
    "一个比较好用的 `Python` 中文分词包叫做 `jieba` （结巴）。\n",
    "\n",
    "- 源代码地址：https://github.com/fxsjy/jieba\n",
    "\n",
    "安装 jieba：\n",
    "    \n",
    "    pip install jieba\n",
    "    \n",
    "导入："
   ]
  },
  {
   "cell_type": "code",
   "execution_count": null,
   "metadata": {},
   "outputs": [],
   "source": [
    "import jieba"
   ]
  },
  {
   "cell_type": "markdown",
   "metadata": {},
   "source": [
    "`jieba` 包具有识别新词的能力，不过为了得到更准确的分词结果，我们可以将人名导入 `jieba` 库的字典，除此之外，我们还加入门派和武功的专有名词："
   ]
  },
  {
   "cell_type": "code",
   "execution_count": null,
   "metadata": {},
   "outputs": [],
   "source": [
    "for _, names in novel_names.iteritems():\n",
    "    for name in names:\n",
    "        jieba.add_word(name)\n",
    "        \n",
    "with open(\"kungfu.txt\") as f:\n",
    "    kungfu_names = [line.decode('utf8').strip() for line in f.readlines()]\n",
    "    \n",
    "with open(\"bangs.txt\") as f:\n",
    "    bang_names = [line.decode('utf8').strip() for line in f.readlines()]\n",
    "\n",
    "for name in kungfu_names:\n",
    "    jieba.add_word(name)\n",
    "\n",
    "for name in bang_names:\n",
    "    jieba.add_word(name)"
   ]
  },
  {
   "cell_type": "markdown",
   "metadata": {},
   "source": [
    "我们按照段落处理文本："
   ]
  },
  {
   "cell_type": "code",
   "execution_count": null,
   "metadata": {},
   "outputs": [],
   "source": [
    "novels = [\"书剑恩仇录\", \n",
    "          \"天龙八部\",\n",
    "          \"碧血剑\",\n",
    "          \"越女剑\",\n",
    "          \"飞狐外传\",\n",
    "          \"侠客行\",\n",
    "          \"射雕英雄传\",\n",
    "          \"神雕侠侣\",\n",
    "          \"连城诀\",\n",
    "          \"鸳鸯刀\",\n",
    "          \"倚天屠龙记\",\n",
    "          \"白马啸西风\",\n",
    "          \"笑傲江湖\",\n",
    "          \"雪山飞狐\",\n",
    "          \"鹿鼎记\"]\n",
    "\n",
    "sentences = []\n",
    "\n",
    "for novel in novels:\n",
    "    print \"处理：{}\".format(novel)\n",
    "    with open('novels/{}.txt'.format(novel)) as f:\n",
    "        data = [line.decode('utf8').strip() for line in f.readlines() if line.decode('utf8').strip()]\n",
    "    for line in data:\n",
    "        words = list(jieba.cut(line))\n",
    "        sentences.append(words)"
   ]
  },
  {
   "cell_type": "markdown",
   "metadata": {},
   "source": [
    "## 训练模型"
   ]
  },
  {
   "cell_type": "markdown",
   "metadata": {},
   "source": [
    "默认参数进行训练："
   ]
  },
  {
   "cell_type": "code",
   "execution_count": null,
   "metadata": {},
   "outputs": [],
   "source": [
    "model = gensim.models.Word2Vec(sentences, size=100, window=5, min_count=5, workers=4)"
   ]
  },
  {
   "cell_type": "markdown",
   "metadata": {},
   "source": [
    "我们可以把训练好的模型存到本地："
   ]
  },
  {
   "cell_type": "code",
   "execution_count": null,
   "metadata": {},
   "outputs": [],
   "source": [
    "model.save(\"louis_cha.model\")"
   ]
  },
  {
   "cell_type": "markdown",
   "metadata": {},
   "source": [
    "从本地磁盘上读取模型："
   ]
  },
  {
   "cell_type": "code",
   "execution_count": null,
   "metadata": {},
   "outputs": [],
   "source": [
    "model = gensim.models.Word2Vec.load(\"louis_cha.model\")"
   ]
  },
  {
   "cell_type": "markdown",
   "metadata": {},
   "source": [
    "## 相似度结果"
   ]
  },
  {
   "cell_type": "markdown",
   "metadata": {},
   "source": [
    "有了模型，我们可以进行一些简单而有趣的测试。\n",
    "\n",
    "首先看与乔峰相似的人："
   ]
  },
  {
   "cell_type": "code",
   "execution_count": null,
   "metadata": {},
   "outputs": [],
   "source": [
    "for k, s in model.most_similar(positive=[\"乔峰\", \"萧峰\"]):\n",
    "    print k, s"
   ]
  },
  {
   "cell_type": "markdown",
   "metadata": {},
   "source": [
    "出来的都是出场较多的男性人物。\n",
    "\n",
    "再看看与阿朱相似的人："
   ]
  },
  {
   "cell_type": "code",
   "execution_count": null,
   "metadata": {},
   "outputs": [],
   "source": [
    "for k, s in model.most_similar(positive=[\"阿朱\"]):\n",
    "    print k, s"
   ]
  },
  {
   "cell_type": "markdown",
   "metadata": {},
   "source": [
    "这回出现的是一群女性角色。\n",
    "\n",
    "除了人物，我们可以看看门派："
   ]
  },
  {
   "cell_type": "code",
   "execution_count": null,
   "metadata": {},
   "outputs": [],
   "source": [
    "for k, s in model.most_similar(positive=[\"丐帮\"]):\n",
    "    print k, s"
   ]
  },
  {
   "cell_type": "markdown",
   "metadata": {},
   "source": [
    "这个出来的结果就是一堆门派。\n",
    "\n",
    "还可以看看武功秘籍："
   ]
  },
  {
   "cell_type": "code",
   "execution_count": null,
   "metadata": {},
   "outputs": [],
   "source": [
    "for k, s in model.most_similar(positive=[\"降龙十八掌\"]):\n",
    "    print k, s"
   ]
  },
  {
   "cell_type": "markdown",
   "metadata": {},
   "source": [
    "在 Word2Vec 的模型里，有过“中国-北京=法国-巴黎”的例子，这里我们也可以找到这样的例子："
   ]
  },
  {
   "cell_type": "code",
   "execution_count": null,
   "metadata": {},
   "outputs": [],
   "source": [
    "def find_relationship(a, b, c):\n",
    "    \"\"\"\n",
    "    返回 d\n",
    "    a与b的关系，跟c与d的关系一样\n",
    "    \"\"\"\n",
    "    d, _ = model.most_similar(positive=[c, b], negative=[a])[0]\n",
    "    print \"给定“{}”与“{}”，“{}”和“{}”有类似的关系\".format(a, b, c, d)\n",
    "\n",
    "find_relationship(\"段誉\", \"段公子\", \"乔峰\")"
   ]
  },
  {
   "cell_type": "markdown",
   "metadata": {},
   "source": [
    "类似的："
   ]
  },
  {
   "cell_type": "code",
   "execution_count": null,
   "metadata": {
    "scrolled": true
   },
   "outputs": [],
   "source": [
    "# 情侣对\n",
    "find_relationship(\"郭靖\", \"黄蓉\", \"杨过\")\n",
    "\n",
    "# 岳父女婿\n",
    "find_relationship(\"令狐冲\", \"任我行\", \"郭靖\")\n",
    "\n",
    "# 非情侣\n",
    "find_relationship(\"郭靖\", \"华筝\", \"杨过\")"
   ]
  },
  {
   "cell_type": "markdown",
   "metadata": {},
   "source": [
    "以及，小宝你是有多爱男人："
   ]
  },
  {
   "cell_type": "code",
   "execution_count": null,
   "metadata": {},
   "outputs": [],
   "source": [
    "# 韦小宝\n",
    "find_relationship(\"杨过\", \"小龙女\", \"韦小宝\")\n",
    "find_relationship(\"令狐冲\", \"盈盈\", \"韦小宝\")\n",
    "find_relationship(\"张无忌\", \"赵敏\", \"韦小宝\")"
   ]
  },
  {
   "cell_type": "markdown",
   "metadata": {},
   "source": [
    "除了人物之间的关系，门派武功之间的关系："
   ]
  },
  {
   "cell_type": "code",
   "execution_count": null,
   "metadata": {},
   "outputs": [],
   "source": [
    "find_relationship(\"郭靖\", \"降龙十八掌\", \"黄蓉\")\n",
    "find_relationship(\"武当\", \"张三丰\", \"少林\")\n",
    "find_relationship(\"任我行\", \"魔教\", \"令狐冲\")"
   ]
  },
  {
   "cell_type": "markdown",
   "metadata": {},
   "source": [
    "## 人物聚类分析"
   ]
  },
  {
   "cell_type": "markdown",
   "metadata": {},
   "source": [
    "之前我们对文本进行 `Word2Vec` 的结果，是将一个中文词组，映射到了一个向量空间，因此，我们可以利用这个向量表示的空间，对这些词进行聚类分析。\n",
    "\n",
    "因为全部小说中的人物太多，我们考虑从单本小说进行入手："
   ]
  },
  {
   "cell_type": "code",
   "execution_count": null,
   "metadata": {},
   "outputs": [],
   "source": [
    "all_names = []\n",
    "word_vectors = None\n",
    "\n",
    "for name in novel_names[\"天龙八部\"]:\n",
    "    if name in model:\n",
    "        all_names.append(name)\n",
    "        if word_vectors is None:\n",
    "            word_vectors = model[name]\n",
    "        else:\n",
    "            word_vectors = np.vstack((word_vectors, model[name]))\n",
    "            \n",
    "all_names = np.array(all_names)"
   ]
  },
  {
   "cell_type": "markdown",
   "metadata": {},
   "source": [
    "### KMeans"
   ]
  },
  {
   "cell_type": "markdown",
   "metadata": {},
   "source": [
    "聚类我们可以使用很多方法，这里我们用 scikit-learn 自带的几种聚类方法进行聚类。\n",
    "\n",
    "先考虑 Kmeans："
   ]
  },
  {
   "cell_type": "code",
   "execution_count": null,
   "metadata": {},
   "outputs": [],
   "source": [
    "from sklearn.cluster import KMeans"
   ]
  },
  {
   "cell_type": "markdown",
   "metadata": {},
   "source": [
    "如果只分成3类，那么很明显地可以将众人分成主角，配角，跑龙套的三类："
   ]
  },
  {
   "cell_type": "code",
   "execution_count": null,
   "metadata": {},
   "outputs": [],
   "source": [
    "N = 3\n",
    "label = KMeans(N).fit(word_vectors).labels_\n",
    "\n",
    "for c in range(N):\n",
    "    print \"\\n类别{}：\".format(c+1)\n",
    "    for idx, name in enumerate(all_names[label==c]):\n",
    "        print name,\n",
    "        if idx % 10 == 9:\n",
    "            print \n",
    "    print"
   ]
  },
  {
   "cell_type": "markdown",
   "metadata": {},
   "source": [
    "我们把众龙套去掉："
   ]
  },
  {
   "cell_type": "code",
   "execution_count": null,
   "metadata": {},
   "outputs": [],
   "source": [
    "N = 4\n",
    "c = sp.stats.mode(label).mode\n",
    "remain_names = all_names[label!=c]\n",
    "remain_vectors = word_vectors[label!=c]\n",
    "\n",
    "remain_label = KMeans(N).fit(remain_vectors).labels_\n",
    "\n",
    "for c in range(N):\n",
    "    print \"\\n类别{}：\".format(c+1)\n",
    "    for idx, name in enumerate(remain_names[remain_label==c]):\n",
    "        print name,\n",
    "        if idx % 10 == 9:\n",
    "            print \n",
    "    print"
   ]
  },
  {
   "cell_type": "markdown",
   "metadata": {},
   "source": [
    "可以看到，段家的儿子和女儿倾向于聚在一起，而反派角色则倾向于被聚在一起。"
   ]
  },
  {
   "cell_type": "markdown",
   "metadata": {},
   "source": [
    "### 层级聚类"
   ]
  },
  {
   "cell_type": "markdown",
   "metadata": {},
   "source": [
    "换一本小说："
   ]
  },
  {
   "cell_type": "code",
   "execution_count": null,
   "metadata": {},
   "outputs": [],
   "source": [
    "all_names = []\n",
    "word_vectors = None\n",
    "\n",
    "for name in novel_names[\"倚天屠龙记\"]:\n",
    "    if name in model:\n",
    "        all_names.append(name)\n",
    "        if word_vectors is None:\n",
    "            word_vectors = model[name]\n",
    "        else:\n",
    "            word_vectors = np.vstack((word_vectors, model[name]))\n",
    "            \n",
    "all_names = np.array(all_names)"
   ]
  },
  {
   "cell_type": "markdown",
   "metadata": {},
   "source": [
    "这次采用层级聚类的方式，调用的是 `Scipy` 中层级聚类的包："
   ]
  },
  {
   "cell_type": "code",
   "execution_count": null,
   "metadata": {},
   "outputs": [],
   "source": [
    "import scipy.cluster.hierarchy as sch"
   ]
  },
  {
   "cell_type": "code",
   "execution_count": null,
   "metadata": {
    "scrolled": false
   },
   "outputs": [],
   "source": [
    "Y = sch.linkage(word_vectors, method=\"ward\")\n",
    "\n",
    "_, ax = plt.subplots(figsize=(10, 40))\n",
    "\n",
    "Z = sch.dendrogram(Y, orientation='right')\n",
    "idx = Z['leaves']\n",
    "\n",
    "ax.set_xticks([])\n",
    "ax.set_yticklabels(all_names[idx], fontproperties=font_yahei_consolas)\n",
    "ax.set_frame_on(False)\n",
    "\n",
    "plt.show()"
   ]
  },
  {
   "cell_type": "markdown",
   "metadata": {
    "collapsed": true
   },
   "source": [
    "来看红色聚类区的上半部分：\n",
    "\n",
    "与张教主相关的人物：两个女人，赵敏和周芷若；父母和义父。\n",
    "\n",
    "而红色聚类区的下半部分主要是明教与武当中与张无忌相关的部分。"
   ]
  },
  {
   "cell_type": "markdown",
   "metadata": {},
   "source": [
    "### 门派和武功"
   ]
  },
  {
   "cell_type": "markdown",
   "metadata": {},
   "source": [
    "除了人物，我们还可以考虑对武功进行聚类分析："
   ]
  },
  {
   "cell_type": "code",
   "execution_count": null,
   "metadata": {
    "scrolled": false
   },
   "outputs": [],
   "source": [
    "all_names = []\n",
    "word_vectors = None\n",
    "for name in kungfu_names:\n",
    "    if name in model:\n",
    "        all_names.append(name)\n",
    "        if word_vectors is None:\n",
    "            word_vectors = model[name]\n",
    "        else:\n",
    "            word_vectors = np.vstack((word_vectors, model[name]))\n",
    "            \n",
    "all_names = np.array(all_names)\n",
    "\n",
    "Y = sch.linkage(word_vectors, method=\"ward\")\n",
    "\n",
    "_, ax = plt.subplots(figsize=(10, 35))\n",
    "\n",
    "Z = sch.dendrogram(Y, orientation='right')\n",
    "idx = Z['leaves']\n",
    "\n",
    "ax.set_xticks([])\n",
    "ax.set_yticklabels(all_names[idx], fontproperties=font_yahei_consolas)\n",
    "ax.set_frame_on(False)\n",
    "\n",
    "plt.show()"
   ]
  },
  {
   "cell_type": "markdown",
   "metadata": {},
   "source": [
    "可以认为，一部分是主角比较厉害的武功，比较多的那部分只能算是配角们的武功。"
   ]
  },
  {
   "cell_type": "markdown",
   "metadata": {},
   "source": [
    "再来就是门派的聚类："
   ]
  },
  {
   "cell_type": "code",
   "execution_count": null,
   "metadata": {
    "scrolled": false
   },
   "outputs": [],
   "source": [
    "all_names = []\n",
    "word_vectors = None\n",
    "for name in bang_names:\n",
    "    if name in model:\n",
    "        all_names.append(name)\n",
    "        if word_vectors is None:\n",
    "            word_vectors = model[name]\n",
    "        else:\n",
    "            word_vectors = np.vstack((word_vectors, model[name]))\n",
    "            \n",
    "all_names = np.array(all_names)\n",
    "\n",
    "Y = sch.linkage(word_vectors, method=\"ward\")\n",
    "\n",
    "_, ax = plt.subplots(figsize=(10, 25))\n",
    "\n",
    "Z = sch.dendrogram(Y, orientation='right')\n",
    "idx = Z['leaves']\n",
    "\n",
    "ax.set_xticks([])\n",
    "ax.set_yticklabels(all_names[idx], fontproperties=font_yahei_consolas)\n",
    "ax.set_frame_on(False)\n",
    "\n",
    "plt.show()"
   ]
  },
  {
   "cell_type": "markdown",
   "metadata": {},
   "source": [
    "比较少的这一类，基本都是在某几部小说中出现的主要门派，而大多数门派都是打酱油的。"
   ]
  },
  {
   "cell_type": "markdown",
   "metadata": {},
   "source": [
    "## 总结"
   ]
  },
  {
   "cell_type": "markdown",
   "metadata": {},
   "source": [
    "> 飞雪连天射白鹿，笑书神侠倚碧鸳。\n",
    "\n",
    "<p align=center><img src=\"http://d.hiphotos.baidu.com/baike/pic/item/cf1b9d16fdfaaf5120f00f5c8e5494eef11f7ac6.jpg\", width='30%'></p>"
   ]
  }
 ],
 "metadata": {
  "kernelspec": {
   "display_name": "Python 3",
   "language": "python",
   "name": "python3"
  },
  "language_info": {
   "codemirror_mode": {
    "name": "ipython",
    "version": 3
   },
   "file_extension": ".py",
   "mimetype": "text/x-python",
   "name": "python",
   "nbconvert_exporter": "python",
   "pygments_lexer": "ipython3",
   "version": "3.6.12"
  }
 },
 "nbformat": 4,
 "nbformat_minor": 1
}
