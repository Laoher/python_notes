{
 "cells": [
  {
   "cell_type": "markdown",
   "metadata": {},
   "source": [
    "# 金庸的武侠世界"
   ]
  },
  {
   "cell_type": "markdown",
   "metadata": {},
   "source": [
    "金庸老爷子一共写了15部武侠小说，它们分别是：\n",
    "\n",
    "- 《飞狐外传》（1960年）\n",
    "- 《雪山飞狐》（1959年）\n",
    "- 《连城诀》（1963年）\n",
    "- 《天龙八部》（1963年）\n",
    "- 《射雕英雄传》（1957年）\n",
    "- 《白马啸西风》（1961年）\n",
    "- 《鹿鼎记》（1969年）\n",
    "- 《笑傲江湖》（1967年）\n",
    "- 《书剑恩仇录》（1955年）\n",
    "- 《神雕侠侣》（1959年）\n",
    "- 《侠客行》（1965年）\n",
    "- 《倚天屠龙记》（1961年）\n",
    "- 《碧血剑》（1956年）\n",
    "- 《鸳鸯刀》（1961年）\n",
    "- 《越女剑》（1970年）\n",
    "\n",
    "我们现在就用 `Python` 来探索一下金庸小说中的武侠世界吧。"
   ]
  },
  {
   "cell_type": "markdown",
   "metadata": {},
   "source": [
    "## 准备工作"
   ]
  },
  {
   "cell_type": "markdown",
   "metadata": {},
   "source": [
    "再处理小说之前，我们需要先做一些准备工作。\n",
    "\n",
    "因为涉及中文字符，所以我们使用 `__future__` 中 Python 3 的特性，将所有的字符串转为 `unicode`。"
   ]
  },
  {
   "cell_type": "code",
   "execution_count": 66,
   "metadata": {},
   "outputs": [],
   "source": [
    "from __future__ import unicode_literals"
   ]
  },
  {
   "cell_type": "markdown",
   "metadata": {},
   "source": [
    "再来我们解决图像里中文字符显示的问题，Matplotlib虽然支持 `unicode` 编码，但是直接输出中文字体会出现问题。下面是从网上找到的解决方案"
   ]
  },
  {
   "cell_type": "code",
   "execution_count": 67,
   "metadata": {},
   "outputs": [
    {
     "data": {
      "image/png": "[encoded data removed]",
      "text/plain": [
       "<Figure size 432x288 with 1 Axes>"
      ]
     },
     "metadata": {
      "needs_background": "light"
     },
     "output_type": "display_data"
    }
   ],
   "source": [
    "import numpy as np\n",
    "import scipy as sp\n",
    "import matplotlib\n",
    "import matplotlib.pyplot as plt\n",
    "from matplotlib.font_manager import FontProperties\n",
    "%matplotlib inline\n",
    "# matplotlib.rcParams['font.sans-serif'] = [u'SimHei']\n",
    "# matplotlib.rcParams['axes.unicode_minus'] = False\n",
    "\n",
    "\n",
    "font=FontProperties(fname='/Library/Fonts/fangsong.ttf',size=10)\n",
    "\n",
    "x = range(10)\n",
    "plt.plot(x)\n",
    "plt.title(\"中文\",fontproperties=font)\n",
    "plt.show()"
   ]
  },
  {
   "cell_type": "markdown",
   "metadata": {},
   "source": [
    "## 小说概览"
   ]
  },
  {
   "cell_type": "markdown",
   "metadata": {},
   "source": [
    "我们从网上找到金庸小说的 txt 全文，放在 `novels` 文件夹中："
   ]
  },
  {
   "cell_type": "code",
   "execution_count": 69,
   "metadata": {},
   "outputs": [
    {
     "name": "stdout",
     "output_type": "stream",
     "text": [
      "侠客行.txt          鸳鸯刀.txt          笑傲江湖.txt        倚天屠龙记.txt\r\n",
      "碧血剑.txt          鹿鼎记.txt          雪山飞狐.txt        射雕英雄传.txt\r\n",
      "越女剑.txt          天龙八部.txt        飞狐外传.txt        白马啸西风.txt\r\n",
      "连城诀.txt          神雕侠侣.txt        书剑恩仇录.txt\r\n"
     ]
    }
   ],
   "source": [
    "!ls novels"
   ]
  },
  {
   "cell_type": "markdown",
   "metadata": {},
   "source": [
    "先一睹为快："
   ]
  },
  {
   "cell_type": "code",
   "execution_count": 70,
   "metadata": {},
   "outputs": [
    {
     "name": "stdout",
     "output_type": "stream",
     "text": [
      "　　四个劲装结束的汉子并肩而立，拦在当路！\n",
      "　　若是黑道上山寨的强人，不会只有四个，莫非在这黑沈沈的松林之中，暗中还埋伏\n",
      "　　下大批人手？如是剪径的小贼，见了这麽声势浩大的镖队，远避之唯恐不及，哪敢这般\n",
      "　　大模大样的拦路挡道？难到竟是武林高手，冲著自己而来？\n"
     ]
    }
   ],
   "source": [
    "with open('novels/鸳鸯刀.txt','rb') as f:\n",
    "    # 去掉结尾的换行符\n",
    "    data = [line.strip().decode('GB18030') for line in f.readlines()]\n",
    "\n",
    "for line in data[:13]:\n",
    "    if line.strip():\n",
    "        print (line)"
   ]
  },
  {
   "cell_type": "markdown",
   "metadata": {},
   "source": [
    "## 出场人物"
   ]
  },
  {
   "cell_type": "markdown",
   "metadata": {},
   "source": [
    "接着，我们先找到金庸小说中所有出场的人物，放到 names.txt 文件中，其格式为：\n",
    "\n",
    "```\n",
    "小说1\n",
    "人物1 人物2 ……\n",
    "小说2\n",
    "人物1 人物2 ……\n",
    "小说3\n",
    "人物1 人物2 ……\n",
    "……\n",
    "```"
   ]
  },
  {
   "cell_type": "code",
   "execution_count": 71,
   "metadata": {
    "scrolled": false
   },
   "outputs": [
    {
     "name": "stdout",
     "output_type": "stream",
     "text": [
      "于管家\n",
      "田青文\n",
      "左书僮\n",
      "右书僮\n",
      "平阿四\n",
      "阮士忠\n",
      "刘元鹤\n",
      "杜希孟\n",
      "周云阳\n",
      "郑三娘\n",
      "宝树\n",
      "苗若兰\n",
      "苗人凤\n",
      "范帮主\n",
      "殷吉\n",
      "胡一刀\n",
      "胡夫人\n",
      "胡斐\n",
      "陶子安\n",
      "陶百岁\n"
     ]
    }
   ],
   "source": [
    "with open('names.txt') as f:\n",
    "    # 去掉结尾的换行符\n",
    "    data = [line.strip() for line in f.readlines()]\n",
    "\n",
    "novels = data[::2]\n",
    "names = data[1::2]\n",
    "\n",
    "novel_names = {k: v.split() for k, v in zip(novels, names)}\n",
    "\n",
    "for name in novel_names['雪山飞狐'][:20]:\n",
    "    print (name)"
   ]
  },
  {
   "cell_type": "markdown",
   "metadata": {},
   "source": [
    "## 寻找主角光环"
   ]
  },
  {
   "cell_type": "markdown",
   "metadata": {},
   "source": [
    "我们来看看人物在小说中的出场次数统计。\n",
    "\n",
    "显然出场次数越多，自然主角光环越强，我们定义一个函数寻找小说中主角光环最强的几个人："
   ]
  },
  {
   "cell_type": "code",
   "execution_count": 72,
   "metadata": {},
   "outputs": [],
   "source": [
    "def find_main_charecters(novel, num=10):\n",
    "    with open('novels/{}.txt'.format(novel),\"rb\") as f:\n",
    "        data = f.read().decode('GB18030')\n",
    "    count = []\n",
    "    for name in novel_names[novel]:\n",
    "        count.append([name, data.count(name)])\n",
    "    count.sort(key=lambda x: x[1])\n",
    "    _, ax = plt.subplots()\n",
    "    \n",
    "    numbers = [x[1] for x in count[-num:]]\n",
    "    names = [x[0] for x in count[-num:]]\n",
    "    from matplotlib.pylab import style\n",
    "#     style.use('ggplot')    \n",
    "    plt.rcParams['axes.unicode_minus'] = False\n",
    "    ax.barh(range(num), numbers, color='red', align='center')\n",
    "    ax.set_title(novel, fontsize=10, fontproperties=font)\n",
    "    ax.set_yticks(range(num))\n",
    "    print(names)\n",
    "    ax.set_yticklabels(names, fontsize=10, fontproperties=font)"
   ]
  },
  {
   "cell_type": "markdown",
   "metadata": {},
   "source": [
    "天龙八部："
   ]
  },
  {
   "cell_type": "code",
   "execution_count": 73,
   "metadata": {},
   "outputs": [
    {
     "name": "stdout",
     "output_type": "stream",
     "text": [
      "['范帮主', '田青文', '陶子安', '刘元鹤', '苗人凤', '胡一刀', '苗若兰', '宝树', '曹云奇', '胡斐']\n",
      "\n"
     ]
    },
    {
     "data": {
      "image/png": "[encoded data removed]",
      "text/plain": [
       "<Figure size 432x288 with 1 Axes>"
      ]
     },
     "metadata": {
      "needs_background": "light"
     },
     "output_type": "display_data"
    }
   ],
   "source": [
    "font=FontProperties(fname='/Library/Fonts/fangsong.ttf',size=10)\n",
    "from matplotlib.font_manager import _rebuild\n",
    "_rebuild() #reload一下\n",
    "find_main_charecters(\"雪山飞狐\")\n",
    "print()"
   ]
  },
  {
   "cell_type": "code",
   "execution_count": 74,
   "metadata": {},
   "outputs": [
    {
     "data": {
      "text/plain": [
       "'/Users/Tyler/.matplotlib/matplotlibrc'"
      ]
     },
     "execution_count": 74,
     "metadata": {},
     "output_type": "execute_result"
    }
   ],
   "source": [
    "import matplotlib\n",
    "matplotlib.matplotlib_fname()"
   ]
  },
  {
   "cell_type": "code",
   "execution_count": 76,
   "metadata": {},
   "outputs": [
    {
     "name": "stdout",
     "output_type": "stream",
     "text": [
      "['常长风', '逍遥子', '盖一鸣', '萧半和', '任飞燕', '林玉龙', '袁冠南', '周威信', '卓天雄', '萧中慧']\n"
     ]
    },
    {
     "data": {
      "image/png": "[encoded data removed]",
      "text/plain": [
       "<Figure size 432x288 with 1 Axes>"
      ]
     },
     "metadata": {
      "needs_background": "light"
     },
     "output_type": "display_data"
    }
   ],
   "source": [
    "find_main_charecters(\"鸳鸯刀\")"
   ]
  },
  {
   "cell_type": "markdown",
   "metadata": {},
   "source": [
    "## Word2Vec"
   ]
  },
  {
   "cell_type": "markdown",
   "metadata": {},
   "source": [
    "接下来，我们将使用一些机器学习的观点来处理这些小说。\n",
    "\n",
    "`Word2Vec` 是一款将词表征为实数值向量的高效工具，原理就不过多介绍了，感兴趣的可以自行搜索，\n",
    "\n",
    "`gensim` 包提供了一个 `Python` 版的实现。"
   ]
  },
  {
   "cell_type": "code",
   "execution_count": 77,
   "metadata": {},
   "outputs": [],
   "source": [
    "import gensim"
   ]
  },
  {
   "cell_type": "markdown",
   "metadata": {},
   "source": [
    "## 中文分词"
   ]
  },
  {
   "cell_type": "markdown",
   "metadata": {},
   "source": [
    "虽然我们安装了 `gensim`，但我们还不可以直接使用它来进行 `Word2Vec` 的操作，因为 `Word2Vec` 中的词默认是用空格分隔的，而中文小说显然不符合这个要求，为此，我们需要对中文进行分词。\n",
    "\n",
    "一个比较好用的 `Python` 中文分词包叫做 `jieba` （结巴）。"
   ]
  },
  {
   "cell_type": "code",
   "execution_count": 80,
   "metadata": {},
   "outputs": [],
   "source": [
    "import jieba"
   ]
  },
  {
   "cell_type": "markdown",
   "metadata": {},
   "source": [
    "`jieba` 包具有识别新词的能力，不过为了得到更准确的分词结果，我们可以将人名导入 `jieba` 库的字典，除此之外，我们还加入门派和武功的专有名词："
   ]
  },
  {
   "cell_type": "code",
   "execution_count": 81,
   "metadata": {},
   "outputs": [],
   "source": [
    "for _, names in novel_names.items():\n",
    "    for name in names:\n",
    "        jieba.add_word(name)\n",
    "        \n",
    "with open(\"kungfu.txt\") as f:\n",
    "    kungfu_names = [line.strip() for line in f.readlines()]\n",
    "    \n",
    "with open(\"bangs.txt\") as f:\n",
    "    bang_names = [line.strip() for line in f.readlines()]\n",
    "\n",
    "for name in kungfu_names:\n",
    "    jieba.add_word(name)\n",
    "\n",
    "for name in bang_names:\n",
    "    jieba.add_word(name)"
   ]
  },
  {
   "cell_type": "markdown",
   "metadata": {},
   "source": [
    "我们按照段落处理文本："
   ]
  },
  {
   "cell_type": "code",
   "execution_count": 82,
   "metadata": {},
   "outputs": [
    {
     "name": "stdout",
     "output_type": "stream",
     "text": [
      "处理：书剑恩仇录\n",
      "处理：天龙八部\n",
      "处理：碧血剑\n",
      "处理：越女剑\n",
      "处理：飞狐外传\n",
      "处理：侠客行\n",
      "处理：射雕英雄传\n",
      "处理：神雕侠侣\n",
      "处理：连城诀\n",
      "处理：鸳鸯刀\n",
      "处理：倚天屠龙记\n",
      "处理：白马啸西风\n",
      "处理：笑傲江湖\n",
      "处理：雪山飞狐\n",
      "处理：鹿鼎记\n"
     ]
    }
   ],
   "source": [
    "novels = [\"书剑恩仇录\", \n",
    "          \"天龙八部\",\n",
    "          \"碧血剑\",\n",
    "          \"越女剑\",\n",
    "          \"飞狐外传\",\n",
    "          \"侠客行\",\n",
    "          \"射雕英雄传\",\n",
    "          \"神雕侠侣\",\n",
    "          \"连城诀\",\n",
    "          \"鸳鸯刀\",\n",
    "          \"倚天屠龙记\",\n",
    "          \"白马啸西风\",\n",
    "          \"笑傲江湖\",\n",
    "          \"雪山飞狐\",\n",
    "          \"鹿鼎记\"]\n",
    "\n",
    "sentences = []\n",
    "\n",
    "for novel in novels:\n",
    "    print (\"处理：{}\".format(novel))\n",
    "    with open('novels/{}.txt'.format(novel),\"rb\") as f:\n",
    "        data = [line.strip() for line in f.readlines() if line.strip()]\n",
    "    for line in data:\n",
    "        words = list(jieba.cut(line))\n",
    "        sentences.append(words)"
   ]
  },
  {
   "cell_type": "markdown",
   "metadata": {},
   "source": [
    "## 训练模型"
   ]
  },
  {
   "cell_type": "markdown",
   "metadata": {},
   "source": [
    "默认参数进行训练："
   ]
  },
  {
   "cell_type": "code",
   "execution_count": 83,
   "metadata": {},
   "outputs": [],
   "source": [
    "model = gensim.models.Word2Vec(sentences, size=100, window=5, min_count=5, workers=4)"
   ]
  },
  {
   "cell_type": "markdown",
   "metadata": {},
   "source": [
    "我们可以把训练好的模型存到本地："
   ]
  },
  {
   "cell_type": "code",
   "execution_count": 84,
   "metadata": {},
   "outputs": [],
   "source": [
    "model.save(\"louis_cha.model\")"
   ]
  },
  {
   "cell_type": "markdown",
   "metadata": {},
   "source": [
    "从本地磁盘上读取模型："
   ]
  },
  {
   "cell_type": "code",
   "execution_count": 85,
   "metadata": {},
   "outputs": [],
   "source": [
    "model = gensim.models.Word2Vec.load(\"louis_cha.model\")"
   ]
  },
  {
   "cell_type": "markdown",
   "metadata": {},
   "source": [
    "## 相似度结果"
   ]
  },
  {
   "cell_type": "markdown",
   "metadata": {},
   "source": [
    "有了模型，我们可以进行一些简单而有趣的测试。\n",
    "\n",
    "首先看与乔峰相似的人："
   ]
  },
  {
   "cell_type": "code",
   "execution_count": 86,
   "metadata": {},
   "outputs": [
    {
     "name": "stdout",
     "output_type": "stream",
     "text": [
      "慕容复 0.8183081150054932\n",
      "段正淳 0.8154418468475342\n",
      "汤沛 0.7720216512680054\n",
      "虚竹 0.7686202526092529\n",
      "赵志敬 0.7549375891685486\n",
      "童姥 0.7545145750045776\n",
      "王夫人 0.7512825727462769\n",
      "游坦之 0.7454497814178467\n",
      "全冠清 0.7433689832687378\n",
      "木婉清 0.741782546043396\n"
     ]
    },
    {
     "name": "stderr",
     "output_type": "stream",
     "text": [
      "/Users/Tyler/anaconda3/envs/tf2/lib/python3.6/site-packages/ipykernel_launcher.py:1: DeprecationWarning: Call to deprecated `most_similar` (Method will be removed in 4.0.0, use self.wv.most_similar() instead).\n",
      "  \"\"\"Entry point for launching an IPython kernel.\n"
     ]
    }
   ],
   "source": [
    "for k, s in model.most_similar(positive=[\"乔峰\", \"萧峰\"]):\n",
    "    print (k, s)"
   ]
  },
  {
   "cell_type": "markdown",
   "metadata": {},
   "source": [
    "出来的都是出场较多的男性人物。\n",
    "\n",
    "再看看与阿朱相似的人："
   ]
  },
  {
   "cell_type": "code",
   "execution_count": 87,
   "metadata": {},
   "outputs": [
    {
     "name": "stdout",
     "output_type": "stream",
     "text": [
      "王语嫣 0.7967045903205872\n",
      "阿紫 0.7960593700408936\n",
      "方怡 0.7946633100509644\n",
      "青青 0.7713707685470581\n",
      "钟夫人 0.7612928748130798\n",
      "香香公主 0.7538953423500061\n",
      "盈盈 0.7449517250061035\n",
      "木婉清 0.7443879246711731\n",
      "段誉 0.7423266172409058\n",
      "钟灵 0.732662558555603\n"
     ]
    },
    {
     "name": "stderr",
     "output_type": "stream",
     "text": [
      "/Users/Tyler/anaconda3/envs/tf2/lib/python3.6/site-packages/ipykernel_launcher.py:1: DeprecationWarning: Call to deprecated `most_similar` (Method will be removed in 4.0.0, use self.wv.most_similar() instead).\n",
      "  \"\"\"Entry point for launching an IPython kernel.\n"
     ]
    }
   ],
   "source": [
    "for k, s in model.most_similar(positive=[\"阿朱\"]):\n",
    "    print (k, s)"
   ]
  },
  {
   "cell_type": "markdown",
   "metadata": {},
   "source": [
    "这回出现的是一群女性角色。\n",
    "\n",
    "除了人物，我们可以看看门派："
   ]
  },
  {
   "cell_type": "code",
   "execution_count": 88,
   "metadata": {},
   "outputs": [
    {
     "name": "stdout",
     "output_type": "stream",
     "text": [
      "天地会 0.8320711255073547\n",
      "雪山派 0.7995736598968506\n",
      "红花会 0.7935739755630493\n",
      "星宿派 0.7929050922393799\n",
      "门人 0.7922376394271851\n",
      "长乐帮 0.7837005853652954\n",
      "峨嵋派 0.7817187309265137\n",
      "魔教 0.7808404564857483\n",
      "恒山派 0.7777884602546692\n",
      "全真教 0.771417498588562\n"
     ]
    },
    {
     "name": "stderr",
     "output_type": "stream",
     "text": [
      "/Users/Tyler/anaconda3/envs/tf2/lib/python3.6/site-packages/ipykernel_launcher.py:1: DeprecationWarning: Call to deprecated `most_similar` (Method will be removed in 4.0.0, use self.wv.most_similar() instead).\n",
      "  \"\"\"Entry point for launching an IPython kernel.\n"
     ]
    }
   ],
   "source": [
    "for k, s in model.most_similar(positive=[\"丐帮\"]):\n",
    "    print (k, s)"
   ]
  },
  {
   "cell_type": "markdown",
   "metadata": {},
   "source": [
    "这个出来的结果就是一堆门派。\n",
    "\n",
    "还可以看看武功秘籍："
   ]
  },
  {
   "cell_type": "code",
   "execution_count": 89,
   "metadata": {},
   "outputs": [
    {
     "name": "stdout",
     "output_type": "stream",
     "text": [
      "打狗棒法 0.9086053371429443\n",
      "一阳指 0.870179295539856\n",
      "七十二路 0.868713915348053\n",
      "太极拳 0.8662938475608826\n",
      "乾坤大挪移 0.8579959273338318\n",
      "八卦掌 0.8568238615989685\n",
      "心法 0.855387270450592\n",
      "空明拳 0.8463597297668457\n",
      "掌法 0.8457719087600708\n",
      "绝招 0.8408139944076538\n"
     ]
    },
    {
     "name": "stderr",
     "output_type": "stream",
     "text": [
      "/Users/Tyler/anaconda3/envs/tf2/lib/python3.6/site-packages/ipykernel_launcher.py:1: DeprecationWarning: Call to deprecated `most_similar` (Method will be removed in 4.0.0, use self.wv.most_similar() instead).\n",
      "  \"\"\"Entry point for launching an IPython kernel.\n"
     ]
    }
   ],
   "source": [
    "for k, s in model.most_similar(positive=[\"降龙十八掌\"]):\n",
    "    print (k, s)"
   ]
  },
  {
   "cell_type": "markdown",
   "metadata": {},
   "source": [
    "在 Word2Vec 的模型里，有过“中国-北京=法国-巴黎”的例子，这里我们也可以找到这样的例子："
   ]
  },
  {
   "cell_type": "code",
   "execution_count": 90,
   "metadata": {},
   "outputs": [
    {
     "name": "stdout",
     "output_type": "stream",
     "text": [
      "给定“段誉”与“段公子”，“乔峰”和“乔帮主”有类似的关系\n"
     ]
    },
    {
     "name": "stderr",
     "output_type": "stream",
     "text": [
      "/Users/Tyler/anaconda3/envs/tf2/lib/python3.6/site-packages/ipykernel_launcher.py:6: DeprecationWarning: Call to deprecated `most_similar` (Method will be removed in 4.0.0, use self.wv.most_similar() instead).\n",
      "  \n"
     ]
    }
   ],
   "source": [
    "def find_relationship(a, b, c):\n",
    "    \"\"\"\n",
    "    返回 d\n",
    "    a与b的关系，跟c与d的关系一样\n",
    "    \"\"\"\n",
    "    d, _ = model.most_similar(positive=[c, b], negative=[a])[0]\n",
    "    print (\"给定“{}”与“{}”，“{}”和“{}”有类似的关系\".format(a, b, c, d))\n",
    "\n",
    "find_relationship(\"段誉\", \"段公子\", \"乔峰\")"
   ]
  },
  {
   "cell_type": "markdown",
   "metadata": {},
   "source": [
    "类似的："
   ]
  },
  {
   "cell_type": "code",
   "execution_count": 91,
   "metadata": {
    "scrolled": true
   },
   "outputs": [
    {
     "name": "stdout",
     "output_type": "stream",
     "text": [
      "给定“郭靖”与“黄蓉”，“杨过”和“小龙女”有类似的关系\n",
      "给定“令狐冲”与“任我行”，“郭靖”和“黄药师”有类似的关系\n",
      "给定“郭靖”与“华筝”，“杨过”和“郭芙”有类似的关系\n"
     ]
    },
    {
     "name": "stderr",
     "output_type": "stream",
     "text": [
      "/Users/Tyler/anaconda3/envs/tf2/lib/python3.6/site-packages/ipykernel_launcher.py:6: DeprecationWarning: Call to deprecated `most_similar` (Method will be removed in 4.0.0, use self.wv.most_similar() instead).\n",
      "  \n"
     ]
    }
   ],
   "source": [
    "# 情侣对\n",
    "find_relationship(\"郭靖\", \"黄蓉\", \"杨过\")\n",
    "\n",
    "# 岳父女婿\n",
    "find_relationship(\"令狐冲\", \"任我行\", \"郭靖\")\n",
    "\n",
    "# 非情侣\n",
    "find_relationship(\"郭靖\", \"华筝\", \"杨过\")"
   ]
  },
  {
   "cell_type": "markdown",
   "metadata": {},
   "source": [
    "以及，小宝你是有多爱男人："
   ]
  },
  {
   "cell_type": "code",
   "execution_count": 92,
   "metadata": {},
   "outputs": [
    {
     "name": "stdout",
     "output_type": "stream",
     "text": [
      "给定“杨过”与“小龙女”，“韦小宝”和“康熙”有类似的关系\n",
      "给定“令狐冲”与“盈盈”，“韦小宝”和“太后”有类似的关系\n",
      "给定“张无忌”与“赵敏”，“韦小宝”和“康熙”有类似的关系\n"
     ]
    },
    {
     "name": "stderr",
     "output_type": "stream",
     "text": [
      "/Users/Tyler/anaconda3/envs/tf2/lib/python3.6/site-packages/ipykernel_launcher.py:6: DeprecationWarning: Call to deprecated `most_similar` (Method will be removed in 4.0.0, use self.wv.most_similar() instead).\n",
      "  \n"
     ]
    }
   ],
   "source": [
    "# 韦小宝\n",
    "find_relationship(\"杨过\", \"小龙女\", \"韦小宝\")\n",
    "find_relationship(\"令狐冲\", \"盈盈\", \"韦小宝\")\n",
    "find_relationship(\"张无忌\", \"赵敏\", \"韦小宝\")"
   ]
  },
  {
   "cell_type": "markdown",
   "metadata": {},
   "source": [
    "除了人物之间的关系，门派武功之间的关系："
   ]
  },
  {
   "cell_type": "code",
   "execution_count": 93,
   "metadata": {},
   "outputs": [
    {
     "name": "stdout",
     "output_type": "stream",
     "text": [
      "给定“郭靖”与“降龙十八掌”，“黄蓉”和“打狗棒法”有类似的关系\n",
      "给定“武当”与“张三丰”，“少林”和“玄慈”有类似的关系\n",
      "给定“任我行”与“魔教”，“令狐冲”和“恒山派”有类似的关系\n"
     ]
    },
    {
     "name": "stderr",
     "output_type": "stream",
     "text": [
      "/Users/Tyler/anaconda3/envs/tf2/lib/python3.6/site-packages/ipykernel_launcher.py:6: DeprecationWarning: Call to deprecated `most_similar` (Method will be removed in 4.0.0, use self.wv.most_similar() instead).\n",
      "  \n"
     ]
    }
   ],
   "source": [
    "find_relationship(\"郭靖\", \"降龙十八掌\", \"黄蓉\")\n",
    "find_relationship(\"武当\", \"张三丰\", \"少林\")\n",
    "find_relationship(\"任我行\", \"魔教\", \"令狐冲\")"
   ]
  },
  {
   "cell_type": "markdown",
   "metadata": {},
   "source": [
    "## 人物聚类分析"
   ]
  },
  {
   "cell_type": "markdown",
   "metadata": {},
   "source": [
    "之前我们对文本进行 `Word2Vec` 的结果，是将一个中文词组，映射到了一个向量空间，因此，我们可以利用这个向量表示的空间，对这些词进行聚类分析。\n",
    "\n",
    "因为全部小说中的人物太多，我们考虑从单本小说进行入手："
   ]
  },
  {
   "cell_type": "code",
   "execution_count": 94,
   "metadata": {},
   "outputs": [
    {
     "name": "stderr",
     "output_type": "stream",
     "text": [
      "/Users/Tyler/anaconda3/envs/tf2/lib/python3.6/site-packages/ipykernel_launcher.py:5: DeprecationWarning: Call to deprecated `__contains__` (Method will be removed in 4.0.0, use self.wv.__contains__() instead).\n",
      "  \"\"\"\n",
      "/Users/Tyler/anaconda3/envs/tf2/lib/python3.6/site-packages/ipykernel_launcher.py:8: DeprecationWarning: Call to deprecated `__getitem__` (Method will be removed in 4.0.0, use self.wv.__getitem__() instead).\n",
      "  \n",
      "/Users/Tyler/anaconda3/envs/tf2/lib/python3.6/site-packages/ipykernel_launcher.py:10: DeprecationWarning: Call to deprecated `__getitem__` (Method will be removed in 4.0.0, use self.wv.__getitem__() instead).\n",
      "  # Remove the CWD from sys.path while we load stuff.\n"
     ]
    }
   ],
   "source": [
    "all_names = []\n",
    "word_vectors = None\n",
    "\n",
    "for name in novel_names[\"天龙八部\"]:\n",
    "    if name in model:\n",
    "        all_names.append(name)\n",
    "        if word_vectors is None:\n",
    "            word_vectors = model[name]\n",
    "        else:\n",
    "            word_vectors = np.vstack((word_vectors, model[name]))\n",
    "            \n",
    "all_names = np.array(all_names)"
   ]
  },
  {
   "cell_type": "markdown",
   "metadata": {},
   "source": [
    "### KMeans"
   ]
  },
  {
   "cell_type": "markdown",
   "metadata": {},
   "source": [
    "聚类我们可以使用很多方法，这里我们用 scikit-learn 自带的几种聚类方法进行聚类。\n",
    "\n",
    "先考虑 Kmeans："
   ]
  },
  {
   "cell_type": "code",
   "execution_count": 95,
   "metadata": {},
   "outputs": [],
   "source": [
    "from sklearn.cluster import KMeans"
   ]
  },
  {
   "cell_type": "markdown",
   "metadata": {},
   "source": [
    "如果只分成3类，那么很明显地可以将众人分成主角，配角，跑龙套的三类："
   ]
  },
  {
   "cell_type": "code",
   "execution_count": 96,
   "metadata": {},
   "outputs": [
    {
     "name": "stdout",
     "output_type": "stream",
     "text": [
      "\n",
      "类别1：\n",
      "刀白凤\n",
      "丁春秋\n",
      "马夫人\n",
      "巴天石\n",
      "邓百川\n",
      "风波恶\n",
      "公冶乾\n",
      "包不同\n",
      "乌老大\n",
      "云中鹤\n",
      "\n",
      "白世镜\n",
      "本因\n",
      "过彦之\n",
      "司马林\n",
      "玄慈\n",
      "玄寂\n",
      "玄难\n",
      "叶二娘\n",
      "左子穆\n",
      "李秋水\n",
      "\n",
      "全冠清\n",
      "阮星竹\n",
      "朱丹臣\n",
      "阿碧\n",
      "鸠摩智\n",
      "耶律洪基\n",
      "苏星河\n",
      "段延庆\n",
      "范骅\n",
      "赵钱孙\n",
      "\n",
      "哲罗星\n",
      "钟万仇\n",
      "高升泰\n",
      "秦红棉\n",
      "徐长老\n",
      "崔百泉\n",
      "萧远山\n",
      "褚万里\n",
      "慕容博\n",
      "谭婆\n",
      "\n",
      "摘星子\n",
      "薛慕华\n",
      "\n",
      "\n",
      "类别2：\n",
      "马五德\n",
      "小翠\n",
      "不平道人\n",
      "甘宝宝\n",
      "天狼子\n",
      "太皇太后\n",
      "无崖子\n",
      "止清\n",
      "天山童姥\n",
      "本参\n",
      "\n",
      "本观\n",
      "本相\n",
      "出尘子\n",
      "冯阿三\n",
      "古笃诚\n",
      "兰剑\n",
      "平婆婆\n",
      "石嫂\n",
      "司空玄\n",
      "玄苦\n",
      "\n",
      "玄生\n",
      "玄痛\n",
      "耶律莫哥\n",
      "李春来\n",
      "李傀儡\n",
      "刘竹庄\n",
      "朴者和尚\n",
      "许卓诚\n",
      "竹剑\n",
      "阿洪\n",
      "\n",
      "阿胜\n",
      "波罗星\n",
      "陈孤雁\n",
      "来福儿\n",
      "努儿海\n",
      "宋长老\n",
      "苏辙\n",
      "吴长风\n",
      "辛双清\n",
      "严妈妈\n",
      "\n",
      "余婆婆\n",
      "岳老三\n",
      "张全祥\n",
      "单伯山\n",
      "单季山\n",
      "单小山\n",
      "单正\n",
      "段正明\n",
      "宗赞王子\n",
      "苟读\n",
      "\n",
      "华赫艮\n",
      "郁光标\n",
      "卓不凡\n",
      "范百龄\n",
      "哈大霸\n",
      "吴光胜\n",
      "梦姑\n",
      "神山上人\n",
      "神音\n",
      "室里\n",
      "\n",
      "姚伯当\n",
      "幽草\n",
      "龚光杰\n",
      "贾老者\n",
      "康广陵\n",
      "容子矩\n",
      "桑土公\n",
      "唐光雄\n",
      "奚长老\n",
      "诸保昆\n",
      "\n",
      "崔绿华\n",
      "符敏仪\n",
      "菊剑\n",
      "梅剑\n",
      "游骥\n",
      "游驹\n",
      "傅思归\n",
      "葛光佩\n",
      "缘根\n",
      "鲍千灵\n",
      "\n",
      "智光大师\n",
      "瑞婆婆\n",
      "端木元\n",
      "黎夫人\n",
      "谭公\n",
      "赫连铁树\n",
      "谭青\n",
      "慧方\n",
      "慧观\n",
      "慧净\n",
      "\n",
      "慧真\n",
      "穆贵妃\n",
      "吴领军\n",
      "易大彪\n",
      "\n",
      "\n",
      "类别3：\n",
      "木婉清\n",
      "王语嫣\n",
      "乔峰\n",
      "萧峰\n",
      "阿朱\n",
      "阿紫\n",
      "段誉\n",
      "段正淳\n",
      "钟灵\n",
      "虚竹\n",
      "\n",
      "游坦之\n",
      "慕容复\n",
      "\n"
     ]
    }
   ],
   "source": [
    "N = 3\n",
    "label = KMeans(N).fit(word_vectors).labels_\n",
    "\n",
    "for c in range(N):\n",
    "    print (\"\\n类别{}：\".format(c+1))\n",
    "    for idx, name in enumerate(all_names[label==c]):\n",
    "        print( name,)\n",
    "        if idx % 10 == 9:\n",
    "            print ()\n",
    "    print()"
   ]
  },
  {
   "cell_type": "markdown",
   "metadata": {},
   "source": [
    "我们把众龙套去掉："
   ]
  },
  {
   "cell_type": "code",
   "execution_count": 97,
   "metadata": {
    "scrolled": true
   },
   "outputs": [
    {
     "name": "stdout",
     "output_type": "stream",
     "text": [
      "\n",
      "类别1：\n",
      "巴天石\n",
      "邓百川\n",
      "公冶乾\n",
      "本因\n",
      "玄慈\n",
      "玄寂\n",
      "玄难\n",
      "朱丹臣\n",
      "耶律洪基\n",
      "范骅\n",
      "\n",
      "哲罗星\n",
      "高升泰\n",
      "徐长老\n",
      "\n",
      "\n",
      "类别2：\n",
      "木婉清\n",
      "王语嫣\n",
      "萧峰\n",
      "阿朱\n",
      "阿紫\n",
      "段誉\n",
      "段正淳\n",
      "钟灵\n",
      "游坦之\n",
      "\n",
      "\n",
      "类别3：\n",
      "丁春秋\n",
      "乔峰\n",
      "鸠摩智\n",
      "段延庆\n",
      "虚竹\n",
      "慕容复\n",
      "\n",
      "\n",
      "类别4：\n",
      "刀白凤\n",
      "马夫人\n",
      "风波恶\n",
      "包不同\n",
      "乌老大\n",
      "云中鹤\n",
      "白世镜\n",
      "过彦之\n",
      "司马林\n",
      "叶二娘\n",
      "\n",
      "左子穆\n",
      "李秋水\n",
      "全冠清\n",
      "阮星竹\n",
      "阿碧\n",
      "苏星河\n",
      "赵钱孙\n",
      "钟万仇\n",
      "秦红棉\n",
      "崔百泉\n",
      "\n",
      "萧远山\n",
      "褚万里\n",
      "慕容博\n",
      "谭婆\n",
      "摘星子\n",
      "薛慕华\n",
      "\n"
     ]
    }
   ],
   "source": [
    "N = 4\n",
    "c = sp.stats.mode(label).mode\n",
    "remain_names = all_names[label!=c]\n",
    "remain_vectors = word_vectors[label!=c]\n",
    "\n",
    "remain_label = KMeans(N).fit(remain_vectors).labels_\n",
    "\n",
    "for c in range(N):\n",
    "    print (\"\\n类别{}：\".format(c+1))\n",
    "    for idx, name in enumerate(remain_names[remain_label==c]):\n",
    "        print (name,)\n",
    "        if idx % 10 == 9:\n",
    "            print ()\n",
    "    print()"
   ]
  },
  {
   "cell_type": "markdown",
   "metadata": {},
   "source": [
    "可以看到，段家的儿子和女儿倾向于聚在一起，而反派角色则倾向于被聚在一起。"
   ]
  },
  {
   "cell_type": "markdown",
   "metadata": {},
   "source": [
    "### 层级聚类"
   ]
  },
  {
   "cell_type": "markdown",
   "metadata": {},
   "source": [
    "换一本小说："
   ]
  },
  {
   "cell_type": "code",
   "execution_count": 98,
   "metadata": {},
   "outputs": [
    {
     "name": "stderr",
     "output_type": "stream",
     "text": [
      "/Users/Tyler/anaconda3/envs/tf2/lib/python3.6/site-packages/ipykernel_launcher.py:5: DeprecationWarning: Call to deprecated `__contains__` (Method will be removed in 4.0.0, use self.wv.__contains__() instead).\n",
      "  \"\"\"\n",
      "/Users/Tyler/anaconda3/envs/tf2/lib/python3.6/site-packages/ipykernel_launcher.py:8: DeprecationWarning: Call to deprecated `__getitem__` (Method will be removed in 4.0.0, use self.wv.__getitem__() instead).\n",
      "  \n",
      "/Users/Tyler/anaconda3/envs/tf2/lib/python3.6/site-packages/ipykernel_launcher.py:10: DeprecationWarning: Call to deprecated `__getitem__` (Method will be removed in 4.0.0, use self.wv.__getitem__() instead).\n",
      "  # Remove the CWD from sys.path while we load stuff.\n"
     ]
    }
   ],
   "source": [
    "all_names = []\n",
    "word_vectors = None\n",
    "\n",
    "for name in novel_names[\"倚天屠龙记\"]:\n",
    "    if name in model:\n",
    "        all_names.append(name)\n",
    "        if word_vectors is None:\n",
    "            word_vectors = model[name]\n",
    "        else:\n",
    "            word_vectors = np.vstack((word_vectors, model[name]))\n",
    "            \n",
    "all_names = np.array(all_names)"
   ]
  },
  {
   "cell_type": "markdown",
   "metadata": {},
   "source": [
    "这次采用层级聚类的方式，调用的是 `Scipy` 中层级聚类的包："
   ]
  },
  {
   "cell_type": "code",
   "execution_count": 99,
   "metadata": {},
   "outputs": [],
   "source": [
    "import scipy.cluster.hierarchy as sch"
   ]
  },
  {
   "cell_type": "code",
   "execution_count": 100,
   "metadata": {
    "scrolled": false
   },
   "outputs": [
    {
     "data": {
      "image/png": "[encoded data removed]",
      "text/plain": [
       "<Figure size 720x2880 with 1 Axes>"
      ]
     },
     "metadata": {
      "needs_background": "light"
     },
     "output_type": "display_data"
    }
   ],
   "source": [
    "Y = sch.linkage(word_vectors, method=\"ward\")\n",
    "\n",
    "_, ax = plt.subplots(figsize=(10, 40))\n",
    "\n",
    "Z = sch.dendrogram(Y, orientation='right')\n",
    "idx = Z['leaves']\n",
    "\n",
    "ax.set_xticks([])\n",
    "ax.set_yticklabels(all_names[idx], fontproperties=font)\n",
    "ax.set_frame_on(False)\n",
    "\n",
    "plt.show()"
   ]
  },
  {
   "cell_type": "markdown",
   "metadata": {
    "collapsed": true
   },
   "source": [
    "来看红色聚类区的上半部分：\n",
    "\n",
    "与张教主相关的人物：两个女人，赵敏和周芷若；父母和义父。\n",
    "\n",
    "而红色聚类区的下半部分主要是明教与武当中与张无忌相关的部分。"
   ]
  },
  {
   "cell_type": "markdown",
   "metadata": {},
   "source": [
    "### 门派和武功"
   ]
  },
  {
   "cell_type": "markdown",
   "metadata": {},
   "source": [
    "除了人物，我们还可以考虑对武功进行聚类分析："
   ]
  },
  {
   "cell_type": "code",
   "execution_count": 101,
   "metadata": {
    "scrolled": false
   },
   "outputs": [
    {
     "name": "stderr",
     "output_type": "stream",
     "text": [
      "/Users/Tyler/anaconda3/envs/tf2/lib/python3.6/site-packages/ipykernel_launcher.py:4: DeprecationWarning: Call to deprecated `__contains__` (Method will be removed in 4.0.0, use self.wv.__contains__() instead).\n",
      "  after removing the cwd from sys.path.\n",
      "/Users/Tyler/anaconda3/envs/tf2/lib/python3.6/site-packages/ipykernel_launcher.py:7: DeprecationWarning: Call to deprecated `__getitem__` (Method will be removed in 4.0.0, use self.wv.__getitem__() instead).\n",
      "  import sys\n",
      "/Users/Tyler/anaconda3/envs/tf2/lib/python3.6/site-packages/ipykernel_launcher.py:9: DeprecationWarning: Call to deprecated `__getitem__` (Method will be removed in 4.0.0, use self.wv.__getitem__() instead).\n",
      "  if __name__ == '__main__':\n"
     ]
    },
    {
     "data": {
      "image/png": "[encoded data removed]",
      "text/plain": [
       "<Figure size 720x2520 with 1 Axes>"
      ]
     },
     "metadata": {
      "needs_background": "light"
     },
     "output_type": "display_data"
    }
   ],
   "source": [
    "all_names = []\n",
    "word_vectors = None\n",
    "for name in kungfu_names:\n",
    "    if name in model:\n",
    "        all_names.append(name)\n",
    "        if word_vectors is None:\n",
    "            word_vectors = model[name]\n",
    "        else:\n",
    "            word_vectors = np.vstack((word_vectors, model[name]))\n",
    "            \n",
    "all_names = np.array(all_names)\n",
    "\n",
    "Y = sch.linkage(word_vectors, method=\"ward\")\n",
    "\n",
    "_, ax = plt.subplots(figsize=(10, 35))\n",
    "\n",
    "Z = sch.dendrogram(Y, orientation='right')\n",
    "idx = Z['leaves']\n",
    "\n",
    "ax.set_xticks([])\n",
    "ax.set_yticklabels(all_names[idx], fontproperties=font)\n",
    "ax.set_frame_on(False)\n",
    "\n",
    "plt.show()"
   ]
  },
  {
   "cell_type": "markdown",
   "metadata": {},
   "source": [
    "可以认为，一部分是主角比较厉害的武功，比较多的那部分只能算是配角们的武功。"
   ]
  },
  {
   "cell_type": "markdown",
   "metadata": {},
   "source": [
    "再来就是门派的聚类："
   ]
  },
  {
   "cell_type": "code",
   "execution_count": 102,
   "metadata": {
    "scrolled": false
   },
   "outputs": [
    {
     "name": "stderr",
     "output_type": "stream",
     "text": [
      "/Users/Tyler/anaconda3/envs/tf2/lib/python3.6/site-packages/ipykernel_launcher.py:4: DeprecationWarning: Call to deprecated `__contains__` (Method will be removed in 4.0.0, use self.wv.__contains__() instead).\n",
      "  after removing the cwd from sys.path.\n",
      "/Users/Tyler/anaconda3/envs/tf2/lib/python3.6/site-packages/ipykernel_launcher.py:7: DeprecationWarning: Call to deprecated `__getitem__` (Method will be removed in 4.0.0, use self.wv.__getitem__() instead).\n",
      "  import sys\n",
      "/Users/Tyler/anaconda3/envs/tf2/lib/python3.6/site-packages/ipykernel_launcher.py:9: DeprecationWarning: Call to deprecated `__getitem__` (Method will be removed in 4.0.0, use self.wv.__getitem__() instead).\n",
      "  if __name__ == '__main__':\n"
     ]
    },
    {
     "data": {
      "image/png": "[encoded data removed]",
      "text/plain": [
       "<Figure size 720x1800 with 1 Axes>"
      ]
     },
     "metadata": {
      "needs_background": "light"
     },
     "output_type": "display_data"
    }
   ],
   "source": [
    "all_names = []\n",
    "word_vectors = None\n",
    "for name in bang_names:\n",
    "    if name in model:\n",
    "        all_names.append(name)\n",
    "        if word_vectors is None:\n",
    "            word_vectors = model[name]\n",
    "        else:\n",
    "            word_vectors = np.vstack((word_vectors, model[name]))\n",
    "            \n",
    "all_names = np.array(all_names)\n",
    "\n",
    "Y = sch.linkage(word_vectors, method=\"ward\")\n",
    "\n",
    "_, ax = plt.subplots(figsize=(10, 25))\n",
    "\n",
    "Z = sch.dendrogram(Y, orientation='right')\n",
    "idx = Z['leaves']\n",
    "\n",
    "ax.set_xticks([])\n",
    "ax.set_yticklabels(all_names[idx], fontproperties=font)\n",
    "ax.set_frame_on(False)\n",
    "\n",
    "plt.show()"
   ]
  },
  {
   "cell_type": "markdown",
   "metadata": {},
   "source": [
    "比较少的这一类，基本都是在某几部小说中出现的主要门派，而大多数门派都是打酱油的。"
   ]
  },
  {
   "cell_type": "markdown",
   "metadata": {},
   "source": [
    "## 总结"
   ]
  },
  {
   "cell_type": "markdown",
   "metadata": {},
   "source": [
    "> 飞雪连天射白鹿，笑书神侠倚碧鸳。\n",
    "\n",
    "<p align=center><img src=\"http://d.hiphotos.baidu.com/baike/pic/item/cf1b9d16fdfaaf5120f00f5c8e5494eef11f7ac6.jpg\", width='30%'></p>"
   ]
  }
 ],
 "metadata": {
  "kernelspec": {
   "display_name": "Python 3",
   "language": "python",
   "name": "python3"
  },
  "language_info": {
   "codemirror_mode": {
    "name": "ipython",
    "version": 3
   },
   "file_extension": ".py",
   "mimetype": "text/x-python",
   "name": "python",
   "nbconvert_exporter": "python",
   "pygments_lexer": "ipython3",
   "version": "3.6.12"
  }
 },
 "nbformat": 4,
 "nbformat_minor": 1
}
