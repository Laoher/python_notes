{
 "cells": [
  {
   "cell_type": "code",
   "execution_count": 2,
   "metadata": {},
   "outputs": [],
   "source": [
    "import collections"
   ]
  },
  {
   "cell_type": "markdown",
   "metadata": {},
   "source": [
    "## 双端队列"
   ]
  },
  {
   "cell_type": "markdown",
   "metadata": {},
   "source": [
    "双端队列支持从队头队尾出入队："
   ]
  },
  {
   "cell_type": "code",
   "execution_count": 7,
   "metadata": {},
   "outputs": [
    {
     "name": "stdout",
     "output_type": "stream",
     "text": [
      "deque([0, 1, 2, 3, 4, 5, 6, 7, 8, 9])\n",
      "9\n",
      "8\n",
      "7\n",
      "6\n",
      "5\n",
      "4\n",
      "3\n",
      "2\n",
      "1\n",
      "0\n",
      "\n",
      "deque([9, 8, 7, 6, 5, 4, 3, 2, 1, 0])\n",
      "9\n",
      "8\n",
      "7\n",
      "6\n",
      "5\n",
      "4\n",
      "3\n",
      "2\n",
      "1\n",
      "0\n"
     ]
    }
   ],
   "source": [
    "dq = collections.deque()\n",
    "\n",
    "# 0-9从右边（结尾）依次加进去\n",
    "for i in range(10):\n",
    "    dq.append(i)\n",
    "    \n",
    "print (dq) # 结果\n",
    "\n",
    "# 9-0从右边依次被pop出去\n",
    "for i in range(10):\n",
    "    print (dq.pop())\n",
    "\n",
    "print ()\n",
    "# 0-9从左边（起始）依次加进去\n",
    "for i in range(10):\n",
    "    dq.appendleft(i)\n",
    "    \n",
    "print (dq)\n",
    "\n",
    "for i in range(10):\n",
    "    print (dq.popleft())"
   ]
  },
  {
   "cell_type": "markdown",
   "metadata": {},
   "source": [
    "与列表相比，双端队列在队头的操作更快："
   ]
  },
  {
   "cell_type": "code",
   "execution_count": 8,
   "metadata": {},
   "outputs": [
    {
     "name": "stdout",
     "output_type": "stream",
     "text": [
      "290 ns ± 98.2 ns per loop (mean ± std. dev. of 7 runs, 100 loops each)\n",
      "108 ns ± 58.5 ns per loop (mean ± std. dev. of 7 runs, 100 loops each)\n"
     ]
    }
   ],
   "source": [
    "lst = []\n",
    "dq = collections.deque()\n",
    "\n",
    "%timeit -n100 lst.insert(0, 10)\n",
    "%timeit -n100 dq.appendleft(10)"
   ]
  }
 ],
 "metadata": {
  "kernelspec": {
   "display_name": "Python 3",
   "language": "python",
   "name": "python3"
  },
  "language_info": {
   "codemirror_mode": {
    "name": "ipython",
    "version": 3
   },
   "file_extension": ".py",
   "mimetype": "text/x-python",
   "name": "python",
   "nbconvert_exporter": "python",
   "pygments_lexer": "ipython3",
   "version": "3.6.12"
  }
 },
 "nbformat": 4,
 "nbformat_minor": 1
}
