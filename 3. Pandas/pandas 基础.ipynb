{
 "cells": [
  {
   "cell_type": "code",
   "execution_count": null,
   "metadata": {
    "collapsed": true
   },
   "outputs": [],
   "source": [
    "# Before we analyze anything, we need to import pandas\n",
    "%matplotlib inline\n",
    "\n",
    "import pandas as pd\n",
    "import numpy as np\n",
    "import matplotlib.pyplot as plt"
   ]
  },
  {
   "cell_type": "markdown",
   "metadata": {},
   "source": [
    "# 产生"
   ]
  },
  {
   "cell_type": "code",
   "execution_count": null,
   "metadata": {
    "collapsed": true
   },
   "outputs": [],
   "source": [
    "# 导入/读取csv文件\n",
    "\n",
    "from numpy.core.defchararray import upper\n",
    "\n",
    "df = pd.read_csv('shoefly_orders.csv')\n",
    "# 文件前十行\n",
    "df.head(10)\n",
    "# 文件行列数\n",
    "df.shape()\n",
    "# 给出表格的许多信息\n",
    "df.info()\n",
    "# 选取符合条件的数据\n",
    "df[(df.shoe_type == 'sandals') & (df.shoe_color == 'black')]  # 这个括号不能省略\n",
    "\n",
    "# 自己创建表格\n",
    "# 方法一\n",
    "df1 = pd.DataFrame({\n",
    "  'Product ID': [1, 2, 3, 4],\n",
    "  # add Product Name and Color here\n",
    "  'Product Name': ['t-shirt', 't-shirt', 'skirt', 'skirt'],\n",
    "  'Color': ['blue', 'green', 'red', 'black']\n",
    "})\n",
    "print(df1)\n",
    "# 方法二\n",
    "df2 = pd.DataFrame([\n",
    "    ['John Smith', '123 Main St.', 34],\n",
    "    ['Jane Doe', '456 Maple Ave.', 28],\n",
    "    ['Joe Schmo', '789 Broadway', 51]\n",
    "    ],\n",
    "    columns=['name', 'address', 'age'])\n",
    "# 自己写一个csv文件大概的格式（以下写在csv文件中）\n",
    "# name,cake_flavor,frosting_flavor,topping\n",
    "# Devil's Food,chocolate,chocolate,chocolate shavings\n",
    "# Birthday Cake,vanilla,vanilla,rainbow sprinkles\n",
    "# Carrot cake,carrot,cream cheese,almonds\n",
    "\n",
    "# 选取表格的一列数据\n",
    "clinic_north=df['clinic_north']\n",
    "# 选取表格的几列作为新的dataframe\n",
    "new_dataframe=df[['name','age']]\n",
    "# 选取表格的几行作为新的数据\n",
    "match=df.iloc[2]  # 比如这个就是选取第三行，第一行是0\n",
    "match2=df.iloc[2:7]  # 2,3,4,5,6行\n",
    "# 查看某个参数存在于选项中的行\n",
    "january_february_march=df[df.month.isin(['January','February','March'])]\n",
    "\n",
    "# 重置index (从之前的大表中截到的index可能不连续)\n",
    "df.reset_index()  # 添加了从0开始的index\n",
    "df.reset_index(drop=True)  # 把之前的index去掉\n",
    "\n",
    "# 添加不存在的列 直接在中括号里写一个新的列名，后面把内容填上\n",
    "df['Sold in Bulk?']=['Yes','Yes','No','No']\n",
    "df['Is taxed?']='Yes'  # 如果所有的行添加的内容都一样的话就直接在后面把相同的这个值给出\n",
    "df['Sales Tax'] = df.Price * 0.075  # 新增的这个相同的值跟另一列有关系  # 后面也可以是df['Price']\n",
    "df['Name'] = df.Name.apply(upper)  # 更复杂的操作， 把字母都变成大写 # 使用复杂的公式的话就用 .apply() 括号里放要用的公式\n",
    "# 如果这个apply没有指定的某一行，括号里要加上 axis=1\n",
    "\n",
    "# 一行的某一个数据 可以用row.column_name的方式得到\n",
    "total_earned = lambda row:1.5*row.hourly_wage*(row.hours_worked-40)+400 if row.hours_worked >40 else row.hourly_wage*row.hours_worked\n",
    "\n",
    "# 改column的名字 You can change all of the column names at once by setting the .columns property to a different list.\n",
    "df.columns=['ID','Title','Category','Year Released','Rating']\n",
    "# 方法二\n",
    "df.rename(columns={'name': 'First Name','age': 'Age'}, inplace=True)\n",
    "df.rename(columns={'name':'movie_title'},inplace=True)"
   ]
  }
 ],
 "metadata": {
  "kernelspec": {
   "display_name": "Python 3",
   "language": "python",
   "name": "python3"
  },
  "language_info": {
   "codemirror_mode": {
    "name": "ipython",
    "version": 3
   },
   "file_extension": ".py",
   "mimetype": "text/x-python",
   "name": "python",
   "nbconvert_exporter": "python",
   "pygments_lexer": "ipython3",
   "version": "3.6.8"
  }
 },
 "nbformat": 4,
 "nbformat_minor": 2
}
