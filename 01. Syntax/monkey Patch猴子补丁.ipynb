{
 "cells": [
  {
   "cell_type": "code",
   "execution_count": null,
   "metadata": {},
   "outputs": [],
   "source": [
    "所谓猴子补丁就是在程序运行的过程中动态的修改一些模块、类、方法，而不是在静态代码中去修改相应的实现。"
   ]
  },
  {
   "cell_type": "code",
   "execution_count": 8,
   "metadata": {},
   "outputs": [
    {
     "name": "stdout",
     "output_type": "stream",
     "text": [
      "apple\n",
      "banana\n"
     ]
    }
   ],
   "source": [
    "class Xiaoming():\n",
    "    def favourite(self):\n",
    "        print(\"apple\")\n",
    "\n",
    "def new_hobby():\n",
    "    print(\"banana\")\n",
    "    \n",
    "A = Xiaoming()\n",
    "A.favourite()\n",
    "A.favourite = new_hobby\n",
    "\n",
    "A.favourite()"
   ]
  },
  {
   "cell_type": "code",
   "execution_count": 10,
   "metadata": {},
   "outputs": [
    {
     "name": "stdout",
     "output_type": "stream",
     "text": [
      "banana\n"
     ]
    }
   ],
   "source": [
    "class Xiaoming():\n",
    "    def favourite(self):\n",
    "        print(\"apple\")\n",
    "\n",
    "class God():\n",
    "    @classmethod #感觉我对classmethod的理解还是不够\n",
    "    def new_favourite(cls):\n",
    "        print(\"banana\")\n",
    "    @classmethod\n",
    "    def monkey_patch(cls):\n",
    "        Xiaoming.favourite = cls.new_favourite\n",
    "\n",
    "God.monkey_patch()\n",
    "\n",
    "xiaoming = Xiaoming()\n",
    "xiaoming.favourite()"
   ]
  },
  {
   "cell_type": "code",
   "execution_count": 11,
   "metadata": {},
   "outputs": [
    {
     "ename": "ModuleNotFoundError",
     "evalue": "No module named 'ujson'",
     "output_type": "error",
     "traceback": [
      "\u001b[0;31m---------------------------------------------------------------------------\u001b[0m",
      "\u001b[0;31mModuleNotFoundError\u001b[0m                       Traceback (most recent call last)",
      "\u001b[0;32m<ipython-input-11-a926b3882806>\u001b[0m in \u001b[0;36m<module>\u001b[0;34m\u001b[0m\n\u001b[1;32m      2\u001b[0m \u001b[0;34m\u001b[0m\u001b[0m\n\u001b[1;32m      3\u001b[0m \u001b[0;32mimport\u001b[0m \u001b[0mjson\u001b[0m\u001b[0;34m\u001b[0m\u001b[0;34m\u001b[0m\u001b[0m\n\u001b[0;32m----> 4\u001b[0;31m \u001b[0;32mimport\u001b[0m \u001b[0mujson\u001b[0m\u001b[0;34m\u001b[0m\u001b[0;34m\u001b[0m\u001b[0m\n\u001b[0m\u001b[1;32m      5\u001b[0m \u001b[0;34m\u001b[0m\u001b[0m\n\u001b[1;32m      6\u001b[0m \u001b[0;32mdef\u001b[0m \u001b[0mmonkey_patch_json\u001b[0m\u001b[0;34m(\u001b[0m\u001b[0;34m)\u001b[0m\u001b[0;34m:\u001b[0m\u001b[0;34m\u001b[0m\u001b[0;34m\u001b[0m\u001b[0m\n",
      "\u001b[0;31mModuleNotFoundError\u001b[0m: No module named 'ujson'"
     ]
    }
   ],
   "source": [
    "# 这里有一个比较实用的例子，很多代码用到 import json，后来发现ujson性能更高，如果觉得把每个文件的import json 改成 import ujson as json成本较高，或者说想测试一下用ujson替换json是否符合预期，只需要在入口加上：\n",
    "\n",
    "import json  \n",
    "import ujson  \n",
    "\n",
    "def monkey_patch_json():  \n",
    "    json.__name__ = 'ujson'  \n",
    "    json.dumps = ujson.dumps  \n",
    "    json.loads = ujson.loads  \n",
    "\n",
    "monkey_patch_json()"
   ]
  },
  {
   "cell_type": "code",
   "execution_count": null,
   "metadata": {},
   "outputs": [],
   "source": []
  }
 ],
 "metadata": {
  "kernelspec": {
   "display_name": "Python 3",
   "language": "python",
   "name": "python3"
  },
  "language_info": {
   "codemirror_mode": {
    "name": "ipython",
    "version": 3
   },
   "file_extension": ".py",
   "mimetype": "text/x-python",
   "name": "python",
   "nbconvert_exporter": "python",
   "pygments_lexer": "ipython3",
   "version": "3.6.9"
  }
 },
 "nbformat": 4,
 "nbformat_minor": 4
}
