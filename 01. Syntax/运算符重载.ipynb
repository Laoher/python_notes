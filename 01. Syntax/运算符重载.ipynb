{
 "cells": [
  {
   "cell_type": "code",
   "execution_count": 2,
   "metadata": {},
   "outputs": [
    {
     "name": "stdout",
     "output_type": "stream",
     "text": [
      "dog: (6)\n",
      "9\n",
      "[7, 8]\n",
      "[6, 7, 8]\n"
     ]
    }
   ],
   "source": [
    "class dog:\n",
    "    def __init__(self, age):\n",
    "        self.age = age\n",
    "    def __add__(self, other):\n",
    "        return (dog(self.age+other))\n",
    "    def __repr__(self):\n",
    "        return 'dog: (%s)' %self.age #必须返回字符\n",
    "\n",
    "snuppy = dog(5)\n",
    "new_year_snuppy = snuppy+1\n",
    "print(new_year_snuppy)\n",
    "\n",
    "\n",
    "class cat:\n",
    "    def __getitem__(self, index):\n",
    "        return index**2\n",
    "c = cat()\n",
    "print(c[3])\n",
    "\n",
    "class cow:\n",
    "    data = [4,5,6,7,8]\n",
    "    def __getitem__(self, index):\n",
    "        return self.data[index]\n",
    "l_cow = cow()\n",
    "print(l_cow[3:5])\n",
    "print(l_cow.data[2:5]) #感觉差不多啊 还没有意识到这个东西有什么意义"
   ]
  },
  {
   "cell_type": "code",
   "execution_count": null,
   "metadata": {
    "collapsed": true
   },
   "outputs": [],
   "source": [
    "以下是python预设好的映射关系:\n",
    "\n",
    "__init__ 赋值函数\n",
    "__add__   +\n",
    "__sub__   -\n",
    "__getitem__  索引值\n"
   ]
  },
  {
   "cell_type": "code",
   "execution_count": 3,
   "metadata": {},
   "outputs": [
    {
     "ename": "SyntaxError",
     "evalue": "invalid syntax (<ipython-input-3-a9624402a555>, line 2)",
     "output_type": "error",
     "traceback": [
      "\u001b[0;36m  File \u001b[0;32m\"<ipython-input-3-a9624402a555>\"\u001b[0;36m, line \u001b[0;32m2\u001b[0m\n\u001b[0;31m    重载运算符就是前后有两个下划线可以和正常的区分开 我们一看到这种就知道是重载运算符了 就会另眼相看\u001b[0m\n\u001b[0m                                             ^\u001b[0m\n\u001b[0;31mSyntaxError\u001b[0m\u001b[0;31m:\u001b[0m invalid syntax\n"
     ]
    }
   ],
   "source": [
    "# 变量名就是正常的没有下划线的\n",
    "# 重载运算符就是前后有两个下划线可以和正常的区分开 我们一看到这种就知道是重载运算符了 就会另眼相看\n"
   ]
  },
  {
   "cell_type": "code",
   "execution_count": 13,
   "metadata": {},
   "outputs": [
    {
     "name": "stdout",
     "output_type": "stream",
     "text": [
      "[a: 1, a: 2]\n"
     ]
    }
   ],
   "source": [
    "class a:\n",
    "    def __init__(self, value):\n",
    "        self.value =value\n",
    "    def __repr__(self):\n",
    "        return 'a: %s' %self.value\n",
    "\n",
    "ls =[a(1),a(2)]\n",
    "str_ls = str(ls)\n",
    "print(str_ls)"
   ]
  },
  {
   "cell_type": "code",
   "execution_count": null,
   "metadata": {
    "collapsed": true
   },
   "outputs": [],
   "source": []
  }
 ],
 "metadata": {
  "kernelspec": {
   "display_name": "Python 3",
   "language": "python",
   "name": "python3"
  },
  "language_info": {
   "codemirror_mode": {
    "name": "ipython",
    "version": 3
   },
   "file_extension": ".py",
   "mimetype": "text/x-python",
   "name": "python",
   "nbconvert_exporter": "python",
   "pygments_lexer": "ipython3",
   "version": "3.6.8"
  }
 },
 "nbformat": 4,
 "nbformat_minor": 2
}
