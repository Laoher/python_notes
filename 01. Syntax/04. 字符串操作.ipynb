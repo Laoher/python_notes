{
 "cells": [
  {
   "cell_type": "code",
   "execution_count": 12,
   "metadata": {},
   "outputs": [],
   "source": [
    "import string"
   ]
  },
  {
   "cell_type": "code",
   "execution_count": 27,
   "metadata": {},
   "outputs": [
    {
     "name": "stdout",
     "output_type": "stream",
     "text": [
      "['Formatter', 'Template', '_ChainMap', '_TemplateMetaclass', '__all__', '__builtins__', '__cached__', '__doc__', '__file__', '__loader__', '__name__', '__package__', '__spec__', '_re', '_string', 'ascii_letters', 'ascii_lowercase', 'ascii_uppercase', 'capwords', 'digits', 'hexdigits', 'octdigits', 'printable', 'punctuation', 'whitespace'] \n",
      "\n",
      "abcdefghijklmnopqrstuvwxyz\n",
      "ABCDEFGHIJKLMNOPQRSTUVWXYZ\n",
      "abcdefghijklmnopqrstuvwxyzABCDEFGHIJKLMNOPQRSTUVWXYZ\n",
      "0123456789\n",
      "0123456789abcdefABCDEF\n",
      "!\"#$%&'()*+,-./:;<=>?@[\\]^_`{|}~\n",
      " \t\n",
      "\r",
      "\u000b",
      "\f",
      "\n",
      "This Is A Big World\n"
     ]
    }
   ],
   "source": [
    "print(dir(string),\"\\n\")\n",
    "print (string.ascii_lowercase)\n",
    "print (string.ascii_uppercase)\n",
    "print (string.ascii_letters)\n",
    "print (string.digits)\n",
    "print (string.hexdigits)\n",
    "print (string.punctuation)\n",
    "print (string.whitespace)\n",
    "print (string.capwords(\"this is a big world\"))\n"
   ]
  },
  {
   "cell_type": "markdown",
   "metadata": {},
   "source": [
    "# 多行注释"
   ]
  },
  {
   "cell_type": "code",
   "execution_count": 1,
   "metadata": {},
   "outputs": [
    {
     "name": "stdout",
     "output_type": "stream",
     "text": [
      "\n",
      "I am a boy\n",
      "she is a girl\n",
      "it is good\n",
      "we have different sex\n",
      "Amen\n",
      "\n"
     ]
    }
   ],
   "source": [
    "# 多行String 使用''' ''' 而且还可以保持格式\n",
    "from numpy.core.defchararray import upper, split\n",
    "\n",
    "String1 = '''\n",
    "I am a boy\n",
    "she is a girl\n",
    "it is good\n",
    "we have different sex\n",
    "Amen\n",
    "'''\n",
    "\n",
    "print(String1)"
   ]
  },
  {
   "cell_type": "code",
   "execution_count": 12,
   "metadata": {},
   "outputs": [
    {
     "name": "stdout",
     "output_type": "stream",
     "text": [
      "为什么我的眼泪常含泪水\n",
      "因为我对这土地爱得深沉\n",
      "我的爱\n",
      "存在\n",
      "就不能再回来\n"
     ]
    }
   ],
   "source": [
    "poem =\"\"\"为什么我的眼泪常含泪水\n",
    "因为我对这土地爱得深沉\n",
    "我的爱\n",
    "存在\n",
    "就不能再回来\"\"\"\n",
    "print(poem)"
   ]
  },
  {
   "cell_type": "markdown",
   "metadata": {},
   "source": [
    "# 生成"
   ]
  },
  {
   "cell_type": "code",
   "execution_count": 1,
   "metadata": {},
   "outputs": [
    {
     "name": "stdout",
     "output_type": "stream",
     "text": [
      "a-b-c\n",
      "12345\n",
      "hello-good-boy-doiido\n",
      "kill 111 22\n"
     ]
    }
   ],
   "source": [
    "# 语法 str.join(sequence)\n",
    "\n",
    "str = \"-\";\n",
    "seq = (\"a\", \"b\", \"c\"); # 字符串序列\n",
    "print(str.join( seq ))  # a-b-c\n",
    "\n",
    "list=['1','2','3','4','5']\n",
    "print(''.join(list))  #12345\n",
    "\n",
    "seq = {'hello':'nihao','good':2,'boy':3,'doiido':4}\n",
    "print('-'.join(seq))  # hello-good-boy-doiido #字典只对键进行连接\n",
    "\n",
    "print('kill %s' % ' '.join(['111','22']))  # kill 111 22"
   ]
  },
  {
   "cell_type": "markdown",
   "metadata": {},
   "source": [
    "# 查找"
   ]
  },
  {
   "cell_type": "code",
   "execution_count": 2,
   "metadata": {},
   "outputs": [
    {
     "data": {
      "text/plain": [
       "False"
      ]
     },
     "execution_count": 2,
     "metadata": {},
     "output_type": "execute_result"
    }
   ],
   "source": [
    "# 查看字母是否在string中\n",
    "\"I\" in \"Team\""
   ]
  },
  {
   "cell_type": "code",
   "execution_count": 3,
   "metadata": {},
   "outputs": [
    {
     "name": "stdout",
     "output_type": "stream",
     "text": [
      "2\n",
      "3\n",
      "-1\n"
     ]
    }
   ],
   "source": [
    "# 查找字符串\n",
    "##find 方法\n",
    "sStr1 = 'abcdefg'\n",
    "sStr2 = 'cde'\n",
    "print(sStr1.find(sStr2))\n",
    "info = 'abca'\n",
    "print(info.find('a',1))##从下标1开始，查找在字符串里第一个出现的子串：返回结果3\n",
    "print(info.find('333'))##返回-1,查找不到返回-1"
   ]
  },
  {
   "cell_type": "code",
   "execution_count": 4,
   "metadata": {},
   "outputs": [],
   "source": [
    "##index 方法(不建议使用)\n",
    "#index方法是在字符串里查找子串第一次出现的位置，类似字符串的find方法，和find方法不同的是，如果查找不到子串，会抛出异常，而不是返回-1"
   ]
  },
  {
   "cell_type": "markdown",
   "metadata": {},
   "source": [
    "# 大小写转换"
   ]
  },
  {
   "cell_type": "code",
   "execution_count": 5,
   "metadata": {},
   "outputs": [
    {
     "data": {
      "text/plain": [
       "'APPLE'"
      ]
     },
     "execution_count": 5,
     "metadata": {},
     "output_type": "execute_result"
    }
   ],
   "source": [
    "# 把字母变成大写\n",
    "'apple'.upper()"
   ]
  },
  {
   "cell_type": "code",
   "execution_count": 6,
   "metadata": {},
   "outputs": [
    {
     "data": {
      "text/plain": [
       "'apple'"
      ]
     },
     "execution_count": 6,
     "metadata": {},
     "output_type": "execute_result"
    }
   ],
   "source": [
    "# 把字母变成小写\n",
    "'APPLE'.lower()"
   ]
  },
  {
   "cell_type": "markdown",
   "metadata": {},
   "source": [
    "# 字符串的分割"
   ]
  },
  {
   "cell_type": "code",
   "execution_count": 7,
   "metadata": {},
   "outputs": [
    {
     "name": "stdout",
     "output_type": "stream",
     "text": [
      "is\n",
      "['wang0792', 'e.ntu.edu.sg']\n",
      "['wang0792@e.ntu.edu.sg']\n"
     ]
    }
   ],
   "source": [
    "# 把string用空格或者别的符号隔开\n",
    "## split的用法\n",
    "print('this is my life'.split()[1])\n",
    "str =\"wang0792@e.ntu.edu.sg\"\n",
    "add = str.split('@')\n",
    "print(add)\n",
    "add = str.split()\n",
    "print(add)"
   ]
  },
  {
   "cell_type": "markdown",
   "metadata": {},
   "source": [
    "# 字符串计算"
   ]
  },
  {
   "cell_type": "code",
   "execution_count": 8,
   "metadata": {},
   "outputs": [
    {
     "name": "stdout",
     "output_type": "stream",
     "text": [
      "5\n"
     ]
    }
   ],
   "source": [
    "# 长度len\n",
    "print(len('apple'))"
   ]
  },
  {
   "cell_type": "code",
   "execution_count": 9,
   "metadata": {},
   "outputs": [
    {
     "name": "stdout",
     "output_type": "stream",
     "text": [
      "子串出现的次数为7次\n"
     ]
    }
   ],
   "source": [
    "# 计算子串出现的次数\n",
    "str1 = 'abababababbabab'\n",
    "str2 = 'ab'\n",
    "ncount = str1.count(str2)\n",
    "print('子串出现的次数为%s次' %ncount)"
   ]
  },
  {
   "cell_type": "code",
   "execution_count": 21,
   "metadata": {},
   "outputs": [
    {
     "name": "stdout",
     "output_type": "stream",
     "text": [
      "False\n"
     ]
    }
   ],
   "source": [
    "#比较字符串\n",
    "sStr1 = 'abcdefg'\n",
    "sStr2 = 'cde'\n",
    "print(sStr1 > sStr2)"
   ]
  },
  {
   "cell_type": "markdown",
   "metadata": {},
   "source": [
    "# 字符串剪枝"
   ]
  },
  {
   "cell_type": "code",
   "execution_count": null,
   "metadata": {},
   "outputs": [],
   "source": [
    "#strip用法 用于移除字符串头尾指定的字符（默认为空格或换行符）或字符序列 不用于删除中间的字符\n",
    "str = \"00000003210Runoob01230000000\"\n",
    "print(str.strip( '0' ))  # 去除首尾字符 0\n",
    "str2 = \"   Runoob      \"   # 去除首尾空格\n",
    "print(str2.strip())\n",
    "str = \"123abcrunoob321\" #只要包含在序列里就删除,和顺序无关\n",
    "print (str.strip( '12' ))\n",
    "#lstrip() 和 rstrip()就是只看一边"
   ]
  },
  {
   "cell_type": "markdown",
   "metadata": {},
   "source": [
    "# 打印"
   ]
  },
  {
   "cell_type": "code",
   "execution_count": 3,
   "metadata": {},
   "outputs": [
    {
     "name": "stdout",
     "output_type": "stream",
     "text": [
      "apple\n",
      "apple\n",
      "apple\n"
     ]
    }
   ],
   "source": [
    "import math\n",
    "\n",
    "# print 可以用单引号也可以用双引号也可以用三引号，也就是说以下都是合理的\n",
    "\n",
    "print('apple')  # apple\n",
    "print(\"apple\")  # apple\n",
    "print('''apple''')  # apple"
   ]
  },
  {
   "cell_type": "code",
   "execution_count": 4,
   "metadata": {},
   "outputs": [
    {
     "name": "stdout",
     "output_type": "stream",
     "text": [
      "12.456\n"
     ]
    }
   ],
   "source": [
    "#格式化输出\n",
    "print('{0:.3f}'.format(12.4563554768))  # 12.456"
   ]
  },
  {
   "cell_type": "code",
   "execution_count": 5,
   "metadata": {},
   "outputs": [
    {
     "name": "stdout",
     "output_type": "stream",
     "text": [
      "常量 PI 的值近似为 3.142。\n"
     ]
    }
   ],
   "source": [
    "print('常量 PI 的值近似为 {0:.3f}。'.format(math.pi))  # 常量 PI 的值近似为 3.142。"
   ]
  },
  {
   "cell_type": "code",
   "execution_count": 10,
   "metadata": {},
   "outputs": [
    {
     "name": "stdout",
     "output_type": "stream",
     "text": [
      "Let\\'s \\go!\n",
      "'C:\\now'\n"
     ]
    }
   ],
   "source": [
    "# 转义字符\n",
    "print(\"Let\\\\\\'s \\\\go!\")  # Let\\'s \\go! 多了一个转义斜杠就忽略\n",
    "print('\\'C:\\\\now\\'')  # 'C:\\now'"
   ]
  },
  {
   "cell_type": "code",
   "execution_count": 28,
   "metadata": {},
   "outputs": [
    {
     "name": "stdout",
     "output_type": "stream",
     "text": [
      "datacamp,tutorial,on,python,print,function\n"
     ]
    }
   ],
   "source": [
    "# 设置输出的分隔符\n",
    "print('datacamp','tutorial','on','python','print','function',sep=',')"
   ]
  },
  {
   "cell_type": "code",
   "execution_count": 29,
   "metadata": {},
   "outputs": [
    {
     "name": "stdout",
     "output_type": "stream",
     "text": [
      "datacamp tutorial on python print function\n"
     ]
    }
   ],
   "source": [
    "# 设置输出的结尾符\n",
    "str1 = 'datacamp tutorial on'\n",
    "str2 = 'python print function'\n",
    "print(str1,end=' ')\n",
    "print(str2)"
   ]
  },
  {
   "cell_type": "code",
   "execution_count": 39,
   "metadata": {},
   "outputs": [
    {
     "name": "stdout",
     "output_type": "stream",
     "text": [
      "1\n",
      "\n",
      "2\n",
      "\n",
      "3\n",
      "\n",
      "4\n",
      "\n",
      "5\n",
      "\n",
      "6\n",
      "\n",
      "7\n",
      "\n",
      "8\n",
      "\n",
      "9\n",
      "\n",
      "10\n",
      "\n"
     ]
    }
   ],
   "source": [
    "# 用print 输出内容到file\n",
    "file = open('输入输出文件/print.txt','w')\n",
    "def value(items):\n",
    "    for item in items:\n",
    "        print(item, file=file)\n",
    "    file.close() # close the file ones the function execution completes.\n",
    "value([1,2,3,4,5,6,7,8,9,10])\n",
    "file = open('输入输出文件/print.txt','r')\n",
    "for i in file:\n",
    "    print(i)"
   ]
  },
  {
   "cell_type": "markdown",
   "metadata": {},
   "source": [
    "## pprint 模块：打印 Python 对象"
   ]
  },
  {
   "cell_type": "markdown",
   "metadata": {},
   "source": [
    "pprint 是 pretty printer 的缩写，用来打印 Python 数据结构，与 print 相比，它打印出来的结构更加整齐，便于阅读。"
   ]
  },
  {
   "cell_type": "code",
   "execution_count": 2,
   "metadata": {},
   "outputs": [],
   "source": [
    "import pprint"
   ]
  },
  {
   "cell_type": "code",
   "execution_count": 3,
   "metadata": {},
   "outputs": [
    {
     "name": "stdout",
     "output_type": "stream",
     "text": [
      "('this is a string', [1, 2, 3, 4], ('more tuples', 1.0, 2.3, 4.5), 'this is yet another string') \n",
      "\n",
      "('this is a string',\n",
      " [1, 2, 3, 4],\n",
      " ('more tuples', 1.0, 2.3, 4.5),\n",
      " 'this is yet another string')\n"
     ]
    }
   ],
   "source": [
    "data = (\n",
    "    \"this is a string\", \n",
    "    [1, 2, 3, 4], \n",
    "    (\"more tuples\", 1.0, 2.3, 4.5), \n",
    "    \"this is yet another string\"\n",
    "    )\n",
    "print(data,\"\\n\")\n",
    "pprint.pprint(data) # 注意这两者效果的区别 #可以看到这样打出的文字更美观"
   ]
  },
  {
   "cell_type": "markdown",
   "metadata": {},
   "source": [
    "## pickle, cPickle 模块：序列化 Python 对象"
   ]
  },
  {
   "cell_type": "code",
   "execution_count": 4,
   "metadata": {},
   "outputs": [],
   "source": [
    "try:\n",
    "    import cPickle as pickle\n",
    "except:\n",
    "    import pickle"
   ]
  },
  {
   "cell_type": "markdown",
   "metadata": {},
   "source": [
    "使用 pickle.dumps() 可以将一个对象转换为字符串（dump string）："
   ]
  },
  {
   "cell_type": "code",
   "execution_count": 9,
   "metadata": {},
   "outputs": [
    {
     "name": "stdout",
     "output_type": "stream",
     "text": [
      "DATA:\n",
      "[{'a': 'A', 'b': 2, 'c': 3.0}]\n",
      "PICKLE:\n",
      "b'\\x80\\x04\\x95#\\x00\\x00\\x00\\x00\\x00\\x00\\x00]\\x94}\\x94(\\x8c\\x01a\\x94\\x8c\\x01A\\x94\\x8c\\x01b\\x94K\\x02\\x8c\\x01c\\x94G@\\x08\\x00\\x00\\x00\\x00\\x00\\x00ua.'\n"
     ]
    }
   ],
   "source": [
    "data = [ { 'a':'A', 'b':2, 'c':3.0 } ]\n",
    "\n",
    "data_string = pickle.dumps(data,-1)\n",
    "\n",
    "print(\"DATA:\")\n",
    "print (data)\n",
    "print (\"PICKLE:\")\n",
    "print (data_string)"
   ]
  },
  {
   "cell_type": "markdown",
   "metadata": {},
   "source": [
    "可能这个pickle的结果看不懂， 但是经过loads之后又能恢复成原来的模样"
   ]
  },
  {
   "cell_type": "code",
   "execution_count": 10,
   "metadata": {},
   "outputs": [
    {
     "name": "stdout",
     "output_type": "stream",
     "text": [
      "[{'a': 'A', 'b': 2, 'c': 3.0}]\n"
     ]
    }
   ],
   "source": [
    "data_from_string = pickle.loads(data_string)\n",
    "\n",
    "print (data_from_string)"
   ]
  },
  {
   "cell_type": "markdown",
   "metadata": {},
   "source": [
    "## 编码协议"
   ]
  },
  {
   "cell_type": "markdown",
   "metadata": {},
   "source": [
    "`dumps` 可以接受一个可省略的 `protocol` 参数（默认为 0），目前有 3 种编码方式：\n",
    "\n",
    "- 0：原始的 `ASCII` 编码格式\n",
    "- 1：二进制编码格式\n",
    "- 2：更有效的二进制编码格式\n",
    "\n",
    "当前最高级的编码可以通过 `HIGHEST_PROTOCOL` 查看："
   ]
  },
  {
   "cell_type": "code",
   "execution_count": 11,
   "metadata": {},
   "outputs": [
    {
     "name": "stdout",
     "output_type": "stream",
     "text": [
      "4\n"
     ]
    }
   ],
   "source": [
    "print (pickle.HIGHEST_PROTOCOL)"
   ]
  },
  {
   "cell_type": "markdown",
   "metadata": {},
   "source": [
    "如果 protocol 参数指定为负数，那么将调用当前的最高级的编码协议进行编码："
   ]
  },
  {
   "cell_type": "markdown",
   "metadata": {},
   "source": [
    "除了将对象转换为字符串这种方式，pickle 还支持将对象写入一个文件中，通常我们将这个文件命名为 xxx.pkl"
   ]
  },
  {
   "cell_type": "markdown",
   "metadata": {},
   "source": [
    "# gzip, zipfile, tarfile 模块：处理压缩文件"
   ]
  },
  {
   "cell_type": "code",
   "execution_count": 1,
   "metadata": {
    "collapsed": true
   },
   "outputs": [],
   "source": [
    "import os, shutil, glob\n",
    "import zlib, gzip, bz2, zipfile, tarfile"
   ]
  },
  {
   "cell_type": "markdown",
   "metadata": {},
   "source": [
    "gzip "
   ]
  },
  {
   "cell_type": "markdown",
   "metadata": {},
   "source": [
    "## zilb 模块"
   ]
  },
  {
   "cell_type": "markdown",
   "metadata": {},
   "source": [
    "`zlib` 提供了对字符串进行压缩和解压缩的功能："
   ]
  },
  {
   "cell_type": "code",
   "execution_count": 2,
   "metadata": {},
   "outputs": [
    {
     "name": "stdout",
     "output_type": "stream",
     "text": [
      "x�+��,V\u0000�D����\u0012�⒢̼t\u0000S�\u0007�\n",
      "this is a test string\n"
     ]
    }
   ],
   "source": [
    "orginal = \"this is a test string\"\n",
    "\n",
    "compressed = zlib.compress(orginal)\n",
    "\n",
    "print (compressed)\n",
    "print (zlib.decompress(compressed))"
   ]
  },
  {
   "cell_type": "markdown",
   "metadata": {},
   "source": [
    "同时提供了两种校验和的计算方法："
   ]
  },
  {
   "cell_type": "code",
   "execution_count": 3,
   "metadata": {},
   "outputs": [
    {
     "name": "stdout",
     "output_type": "stream",
     "text": [
      "1407780813\n"
     ]
    }
   ],
   "source": [
    "print (zlib.adler32(orginal)) & 0xffffffff"
   ]
  },
  {
   "cell_type": "code",
   "execution_count": 4,
   "metadata": {},
   "outputs": [
    {
     "name": "stdout",
     "output_type": "stream",
     "text": [
      "4236695221\n"
     ]
    }
   ],
   "source": [
    "print (zlib.crc32(orginal)) & 0xffffffff"
   ]
  }
 ],
 "metadata": {
  "kernelspec": {
   "display_name": "Python 3",
   "language": "python",
   "name": "python3"
  },
  "language_info": {
   "codemirror_mode": {
    "name": "ipython",
    "version": 3
   },
   "file_extension": ".py",
   "mimetype": "text/x-python",
   "name": "python",
   "nbconvert_exporter": "python",
   "pygments_lexer": "ipython3",
   "version": "3.6.12"
  }
 },
 "nbformat": 4,
 "nbformat_minor": 2
}
