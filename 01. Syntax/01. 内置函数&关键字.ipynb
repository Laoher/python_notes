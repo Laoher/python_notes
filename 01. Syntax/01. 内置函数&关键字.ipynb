{
 "cells": [
  {
   "cell_type": "markdown",
   "metadata": {},
   "source": [
    "# global 关键字 & globals()"
   ]
  },
  {
   "cell_type": "code",
   "execution_count": 1,
   "metadata": {},
   "outputs": [
    {
     "name": "stdout",
     "output_type": "stream",
     "text": [
      "4\n",
      "4\n"
     ]
    }
   ],
   "source": [
    "# 利用global在函数内部修改全局变量\n",
    "a=3\n",
    "\n",
    "def change():\n",
    "    global a\n",
    "    a =4\n",
    "    return a\n",
    "print(change())\n",
    "print(a)"
   ]
  },
  {
   "cell_type": "markdown",
   "metadata": {},
   "source": [
    "globals()函数返回一个全局变量的字典，包括所有导入的变量。"
   ]
  },
  {
   "cell_type": "code",
   "execution_count": 6,
   "metadata": {
    "scrolled": true
   },
   "outputs": [
    {
     "name": "stdout",
     "output_type": "stream",
     "text": [
      "{'__name__': '__main__', '__doc__': 'Automatically created module for IPython interactive environment', '__package__': None, '__loader__': None, '__spec__': None, '__builtin__': <module 'builtins' (built-in)>, '__builtins__': <module 'builtins' (built-in)>, '_ih': ['', '# 利用global在函数内部修改全局变量\\na=3\\n\\ndef change():\\n    global a\\n    a =4\\n    return a\\nprint(change())\\nprint(a)', 'print(globals())', \"print(globals())\\nprint(globals()['a'])\", \"print(globals())\\nprint('/n',globals()['a'])\", \"print(globals())\\nprint('\\\\n',globals()['a'])\", \"print(globals(),'\\\\n')\\nprint(globals()['a'])\"], '_oh': {}, '_dh': ['/Users/Tyler/python_notes/01. Syntax'], 'In': ['', '# 利用global在函数内部修改全局变量\\na=3\\n\\ndef change():\\n    global a\\n    a =4\\n    return a\\nprint(change())\\nprint(a)', 'print(globals())', \"print(globals())\\nprint(globals()['a'])\", \"print(globals())\\nprint('/n',globals()['a'])\", \"print(globals())\\nprint('\\\\n',globals()['a'])\", \"print(globals(),'\\\\n')\\nprint(globals()['a'])\"], 'Out': {}, 'get_ipython': <bound method InteractiveShell.get_ipython of <ipykernel.zmqshell.ZMQInteractiveShell object at 0x10cb60c50>>, 'exit': <IPython.core.autocall.ZMQExitAutocall object at 0x10cbc6fd0>, 'quit': <IPython.core.autocall.ZMQExitAutocall object at 0x10cbc6fd0>, '_': '', '__': '', '___': '', '_i': \"print(globals())\\nprint('\\\\n',globals()['a'])\", '_ii': \"print(globals())\\nprint('/n',globals()['a'])\", '_iii': \"print(globals())\\nprint(globals()['a'])\", '_i1': '# 利用global在函数内部修改全局变量\\na=3\\n\\ndef change():\\n    global a\\n    a =4\\n    return a\\nprint(change())\\nprint(a)', 'a': 4, 'change': <function change at 0x10cca6158>, '_i2': 'print(globals())', '_i3': \"print(globals())\\nprint(globals()['a'])\", '_i4': \"print(globals())\\nprint('/n',globals()['a'])\", '_i5': \"print(globals())\\nprint('\\\\n',globals()['a'])\", '_i6': \"print(globals(),'\\\\n')\\nprint(globals()['a'])\"} \n",
      "\n",
      "4\n"
     ]
    }
   ],
   "source": [
    "print(globals(),'\\n')\n",
    "print(globals()['a'])"
   ]
  },
  {
   "cell_type": "markdown",
   "metadata": {},
   "source": [
    "# sorted & sort"
   ]
  },
  {
   "cell_type": "code",
   "execution_count": 1,
   "metadata": {},
   "outputs": [
    {
     "name": "stdout",
     "output_type": "stream",
     "text": [
      "['新疆维吾尔自治区', '广西壮族自治区', '内蒙古自治区', '西藏自治区', '青海省']\n"
     ]
    }
   ],
   "source": [
    "# sorted(iterable, cmp=None, key=None, reverse=False)\n",
    "# iterable：是可迭代类型;\n",
    "# cmp：用于比较的函数，比较什么由key决定;\n",
    "# key：用列表元素的某个属性或函数进行作为关键字，有默认值，迭代集合中的一项;\n",
    "# reverse：排序规则. reverse = True  降序 或者 reverse = False 升序，有默认值。\n",
    "\n",
    "myList = ['青海省','内蒙古自治区','西藏自治区','新疆维吾尔自治区','广西壮族自治区']  \n",
    "myList1 = sorted(myList,key = lambda i:len(i),reverse=True)  \n",
    "# myList.sort(key = lambda i:len(i),reverse=True) \n",
    "print(myList1) "
   ]
  },
  {
   "cell_type": "markdown",
   "metadata": {},
   "source": [
    "# eval 函数"
   ]
  },
  {
   "cell_type": "markdown",
   "metadata": {},
   "source": [
    "    eval(statement, glob, local)\n",
    "\n",
    "##### 使用 `eval` 函数动态执行一个字符串表达式，并返回表达式的值："
   ]
  },
  {
   "cell_type": "code",
   "execution_count": 7,
   "metadata": {},
   "outputs": [
    {
     "data": {
      "text/plain": [
       "2"
      ]
     },
     "execution_count": 7,
     "metadata": {},
     "output_type": "execute_result"
    }
   ],
   "source": [
    "a = 1\n",
    "eval(\"a+1\")"
   ]
  },
  {
   "cell_type": "code",
   "execution_count": 8,
   "metadata": {},
   "outputs": [
    {
     "data": {
      "text/plain": [
       "21"
      ]
     },
     "execution_count": 8,
     "metadata": {},
     "output_type": "execute_result"
    }
   ],
   "source": [
    "x=7\n",
    "eval( '3 * x' )"
   ]
  },
  {
   "cell_type": "code",
   "execution_count": 9,
   "metadata": {},
   "outputs": [
    {
     "data": {
      "text/plain": [
       "4"
      ]
     },
     "execution_count": 9,
     "metadata": {},
     "output_type": "execute_result"
    }
   ],
   "source": [
    "eval('2 + 2')"
   ]
  },
  {
   "cell_type": "code",
   "execution_count": 10,
   "metadata": {},
   "outputs": [
    {
     "data": {
      "text/plain": [
       "3"
      ]
     },
     "execution_count": 10,
     "metadata": {},
     "output_type": "execute_result"
    }
   ],
   "source": [
    "local = dict(a=2)\n",
    "glob = {}\n",
    "eval(\"a+1\", glob, local)\n",
    "# 这里 `local` 中的 `a` 先被找到。"
   ]
  },
  {
   "cell_type": "code",
   "execution_count": 11,
   "metadata": {},
   "outputs": [],
   "source": [
    "##### 可以将字符串内的list 或者dict等转换成真正的list 和dict"
   ]
  },
  {
   "cell_type": "code",
   "execution_count": 12,
   "metadata": {},
   "outputs": [
    {
     "data": {
      "text/plain": [
       "[[1, 2], [3, 4], [5, 6], [7, 8], [9, 0]]"
      ]
     },
     "execution_count": 12,
     "metadata": {},
     "output_type": "execute_result"
    }
   ],
   "source": [
    "a = \"[[1,2], [3,4], [5,6], [7,8], [9,0]]\"\n",
    "eval(a)"
   ]
  },
  {
   "cell_type": "code",
   "execution_count": 13,
   "metadata": {},
   "outputs": [
    {
     "data": {
      "text/plain": [
       "{1: 'xx', 2: 'yy'}"
      ]
     },
     "execution_count": 13,
     "metadata": {},
     "output_type": "execute_result"
    }
   ],
   "source": [
    "a = \"{1:'xx',2:'yy'}\"\n",
    "eval(a)"
   ]
  },
  {
   "cell_type": "code",
   "execution_count": 14,
   "metadata": {},
   "outputs": [
    {
     "data": {
      "text/plain": [
       "(1, 2, 3, 4)"
      ]
     },
     "execution_count": 14,
     "metadata": {},
     "output_type": "execute_result"
    }
   ],
   "source": [
    "a = \"(1,2,3,4)\"\n",
    "eval(a)"
   ]
  },
  {
   "cell_type": "markdown",
   "metadata": {},
   "source": [
    "##### 利用repr讲变量的值转换成字符串，再用eval反转回值"
   ]
  },
  {
   "cell_type": "code",
   "execution_count": 15,
   "metadata": {},
   "outputs": [
    {
     "data": {
      "text/plain": [
       "'[1, 2, 3, 4, 5]'"
      ]
     },
     "execution_count": 15,
     "metadata": {},
     "output_type": "execute_result"
    }
   ],
   "source": [
    "list1 = [1,2,3,4,5]\n",
    "r= repr(list1)\n",
    "r"
   ]
  },
  {
   "cell_type": "code",
   "execution_count": 16,
   "metadata": {},
   "outputs": [
    {
     "data": {
      "text/plain": [
       "[1, 2, 3, 4, 5]"
      ]
     },
     "execution_count": 16,
     "metadata": {},
     "output_type": "execute_result"
    }
   ],
   "source": [
    "eval(r)"
   ]
  },
  {
   "cell_type": "markdown",
   "metadata": {},
   "source": [
    "# eval 函数"
   ]
  },
  {
   "cell_type": "markdown",
   "metadata": {},
   "source": [
    "##### 可以修改原有的变量"
   ]
  },
  {
   "cell_type": "code",
   "execution_count": 19,
   "metadata": {},
   "outputs": [
    {
     "data": {
      "text/plain": [
       "2"
      ]
     },
     "execution_count": 19,
     "metadata": {},
     "output_type": "execute_result"
    }
   ],
   "source": [
    "a = 1\n",
    "exec(\"b = a+1\")\n",
    "b"
   ]
  },
  {
   "cell_type": "code",
   "execution_count": 22,
   "metadata": {},
   "outputs": [
    {
     "name": "stdout",
     "output_type": "stream",
     "text": [
      "{'a': 2, 'b': 3}\n"
     ]
    }
   ],
   "source": [
    "local = dict(a=2)\n",
    "glob = {}\n",
    "exec(\"b = a+1\", glob, local)\n",
    "\n",
    "print(local)"
   ]
  },
  {
   "cell_type": "markdown",
   "metadata": {},
   "source": [
    "# compile 函数"
   ]
  },
  {
   "cell_type": "markdown",
   "metadata": {},
   "source": [
    "生成 byte code"
   ]
  },
  {
   "cell_type": "code",
   "execution_count": 24,
   "metadata": {},
   "outputs": [
    {
     "data": {
      "text/plain": [
       "3"
      ]
     },
     "execution_count": 24,
     "metadata": {},
     "output_type": "execute_result"
    }
   ],
   "source": [
    "a = 1\n",
    "c = compile(\"a+2\", \"\", 'eval')\n",
    "eval(c)"
   ]
  },
  {
   "cell_type": "code",
   "execution_count": 26,
   "metadata": {},
   "outputs": [
    {
     "data": {
      "text/plain": [
       "3"
      ]
     },
     "execution_count": 26,
     "metadata": {},
     "output_type": "execute_result"
    }
   ],
   "source": [
    "a = 1\n",
    "c = compile(\"b=a+2\", \"\", 'exec')\n",
    "exec(c)\n",
    "b"
   ]
  },
  {
   "cell_type": "code",
   "execution_count": null,
   "metadata": {},
   "outputs": [],
   "source": []
  }
 ],
 "metadata": {
  "kernelspec": {
   "display_name": "Python 3",
   "language": "python",
   "name": "python3"
  },
  "language_info": {
   "codemirror_mode": {
    "name": "ipython",
    "version": 3
   },
   "file_extension": ".py",
   "mimetype": "text/x-python",
   "name": "python",
   "nbconvert_exporter": "python",
   "pygments_lexer": "ipython3",
   "version": "3.6.12"
  }
 },
 "nbformat": 4,
 "nbformat_minor": 2
}
