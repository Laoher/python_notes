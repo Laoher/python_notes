{
 "cells": [
  {
   "cell_type": "code",
   "execution_count": 2,
   "metadata": {},
   "outputs": [],
   "source": [
    "import os"
   ]
  },
  {
   "cell_type": "code",
   "execution_count": 3,
   "metadata": {},
   "outputs": [
    {
     "data": {
      "text/plain": [
       "11731"
      ]
     },
     "execution_count": 3,
     "metadata": {},
     "output_type": "execute_result"
    }
   ],
   "source": [
    "os.getpid()"
   ]
  },
  {
   "cell_type": "code",
   "execution_count": 4,
   "metadata": {},
   "outputs": [
    {
     "data": {
      "text/plain": [
       "'/'"
      ]
     },
     "execution_count": 4,
     "metadata": {},
     "output_type": "execute_result"
    }
   ],
   "source": [
    "os.sep"
   ]
  },
  {
   "cell_type": "code",
   "execution_count": 5,
   "metadata": {},
   "outputs": [
    {
     "name": "stdout",
     "output_type": "stream",
     "text": [
      "/Users/Tyler\n",
      "/Users/Tyler\n",
      "/Users/Tyler\n"
     ]
    }
   ],
   "source": [
    "print(os.environ[\"HOME\"])\n",
    "print(os.path.expandvars('$HOME'))\n",
    "print (os.path.expanduser('~'))"
   ]
  },
  {
   "cell_type": "markdown",
   "metadata": {},
   "source": [
    "# 查看文件列表"
   ]
  },
  {
   "cell_type": "code",
   "execution_count": 4,
   "metadata": {},
   "outputs": [
    {
     "name": "stdout",
     "output_type": "stream",
     "text": [
      "total 664\r\n",
      "drwxr-xr-x  10 zhangchenxi  staff   320B Jan 13 12:02 \u001b[34m内置函数\u001b[m\u001b[m/\r\n",
      "-rw-r--r--   1 zhangchenxi  staff    95B Jan 13 12:02 快捷键\r\n",
      "-rw-r--r--   1 zhangchenxi  staff    74B Jan 13 12:02 test.py\r\n",
      "-rw-r--r--   1 zhangchenxi  staff   4.8K Jan 13 12:02 e:\\test.h5\r\n",
      "-rw-r--r--   1 zhangchenxi  staff   3.6K Jan 13 12:02 14. 异常处理.ipynb\r\n",
      "-rw-r--r--   1 zhangchenxi  staff   3.5K Jan 13 12:02 13. set.ipynb\r\n",
      "-rw-r--r--   1 zhangchenxi  staff   6.1K Jan 13 12:02 12. Dictionary.ipynb\r\n",
      "-rw-r--r--   1 zhangchenxi  staff   6.2K Jan 13 12:02 11. tuple.ipynb\r\n",
      "-rw-r--r--   1 zhangchenxi  staff    20K Jan 13 12:02 10. list.ipynb\r\n",
      "-rw-r--r--   1 zhangchenxi  staff   555B Jan 13 12:02 09. .ipynb\r\n",
      "-rw-r--r--   1 zhangchenxi  staff   1.9K Jan 13 12:02 08. Function.ipynb\r\n",
      "-rw-r--r--   1 zhangchenxi  staff   2.1K Jan 22 14:21 07. 文件处理.ipynb\r\n",
      "-rw-r--r--   1 zhangchenxi  staff   1.8K Jan 13 12:02 06. Boolean.ipynb\r\n",
      "-rw-r--r--   1 zhangchenxi  staff   555B Jan 13 12:02 05..ipynb\r\n",
      "-rw-r--r--   1 zhangchenxi  staff   7.9K Jan 13 12:02 04. 字符串操作.ipynb\r\n",
      "-rw-r--r--   1 zhangchenxi  staff    29K Jan 13 12:02 03. 计算.ipynb\r\n",
      "-rw-r--r--   1 zhangchenxi  staff   176K Jan 13 12:02 02.21-file-IO.ipynb\r\n",
      "-rw-r--r--   1 zhangchenxi  staff   2.2K Jan 13 12:02 02.20-warnings.ipynb\r\n",
      "-rw-r--r--   1 zhangchenxi  staff    22K Jan 13 12:02 02.19-exceptions.ipynb\r\n",
      "-rw-r--r--@  1 zhangchenxi  staff   1.6K Jan 18 17:41 02. 系统|命令行|路径.ipynb\r\n",
      "-rw-r--r--   1 zhangchenxi  staff   758B Jan 13 12:02 01. 特别技巧.ipynb\r\n"
     ]
    }
   ],
   "source": [
    "ls -rlh"
   ]
  },
  {
   "cell_type": "markdown",
   "metadata": {},
   "source": [
    "# 删除文件"
   ]
  },
  {
   "cell_type": "code",
   "execution_count": 3,
   "metadata": {},
   "outputs": [],
   "source": [
    "!rm data.txt "
   ]
  },
  {
   "cell_type": "markdown",
   "metadata": {},
   "source": [
    "# glob 模块：文件模式匹配"
   ]
  },
  {
   "cell_type": "code",
   "execution_count": 1,
   "metadata": {},
   "outputs": [],
   "source": [
    "import glob"
   ]
  },
  {
   "cell_type": "markdown",
   "metadata": {},
   "source": [
    "`glob` 模块提供了方便的文件模式匹配方法。\n",
    "\n",
    "例如，找到所有以 `.ipynb` 结尾的文件名："
   ]
  },
  {
   "cell_type": "code",
   "execution_count": 3,
   "metadata": {},
   "outputs": [
    {
     "data": {
      "text/plain": [
       "['02.21-file-IO.ipynb',\n",
       " '02.20-warnings.ipynb',\n",
       " '04. 字符串操作.ipynb',\n",
       " '08. Function.ipynb',\n",
       " '13. set.ipynb',\n",
       " '03. 计算.ipynb',\n",
       " '11. tuple.ipynb',\n",
       " '12. Dictionary.ipynb',\n",
       " '14. 异常处理.ipynb',\n",
       " '10. list.ipynb',\n",
       " '06. Boolean.ipynb',\n",
       " '02.19-exceptions.ipynb',\n",
       " '01. 特别技巧.ipynb',\n",
       " '02. 系统|命令行|路径.ipynb']"
      ]
     },
     "execution_count": 3,
     "metadata": {},
     "output_type": "execute_result"
    }
   ],
   "source": [
    "glob.glob(\"*.ipynb\")"
   ]
  },
  {
   "cell_type": "markdown",
   "metadata": {},
   "source": [
    "`glob` 函数支持三种格式的语法：\n",
    "\n",
    "- `*` 匹配单个或多个字符\n",
    "- `?` 匹配任意单个字符\n",
    "- `[]` 匹配指定范围内的字符，如：[0-9]匹配数字。\n",
    "\n",
    "假设我们要匹配前缀py下前缀01下所有的 `.ipynb` 文件："
   ]
  },
  {
   "cell_type": "code",
   "execution_count": 7,
   "metadata": {},
   "outputs": [
    {
     "data": {
      "text/plain": [
       "['../../python_notes/01. Syntax/02.21-file-IO.ipynb',\n",
       " '../../python_notes/01. Syntax/02.20-warnings.ipynb',\n",
       " '../../python_notes/01. Syntax/04. 字符串操作.ipynb',\n",
       " '../../python_notes/01. Syntax/08. Function.ipynb',\n",
       " '../../python_notes/01. Syntax/13. set.ipynb',\n",
       " '../../python_notes/01. Syntax/03. 计算.ipynb',\n",
       " '../../python_notes/01. Syntax/11. tuple.ipynb',\n",
       " '../../python_notes/01. Syntax/12. Dictionary.ipynb',\n",
       " '../../python_notes/01. Syntax/14. 异常处理.ipynb',\n",
       " '../../python_notes/01. Syntax/10. list.ipynb',\n",
       " '../../python_notes/01. Syntax/06. Boolean.ipynb',\n",
       " '../../python_notes/01. Syntax/02.19-exceptions.ipynb',\n",
       " '../../python_notes/01. Syntax/01. 特别技巧.ipynb',\n",
       " '../../python_notes/01. Syntax/02. 系统|命令行|路径.ipynb']"
      ]
     },
     "execution_count": 7,
     "metadata": {},
     "output_type": "execute_result"
    }
   ],
   "source": [
    "glob.glob(\"../../py*/01*/*.ipynb\")# 这个是找文件的格式，所以起始位置是当前文件"
   ]
  },
  {
   "cell_type": "markdown",
   "metadata": {},
   "source": [
    "匹配数字开头的文件夹名："
   ]
  },
  {
   "cell_type": "code",
   "execution_count": 8,
   "metadata": {},
   "outputs": [
    {
     "data": {
      "text/plain": [
       "['../14. Python 导入库',\n",
       " '../2. Matplotlib',\n",
       " '../10-something-interesting',\n",
       " '../9. Python OOP',\n",
       " '../5. scipy',\n",
       " '../00-python-tools',\n",
       " '../12. Pygame',\n",
       " '../7. Python 实例',\n",
       " '../6. numpy',\n",
       " '../8. Python 算法和数据结构',\n",
       " '../3. Pandas',\n",
       " '../6. interfacing-with-other-languages',\n",
       " '../11-useful-tools',\n",
       " '../01. Syntax',\n",
       " '../4. sklearn']"
      ]
     },
     "execution_count": 8,
     "metadata": {},
     "output_type": "execute_result"
    }
   ],
   "source": [
    "glob.glob(\"../[0-9]*\") # 这个是找文件夹的格式，所以起始位置是当前文件所在文件夹"
   ]
  },
  {
   "cell_type": "markdown",
   "metadata": {},
   "source": [
    "# shutil 模块：高级文件操作"
   ]
  },
  {
   "cell_type": "code",
   "execution_count": 20,
   "metadata": {},
   "outputs": [],
   "source": [
    "import shutil\n",
    "import os"
   ]
  },
  {
   "cell_type": "markdown",
   "metadata": {},
   "source": [
    "`shutil` 是 `Python` 中的高级文件操作模块。"
   ]
  },
  {
   "cell_type": "markdown",
   "metadata": {},
   "source": [
    "## 复制文件"
   ]
  },
  {
   "cell_type": "code",
   "execution_count": 21,
   "metadata": {},
   "outputs": [
    {
     "name": "stdout",
     "output_type": "stream",
     "text": [
      "True\n"
     ]
    }
   ],
   "source": [
    "with open(\"test.file\", \"w\") as f:\n",
    "    pass\n",
    "\n",
    "print (\"test.file\" in os.listdir(os.curdir))"
   ]
  },
  {
   "cell_type": "markdown",
   "metadata": {},
   "source": [
    "`shutil.copy(src, dst)` 将源文件复制到目标地址："
   ]
  },
  {
   "cell_type": "code",
   "execution_count": 22,
   "metadata": {},
   "outputs": [
    {
     "name": "stdout",
     "output_type": "stream",
     "text": [
      "True\n",
      "True\n"
     ]
    }
   ],
   "source": [
    "shutil.copy(\"test.file\", \"test.copy.file\")\n",
    "\n",
    "print (\"test.file\" in os.listdir(os.curdir))\n",
    "print (\"test.copy.file\" in os.listdir(os.curdir))"
   ]
  },
  {
   "cell_type": "markdown",
   "metadata": {},
   "source": [
    "如果目标地址中间的文件夹不存在则会报错："
   ]
  },
  {
   "cell_type": "code",
   "execution_count": 23,
   "metadata": {},
   "outputs": [
    {
     "name": "stdout",
     "output_type": "stream",
     "text": [
      "[Errno 2] No such file or directory: 'my_test_dir/test.copy.file'\n"
     ]
    }
   ],
   "source": [
    "try:\n",
    "    shutil.copy(\"test.file\", \"my_test_dir/test.copy.file\")\n",
    "except IOError as msg:\n",
    "    print (msg)"
   ]
  },
  {
   "cell_type": "markdown",
   "metadata": {},
   "source": [
    "另外的一个函数 `shutil.copyfile(src, dst)` 与 `shutil.copy` 使用方法一致，不过只是简单复制文件的内容，并不会复制文件本身的读写可执行权限，而 `shutil.copy` 则是完全复制。"
   ]
  },
  {
   "cell_type": "markdown",
   "metadata": {},
   "source": [
    "## 复制文件夹"
   ]
  },
  {
   "cell_type": "markdown",
   "metadata": {},
   "source": [
    "将文件移动到 `test_dir` 文件夹："
   ]
  },
  {
   "cell_type": "code",
   "execution_count": 24,
   "metadata": {},
   "outputs": [],
   "source": [
    "os.renames(\"test.file\", \"test_dir/test.file\")\n",
    "os.renames(\"test.copy.file\", \"test_dir/test.copy.file\")"
   ]
  },
  {
   "cell_type": "markdown",
   "metadata": {},
   "source": [
    "使用 `shutil.copytree` 来复制文件夹："
   ]
  },
  {
   "cell_type": "code",
   "execution_count": 32,
   "metadata": {},
   "outputs": [
    {
     "data": {
      "text/plain": [
       "True"
      ]
     },
     "execution_count": 32,
     "metadata": {},
     "output_type": "execute_result"
    }
   ],
   "source": [
    "shutil.copytree(\"test_dir/\", \"test_dir_copy/\")\n",
    "\n",
    "\"test_dir_copy\" in os.listdir(os.curdir)"
   ]
  },
  {
   "cell_type": "markdown",
   "metadata": {},
   "source": [
    "## 删除非空文件夹"
   ]
  },
  {
   "cell_type": "markdown",
   "metadata": {},
   "source": [
    "`os.removedirs` 不能删除非空文件夹："
   ]
  },
  {
   "cell_type": "code",
   "execution_count": 33,
   "metadata": {},
   "outputs": [
    {
     "name": "stdout",
     "output_type": "stream",
     "text": [
      "[Errno 66] Directory not empty: 'test_dir_copy'\n"
     ]
    }
   ],
   "source": [
    "try:\n",
    "    os.removedirs(\"test_dir_copy\")\n",
    "except Exception as msg:\n",
    "    print (msg)"
   ]
  },
  {
   "cell_type": "markdown",
   "metadata": {},
   "source": [
    "使用 `shutil.rmtree` 来删除非空文件夹："
   ]
  },
  {
   "cell_type": "code",
   "execution_count": 34,
   "metadata": {},
   "outputs": [],
   "source": [
    "shutil.rmtree(\"test_dir_copy\")"
   ]
  },
  {
   "cell_type": "markdown",
   "metadata": {},
   "source": [
    "## 移动文件夹"
   ]
  },
  {
   "cell_type": "markdown",
   "metadata": {},
   "source": [
    "`shutil.move` 可以整体移动文件夹，与 `os.rename` 功能差不多。"
   ]
  },
  {
   "cell_type": "markdown",
   "metadata": {},
   "source": [
    "## 产生压缩文件"
   ]
  },
  {
   "cell_type": "markdown",
   "metadata": {},
   "source": [
    "查看支持的压缩文件格式："
   ]
  },
  {
   "cell_type": "code",
   "execution_count": 35,
   "metadata": {},
   "outputs": [
    {
     "data": {
      "text/plain": [
       "[('bztar', \"bzip2'ed tar-file\"),\n",
       " ('gztar', \"gzip'ed tar-file\"),\n",
       " ('tar', 'uncompressed tar file'),\n",
       " ('xztar', \"xz'ed tar-file\"),\n",
       " ('zip', 'ZIP file')]"
      ]
     },
     "execution_count": 35,
     "metadata": {},
     "output_type": "execute_result"
    }
   ],
   "source": [
    "shutil.get_archive_formats()"
   ]
  },
  {
   "cell_type": "markdown",
   "metadata": {},
   "source": [
    "产生压缩文件：\n",
    "\n",
    "`shutil.make_archive(basename, format, root_dir)`"
   ]
  },
  {
   "cell_type": "code",
   "execution_count": 36,
   "metadata": {},
   "outputs": [
    {
     "data": {
      "text/plain": [
       "'/Users/Tyler/python_notes/01. Syntax/test_archive.zip'"
      ]
     },
     "execution_count": 36,
     "metadata": {},
     "output_type": "execute_result"
    }
   ],
   "source": [
    "shutil.make_archive(\"test_archive\", \"zip\", \"test_dir/\")"
   ]
  },
  {
   "cell_type": "markdown",
   "metadata": {},
   "source": [
    "清理生成的文件和文件夹："
   ]
  },
  {
   "cell_type": "code",
   "execution_count": 37,
   "metadata": {},
   "outputs": [],
   "source": [
    "os.remove(\"test_archive.zip\")\n",
    "shutil.rmtree(\"test_dir/\")"
   ]
  },
  {
   "cell_type": "code",
   "execution_count": null,
   "metadata": {},
   "outputs": [],
   "source": []
  }
 ],
 "metadata": {
  "kernelspec": {
   "display_name": "Python 3",
   "language": "python",
   "name": "python3"
  },
  "language_info": {
   "codemirror_mode": {
    "name": "ipython",
    "version": 3
   },
   "file_extension": ".py",
   "mimetype": "text/x-python",
   "name": "python",
   "nbconvert_exporter": "python",
   "pygments_lexer": "ipython3",
   "version": "3.6.12"
  }
 },
 "nbformat": 4,
 "nbformat_minor": 4
}
