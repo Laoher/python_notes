{
 "cells": [
  {
   "cell_type": "code",
   "execution_count": 1,
   "metadata": {},
   "outputs": [
    {
     "name": "stdout",
     "output_type": "stream",
     "text": [
      "That key doesn't exist!\n"
     ]
    }
   ],
   "source": [
    "# KeyError 映射中没有这个键, 防止发生key不存在的处理方式\n",
    "building_heights = {\"Burj Khalifa\": 828, \"Shanghai Tower\": 632, \"Abraj Al Bait\": 601, \"Ping An\": 599, \"Lotte World Tower\": 554.5, \"One World Trade\": 541.3}\n",
    "key_to_check = \"Landmark 81\"\n",
    "try:\n",
    "  print(building_heights[key_to_check])\n",
    "except KeyError:\n",
    "  print(\"That key doesn't exist!\")"
   ]
  },
  {
   "cell_type": "code",
   "execution_count": 1,
   "metadata": {},
   "outputs": [
    {
     "name": "stdout",
     "output_type": "stream",
     "text": [
      "Error: 没有找到文件或读取文件失败\n",
      "报没报错都整完了\n"
     ]
    }
   ],
   "source": [
    "# IOError 读写错误\n",
    "try:\n",
    "    fh = open(\"testfile\", \"r\")\n",
    "    fh.write(\"这是一个测试文件，用于测试异常!!\")\n",
    "except IOError:\n",
    "    print(\"Error: 没有找到文件或读取文件失败\")\n",
    "else:\n",
    "    print (\"内容写入文件成功的时候执行\")\n",
    "    fh.close()\n",
    "finally:\n",
    "    print(\"报没报错都要执行了\")"
   ]
  },
  {
   "cell_type": "raw",
   "metadata": {},
   "source": [
    "# 使用except而不带任何异常类型\n",
    "try:\n",
    "    正常的操作\n",
    "   ......................\n",
    "except:\n",
    "    发生异常，执行这块代码\n",
    "   ......................\n",
    "else:\n",
    "    如果没有异常执行这块代码"
   ]
  },
  {
   "cell_type": "code",
   "execution_count": 12,
   "metadata": {},
   "outputs": [
    {
     "name": "stdout",
     "output_type": "stream",
     "text": [
      "invalid value\n",
      "invalid value\n",
      "invalid value\n",
      "invalid value\n",
      "invalid value\n"
     ]
    }
   ],
   "source": [
    "import math\n",
    "from time import time\n",
    "\n",
    "start = time()  # start time measuring by creating timestamp\n",
    "while time()-start<0.001:\n",
    "    try:\n",
    "        text = raw_input('> ')\n",
    "        if text[0] == 'q':\n",
    "            break\n",
    "        x = float(text)\n",
    "        y = 1 / math.log10(x)\n",
    "        print(\"1 / log10({0}) = {1}\").format(x, y)\n",
    "    except Exception:\n",
    "        print(\"invalid value\")\n",
    "# 以上方式try-except语句捕获所有发生的异常。但这不是一个很好的方式，我们不能通过该程序识别出具体的异常信息。因为它捕获所有的异常。"
   ]
  },
  {
   "cell_type": "code",
   "execution_count": null,
   "metadata": {
    "collapsed": true
   },
   "outputs": [],
   "source": [
    "# 使用except而带多种异常类型\n",
    "try:\n",
    "    正常的操作\n",
    "   ......................\n",
    "except(Exception1[, Exception2[,...ExceptionN]]]):\n",
    "   发生以上多个异常中的一个，执行这块代码\n",
    "   ......................\n",
    "else:\n",
    "    如果没有异常执行这块代码"
   ]
  },
  {
   "cell_type": "markdown",
   "metadata": {},
   "source": [
    "# logging 模块：记录日志"
   ]
  },
  {
   "cell_type": "markdown",
   "metadata": {},
   "source": [
    "`logging` 模块可以用来记录日志："
   ]
  },
  {
   "cell_type": "code",
   "execution_count": 1,
   "metadata": {},
   "outputs": [],
   "source": [
    "import logging"
   ]
  },
  {
   "cell_type": "markdown",
   "metadata": {},
   "source": [
    "`logging` 的日志类型有以下几种：\n",
    "\n",
    "- `logging.critical(msg)`\n",
    "- `logging.error(msg)`\n",
    "- `logging.warning(msg)`\n",
    "- `logging.info(msg)`\n",
    "- `logging.debug(msg)`\n",
    "\n",
    "级别排序为：`CRITICAL > ERROR > WARNING > INFO > DEBUG > NOTSET`\n",
    "\n",
    "默认情况下，`logging` 的日志级别为 `WARNING`，只有不低于 `WARNING` 级别的日志才会显示在命令行。"
   ]
  },
  {
   "cell_type": "code",
   "execution_count": 2,
   "metadata": {},
   "outputs": [
    {
     "name": "stderr",
     "output_type": "stream",
     "text": [
      "CRITICAL:root:This is critical message\n",
      "ERROR:root:This is error message\n",
      "WARNING:root:This is warning message\n"
     ]
    }
   ],
   "source": [
    "logging.critical('This is critical message')\n",
    "logging.error('This is error message')\n",
    "logging.warning('This is warning message')\n",
    "\n",
    "# 不会显示\n",
    "logging.info('This is info message')\n",
    "logging.debug('This is debug message')"
   ]
  },
  {
   "cell_type": "markdown",
   "metadata": {},
   "source": [
    "可以这样修改默认的日志级别："
   ]
  },
  {
   "cell_type": "code",
   "execution_count": 3,
   "metadata": {},
   "outputs": [
    {
     "name": "stderr",
     "output_type": "stream",
     "text": [
      "INFO:root:This is info message\n"
     ]
    }
   ],
   "source": [
    "logging.root.setLevel(level=logging.INFO)\n",
    "\n",
    "logging.info('This is info message')"
   ]
  },
  {
   "cell_type": "markdown",
   "metadata": {},
   "source": [
    "可以通过 `logging.basicConfig()` 函数来改变默认的日志显示方式："
   ]
  },
  {
   "cell_type": "code",
   "execution_count": 4,
   "metadata": {},
   "outputs": [
    {
     "name": "stderr",
     "output_type": "stream",
     "text": [
      "CRITICAL:this program:This is critical message\n"
     ]
    }
   ],
   "source": [
    "logging.basicConfig(format='%(asctime)s: %(levelname)s: %(message)s')\n",
    "\n",
    "logger = logging.getLogger(\"this program\")\n",
    "\n",
    "logger.critical('This is critical message')"
   ]
  }
 ],
 "metadata": {
  "kernelspec": {
   "display_name": "Python 3",
   "language": "python",
   "name": "python3"
  },
  "language_info": {
   "codemirror_mode": {
    "name": "ipython",
    "version": 3
   },
   "file_extension": ".py",
   "mimetype": "text/x-python",
   "name": "python",
   "nbconvert_exporter": "python",
   "pygments_lexer": "ipython3",
   "version": "3.6.12"
  }
 },
 "nbformat": 4,
 "nbformat_minor": 2
}
