{
 "cells": [
  {
   "cell_type": "markdown",
   "metadata": {},
   "source": [
    "# global 关键字 & globals()"
   ]
  },
  {
   "cell_type": "code",
   "execution_count": 1,
   "metadata": {},
   "outputs": [
    {
     "name": "stdout",
     "output_type": "stream",
     "text": [
      "4\n",
      "4\n"
     ]
    }
   ],
   "source": [
    "# 利用global在函数内部修改全局变量\n",
    "a=3\n",
    "\n",
    "def change():\n",
    "    global a\n",
    "    a =4\n",
    "    return a\n",
    "print(change())\n",
    "print(a)"
   ]
  },
  {
   "cell_type": "markdown",
   "metadata": {},
   "source": [
    "globals()函数返回一个全局变量的字典，包括所有导入的变量。"
   ]
  },
  {
   "cell_type": "code",
   "execution_count": 2,
   "metadata": {},
   "outputs": [
    {
     "name": "stdout",
     "output_type": "stream",
     "text": [
      "{'__name__': '__main__', '__doc__': 'Automatically created module for IPython interactive environment', '__package__': None, '__loader__': None, '__spec__': None, '__builtin__': <module 'builtins' (built-in)>, '__builtins__': <module 'builtins' (built-in)>, '_ih': ['', '# 利用global在函数内部修改全局变量\\na=3\\n\\ndef change():\\n    global a\\n    a =4\\n    return a\\nprint(change())\\nprint(a)', 'print(globals())'], '_oh': {}, '_dh': ['/Users/Tyler/python_notes/01. Syntax'], 'In': ['', '# 利用global在函数内部修改全局变量\\na=3\\n\\ndef change():\\n    global a\\n    a =4\\n    return a\\nprint(change())\\nprint(a)', 'print(globals())'], 'Out': {}, 'get_ipython': <bound method InteractiveShell.get_ipython of <ipykernel.zmqshell.ZMQInteractiveShell object at 0x10cb60c50>>, 'exit': <IPython.core.autocall.ZMQExitAutocall object at 0x10cbc6fd0>, 'quit': <IPython.core.autocall.ZMQExitAutocall object at 0x10cbc6fd0>, '_': '', '__': '', '___': '', '_i': '# 利用global在函数内部修改全局变量\\na=3\\n\\ndef change():\\n    global a\\n    a =4\\n    return a\\nprint(change())\\nprint(a)', '_ii': '', '_iii': '', '_i1': '# 利用global在函数内部修改全局变量\\na=3\\n\\ndef change():\\n    global a\\n    a =4\\n    return a\\nprint(change())\\nprint(a)', 'a': 4, 'change': <function change at 0x10cca6158>, '_i2': 'print(globals())'}\n"
     ]
    }
   ],
   "source": [
    "print(globals())"
   ]
  },
  {
   "cell_type": "markdown",
   "metadata": {},
   "source": [
    "# sorted & sort"
   ]
  },
  {
   "cell_type": "code",
   "execution_count": 1,
   "metadata": {},
   "outputs": [
    {
     "name": "stdout",
     "output_type": "stream",
     "text": [
      "['新疆维吾尔自治区', '广西壮族自治区', '内蒙古自治区', '西藏自治区', '青海省']\n"
     ]
    }
   ],
   "source": [
    "# sorted(iterable, cmp=None, key=None, reverse=False)\n",
    "# iterable：是可迭代类型;\n",
    "# cmp：用于比较的函数，比较什么由key决定;\n",
    "# key：用列表元素的某个属性或函数进行作为关键字，有默认值，迭代集合中的一项;\n",
    "# reverse：排序规则. reverse = True  降序 或者 reverse = False 升序，有默认值。\n",
    "\n",
    "myList = ['青海省','内蒙古自治区','西藏自治区','新疆维吾尔自治区','广西壮族自治区']  \n",
    "myList1 = sorted(myList,key = lambda i:len(i),reverse=True)  \n",
    "# myList.sort(key = lambda i:len(i),reverse=True) \n",
    "print(myList1) "
   ]
  },
  {
   "cell_type": "code",
   "execution_count": null,
   "metadata": {},
   "outputs": [],
   "source": []
  }
 ],
 "metadata": {
  "kernelspec": {
   "display_name": "Python 3",
   "language": "python",
   "name": "python3"
  },
  "language_info": {
   "codemirror_mode": {
    "name": "ipython",
    "version": 3
   },
   "file_extension": ".py",
   "mimetype": "text/x-python",
   "name": "python",
   "nbconvert_exporter": "python",
   "pygments_lexer": "ipython3",
   "version": "3.6.12"
  }
 },
 "nbformat": 4,
 "nbformat_minor": 2
}
