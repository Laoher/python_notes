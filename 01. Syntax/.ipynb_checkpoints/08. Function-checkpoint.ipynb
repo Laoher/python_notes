{
 "cells": [
  {
   "cell_type": "code",
   "execution_count": null,
   "metadata": {},
   "outputs": [],
   "source": [
    "# lambda function\n",
    "# 例子\n",
    "add_two = lambda my_input: my_input + 2\n",
    "print(add_two(3))\n",
    "is_substring = lambda my_string: my_string in \"This is the master string\"\n",
    "print(is_substring('the'))\n",
    "# <WHAT TO RETURN IF STATEMENT IS TRUE> if <IF STATEMENT> else <WHAT TO RETURN IF STATEMENT IS FALSE>\n",
    "check_if_A_grade = lambda grade: 'Got an A!' if grade >= 90 else 'Did not get an A...'\n",
    "print(check_if_A_grade(91))\n",
    "long_string = lambda str: True if len(str)>12 else False\n",
    "# 形式输出\n",
    "combine_lambda = lambda row: '{} - {}'.format(row.product_type,row.product_description)\n",
    "# 查看字母是否在string中\n",
    "# return \"I\" in \"Team\"  要在function中使用\n",
    "\n",
    "# normal function\n",
    "def distance(movie1, movie2):\n",
    "    squared_difference = 0\n",
    "    for i in range(len(movie1)):\n",
    "      squared_difference += (movie1[i] - movie2[i]) ** 2\n",
    "    final_distance = squared_difference ** 0.5\n",
    "    return final_distance\n",
    "\n",
    "\n",
    "def hello_world():\n",
    "    print('hello world')\n",
    "\n",
    "\n",
    "def three_hellos():\n",
    "    for i in range(3):\n",
    "        hello_world()\n",
    "\n",
    "\n",
    "if __name__ == '__main__':  # 表示运行这个py文件的时候才会执行这个函数\n",
    "    three_hellos()"
   ]
  }
 ],
 "metadata": {
  "kernelspec": {
   "display_name": "Python 3",
   "language": "python",
   "name": "python3"
  },
  "language_info": {
   "codemirror_mode": {
    "name": "ipython",
    "version": 3
   },
   "file_extension": ".py",
   "mimetype": "text/x-python",
   "name": "python",
   "nbconvert_exporter": "python",
   "pygments_lexer": "ipython3",
   "version": "3.6.9"
  }
 },
 "nbformat": 4,
 "nbformat_minor": 2
}
