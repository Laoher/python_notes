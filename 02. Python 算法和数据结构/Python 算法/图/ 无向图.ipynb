{
 "cells": [
  {
   "cell_type": "markdown",
   "metadata": {},
   "source": [
    "图是由一些顶点和连接这些顶点的边组成\n",
    "\n",
    "简单图：没有平行边和自环\n",
    "多重图：有平行边或自环\n",
    "\n",
    "树：无环连通图\n",
    "森林：互不相连的树的集合\n",
    "\n",
    "一般用邻接表数组来表示graph"
   ]
  }
 ],
 "metadata": {
  "kernelspec": {
   "display_name": "Python 3",
   "language": "python",
   "name": "python3"
  },
  "language_info": {
   "codemirror_mode": {
    "name": "ipython",
    "version": 3
   },
   "file_extension": ".py",
   "mimetype": "text/x-python",
   "name": "python",
   "nbconvert_exporter": "python",
   "pygments_lexer": "ipython3",
   "version": "3.6.12"
  }
 },
 "nbformat": 4,
 "nbformat_minor": 4
}
