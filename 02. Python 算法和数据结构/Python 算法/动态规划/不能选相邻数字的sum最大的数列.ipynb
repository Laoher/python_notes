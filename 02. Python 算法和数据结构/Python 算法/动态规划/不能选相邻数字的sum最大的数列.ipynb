{
 "cells": [
  {
   "cell_type": "markdown",
   "metadata": {},
   "source": [
    "- 现在有一个数列为\n",
    "1 2 4 1 7 8 3\n",
    "- 如果选了一个数字就不能选这个数字相邻的数\n",
    "- 请问怎样选择一个数列使得数列和最大"
   ]
  },
  {
   "cell_type": "code",
   "execution_count": 18,
   "metadata": {},
   "outputs": [
    {
     "data": {
      "text/plain": [
       "[1, 2, 4, 1, 7, 8, 3]"
      ]
     },
     "execution_count": 18,
     "metadata": {},
     "output_type": "execute_result"
    }
   ],
   "source": [
    "import numpy as np\n",
    "arr = [1, 2, 4, 1, 7, 8, 3]\n",
    "arr"
   ]
  },
  {
   "cell_type": "code",
   "execution_count": 19,
   "metadata": {},
   "outputs": [
    {
     "data": {
      "text/plain": [
       "15.0"
      ]
     },
     "execution_count": 19,
     "metadata": {},
     "output_type": "execute_result"
    }
   ],
   "source": [
    "def optimization(arr):\n",
    "    opt = np.zeros([len(arr)])\n",
    "    opt[0] = 1\n",
    "    opt[1] = 3\n",
    "    for i in range(2,len(arr)):\n",
    "        A = opt[i-2]+arr[i] # 这边就是分解的式子\n",
    "        B = opt[i-1]\n",
    "        opt[i] = max(A,B)\n",
    "    return opt[len(arr)-1]\n",
    "\n",
    "optimization(arr)"
   ]
  },
  {
   "cell_type": "markdown",
   "metadata": {},
   "source": [
    "- 现在有一个数列为\n",
    "3,34,4,12,5,2\n",
    "- 请问是否存在一个数列使得数列和等于5\n",
    "- 这个求解的过程比较复杂,建议回头看原视频https://www.youtube.com/watch?v=Jakbj4vaIbE&t=802s"
   ]
  },
  {
   "cell_type": "code",
   "execution_count": 26,
   "metadata": {},
   "outputs": [],
   "source": [
    "arr = [3, 34, 4, 12, 5, 2]\n",
    "S = 5"
   ]
  },
  {
   "cell_type": "code",
   "execution_count": 27,
   "metadata": {},
   "outputs": [
    {
     "name": "stdout",
     "output_type": "stream",
     "text": [
      "True\n",
      "True\n",
      "True\n",
      "True\n",
      "False\n"
     ]
    }
   ],
   "source": [
    "def dp_subset(arr, S):\n",
    "    subset =np.zeros((len(arr),S+1),dtype=bool)\n",
    "    subset[:,0]=True\n",
    "    subset[0,:]=False\n",
    "    if arr[0]<=len(arr)-1:\n",
    "        subset[0,arr[0]]=True\n",
    "    for i in range(1,len(arr)):\n",
    "        for s in range(1,S+1):\n",
    "            if arr[i]>s:\n",
    "                subset[i,s]=subset[i-1,s]\n",
    "            else:\n",
    "                A = subset[i-1,s-arr[i]]\n",
    "                B = subset[i-1,s]\n",
    "                subset[i,s] = A or B\n",
    "    r,c = subset.shape\n",
    "    return subset[r-1,c-1]\n",
    "\n",
    "print(dp_subset(arr,9))\n",
    "print(dp_subset(arr,10))\n",
    "print(dp_subset(arr,11))\n",
    "print(dp_subset(arr,12))\n",
    "print(dp_subset(arr,13))"
   ]
  },
  {
   "cell_type": "code",
   "execution_count": null,
   "metadata": {},
   "outputs": [],
   "source": []
  },
  {
   "cell_type": "code",
   "execution_count": null,
   "metadata": {},
   "outputs": [],
   "source": []
  }
 ],
 "metadata": {
  "kernelspec": {
   "display_name": "Python 3",
   "language": "python",
   "name": "python3"
  },
  "language_info": {
   "codemirror_mode": {
    "name": "ipython",
    "version": 3
   },
   "file_extension": ".py",
   "mimetype": "text/x-python",
   "name": "python",
   "nbconvert_exporter": "python",
   "pygments_lexer": "ipython3",
   "version": "3.6.8"
  }
 },
 "nbformat": 4,
 "nbformat_minor": 2
}
