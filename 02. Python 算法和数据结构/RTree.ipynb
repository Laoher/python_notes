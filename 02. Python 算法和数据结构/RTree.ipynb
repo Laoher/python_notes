{
 "cells": [
  {
   "cell_type": "markdown",
   "metadata": {},
   "source": [
    "RTree（R树）\n",
    "是一种采用对象界定技术的高度平衡树\n",
    "\n",
    "最小元素是矩形\n",
    "所有数据都是矩形 但是矩形的大小不一样"
   ]
  },
  {
   "cell_type": "code",
   "execution_count": 8,
   "metadata": {},
   "outputs": [],
   "source": [
    "from rtree import index"
   ]
  },
  {
   "cell_type": "code",
   "execution_count": 10,
   "metadata": {},
   "outputs": [
    {
     "data": {
      "text/plain": [
       "{'buffering_capacity': 10, 'custom_storage_callbacks': None, 'custom_storage_callbacks_size': 0, 'dat_extension': b'dat', 'dimension': 2, 'filename': b'', 'fill_factor': 0.7, 'idx_extension': b'idx', 'index_capacity': 100, 'index_id': None, 'leaf_capacity': 100, 'near_minimum_overlap_factor': 32, 'overwrite': True, 'pagesize': 4096, 'point_pool_capacity': 500, 'region_pool_capacity': 1000, 'reinsert_factor': 0.3, 'split_distribution_factor': 0.4, 'storage': 1, 'tight_mbr': True, 'tpr_horizon': 20.0, 'type': 0, 'variant': 2, 'writethrough': False}"
      ]
     },
     "execution_count": 10,
     "metadata": {},
     "output_type": "execute_result"
    }
   ],
   "source": [
    "p= index.Property()\n",
    "p"
   ]
  },
  {
   "cell_type": "code",
   "execution_count": 11,
   "metadata": {},
   "outputs": [],
   "source": [
    "idx = index.Index(properties=p)\n",
    "idx.insert(4321,(34.3776829412, 26.7375853734, 49.3776829412,41.7375853734),obj=42)"
   ]
  },
  {
   "cell_type": "code",
   "execution_count": 13,
   "metadata": {},
   "outputs": [
    {
     "name": "stdout",
     "output_type": "stream",
     "text": [
      "0\n"
     ]
    }
   ],
   "source": [
    "print(idx.count((0, 0, 20, 20)))"
   ]
  },
  {
   "cell_type": "code",
   "execution_count": 14,
   "metadata": {},
   "outputs": [],
   "source": [
    "hits = idx.intersection((0, 0, 60, 60), objects=True)"
   ]
  },
  {
   "cell_type": "code",
   "execution_count": 16,
   "metadata": {},
   "outputs": [
    {
     "name": "stdout",
     "output_type": "stream",
     "text": [
      "42\n",
      "[34.3776829412, 26.7375853734, 49.3776829412, 41.7375853734]\n"
     ]
    }
   ],
   "source": [
    "for i in hits:\n",
    "#与它有交点的应该有很多，但我们只要，id为4321处的交点。\n",
    "    if i.id == 4321:\n",
    "        print(i.object)\n",
    "        print(i.bbox)"
   ]
  },
  {
   "cell_type": "code",
   "execution_count": 17,
   "metadata": {},
   "outputs": [
    {
     "data": {
      "text/plain": [
       "[42]"
      ]
     },
     "execution_count": 17,
     "metadata": {},
     "output_type": "execute_result"
    }
   ],
   "source": [
    "list(idx.intersection((0, 0, 60, 60), objects=\"raw\"))"
   ]
  },
  {
   "cell_type": "code",
   "execution_count": 18,
   "metadata": {},
   "outputs": [
    {
     "name": "stdout",
     "output_type": "stream",
     "text": [
      "<generator object Index._get_objects at 0x10ea61830>\n"
     ]
    }
   ],
   "source": [
    "from rtree import index\n",
    "idx = index.Index()\n",
    "idx.insert(4321, (34.37, 26.73, 49.37, 41.73), obj=42)\n",
    "hits = idx.nearest((30, 25, 48, 40), 1, objects=True)\n",
    "print(hits)"
   ]
  },
  {
   "cell_type": "code",
   "execution_count": 19,
   "metadata": {},
   "outputs": [],
   "source": [
    "from rtree import index\n",
    "idx = index.Index()\n",
    "idx.delete(4321,(34.3776829412, 26.7375853734, 49.3776829412,41.7375853734))"
   ]
  },
  {
   "cell_type": "code",
   "execution_count": null,
   "metadata": {},
   "outputs": [],
   "source": []
  }
 ],
 "metadata": {
  "kernelspec": {
   "display_name": "Python 3",
   "language": "python",
   "name": "python3"
  },
  "language_info": {
   "codemirror_mode": {
    "name": "ipython",
    "version": 3
   },
   "file_extension": ".py",
   "mimetype": "text/x-python",
   "name": "python",
   "nbconvert_exporter": "python",
   "pygments_lexer": "ipython3",
   "version": "3.6.12"
  }
 },
 "nbformat": 4,
 "nbformat_minor": 4
}
