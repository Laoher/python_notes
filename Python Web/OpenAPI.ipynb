{
 "cells": [
  {
   "cell_type": "markdown",
   "metadata": {},
   "source": [
    "OpenAPI是一套规范，定义了怎样描述REST API接口\n",
    "swagger工具集支持实现了OpenAPI swagger3.0 支持的是openapi3.0规范 swagger2.0已经是过去式\n",
    "\n",
    "swagger2openapi是一个Node.js开发的工具，可以将Swagger 2.0转换为OAS 3.0\n",
    "\n",
    "OAS 是一个文件根据OPENAPI的规范描述了REST API 一般用YAML和JSON编写"
   ]
  }
 ],
 "metadata": {
  "kernelspec": {
   "display_name": "Python 3",
   "language": "python",
   "name": "python3"
  },
  "language_info": {
   "codemirror_mode": {
    "name": "ipython",
    "version": 3
   },
   "file_extension": ".py",
   "mimetype": "text/x-python",
   "name": "python",
   "nbconvert_exporter": "python",
   "pygments_lexer": "ipython3",
   "version": "3.6.9"
  }
 },
 "nbformat": 4,
 "nbformat_minor": 4
}
