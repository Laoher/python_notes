{
 "cells": [
  {
   "cell_type": "markdown",
   "metadata": {},
   "source": [
    "# p value\n",
    "\n",
    "分为一端的和两端的 一端的很危险，尽量不要用\n",
    "\n",
    "由三部分组成：事件本身的概率，相同概率的其余事件，概率更小的其余事件\n",
    "\n",
    "例子1：\n",
    "抛硬币两次都是正面能否证明硬币不均匀\n",
    "null：硬币没问题\n",
    "not null：硬币有问题\n",
    "\n",
    "两正概率：0.25\n",
    "一正一反概率：0.5\n",
    "两反概率：0.25\n",
    "\n",
    "p value = 0.25+0.25+0 = 0.5\n",
    "因为p-value大于0.05，所以没有95%的confidence说可以reject null hypothesis\n",
    "\n",
    "例子2：\n",
    "抛硬币五次四次正面能否证明硬币不均匀\n",
    "null：硬币没问题\n",
    "not null：硬币有问题\n",
    "\n",
    "五正概率：0.03125\n",
    "四正一反概率： 0.15625\n",
    "三正两反概率： 0.3125\n",
    "两正三反概率： 0.3125\n",
    "一正四反概率：0.15625\n",
    "五反概率：0.03125\n",
    "\n",
    "p value = 0.15625+0.15625+0.03125*2 = 0.375\n",
    "因为p-value大于0.05，所以没有95%的confidence说可以reject null hypothesis\n",
    "\n",
    "连续数据的例子就好理解多了，无需更多解释"
   ]
  },
  {
   "cell_type": "markdown",
   "metadata": {},
   "source": [
    "#  R squre\n",
    "\n",
    "SST（total sum of squares)=Yi-Y(ba) SSR （regression sum of squares) 表示Y 实际和Y尖之间的差距之和（右下角那部分）， SSE 表示Y尖和Y 平均值之间的差距之和，显而易见的是SST=SSR+SSE,而R的平方就等于SSR/SST， 等于（SST-SSE）/SST，等于1-SSE/SST,SSE表示误差，所以R方越大，表示你的回归模型越贴合实际本身。就是减掉不可解释的部分就是可解释的比例。"
   ]
  },
  {
   "cell_type": "code",
   "execution_count": null,
   "metadata": {},
   "outputs": [],
   "source": []
  }
 ],
 "metadata": {
  "kernelspec": {
   "display_name": "Python 3",
   "language": "python",
   "name": "python3"
  },
  "language_info": {
   "codemirror_mode": {
    "name": "ipython",
    "version": 3
   },
   "file_extension": ".py",
   "mimetype": "text/x-python",
   "name": "python",
   "nbconvert_exporter": "python",
   "pygments_lexer": "ipython3",
   "version": "3.6.9"
  }
 },
 "nbformat": 4,
 "nbformat_minor": 4
}
