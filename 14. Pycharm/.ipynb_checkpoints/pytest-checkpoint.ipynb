{
 "cells": [
  {
   "cell_type": "markdown",
   "metadata": {},
   "source": [
    "pytest.mark主要是用来对test方法进行标记用的一个装饰器。标记的作用就是在使用pytest跑测试代码的时候可以选择性地执行部分test方法。"
   ]
  },
  {
   "cell_type": "markdown",
   "metadata": {},
   "source": [
    "使用pytest的时候不一定要用assert，用assert是为了更方便验证结果"
   ]
  },
  {
   "cell_type": "markdown",
   "metadata": {},
   "source": [
    "通过使用-m参数可以让pytest选择性的执行部分test方法：\n",
    "pytest demo_pytest/test_mark_0.py -m \"not not_run”"
   ]
  },
  {
   "cell_type": "markdown",
   "metadata": {},
   "source": [
    "@pytest.fixture()如果不写参数，默认就是scope=\"function\"，它的作用范围是每个测试用例来之前运行一次，销毁代码在测试用例运行之后运行。"
   ]
  },
  {
   "cell_type": "markdown",
   "metadata": {},
   "source": [
    "# 运行pytest的终极方法"
   ]
  },
  {
   "cell_type": "markdown",
   "metadata": {},
   "source": [
    "去edit configuration 里面添加一个pytest，把目标module改成想要的文件，不需要class和if name = main那套没用的东西"
   ]
  }
 ],
 "metadata": {
  "kernelspec": {
   "display_name": "Python 3",
   "language": "python",
   "name": "python3"
  },
  "language_info": {
   "codemirror_mode": {
    "name": "ipython",
    "version": 3
   },
   "file_extension": ".py",
   "mimetype": "text/x-python",
   "name": "python",
   "nbconvert_exporter": "python",
   "pygments_lexer": "ipython3",
   "version": "3.6.12"
  }
 },
 "nbformat": 4,
 "nbformat_minor": 4
}
