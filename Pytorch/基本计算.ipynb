{
 "cells": [
  {
   "cell_type": "code",
   "execution_count": 2,
   "metadata": {},
   "outputs": [],
   "source": [
    "import torch"
   ]
  },
  {
   "cell_type": "code",
   "execution_count": 8,
   "metadata": {},
   "outputs": [
    {
     "name": "stdout",
     "output_type": "stream",
     "text": [
      "tensor([1.], requires_grad=True)\n",
      "tensor([5.])\n"
     ]
    }
   ],
   "source": [
    "w = torch.tensor([1.],requires_grad = True)\n",
    "x = torch.tensor([2.], requires_grad = True)\n",
    "\n",
    "a = x+w\n",
    "# a.retain_grad() # 可以通过.retain_grad()来保留非任意节点的梯度值。\n",
    "b = w+1\n",
    "y = a*b\n",
    "\n",
    "v = y.backward()\n",
    "print(w)\n",
    "print(w.grad) # tensor([5.])\n",
    "# y 对 w的微分 等于y通过a对w的微分加上y通过x对w的微分的和\n",
    "# dy/dw = dy/da * da/dw + dy/dx * dx/dw =2×w+x+1=5"
   ]
  },
  {
   "cell_type": "code",
   "execution_count": 9,
   "metadata": {},
   "outputs": [
    {
     "name": "stdout",
     "output_type": "stream",
     "text": [
      "True True False False False\n",
      "tensor([5.]) tensor([2.]) None None None\n"
     ]
    },
    {
     "name": "stderr",
     "output_type": "stream",
     "text": [
      "/Users/tyler/anaconda/envs/tf2/lib/python3.6/site-packages/ipykernel_launcher.py:3: UserWarning: The .grad attribute of a Tensor that is not a leaf Tensor is being accessed. Its .grad attribute won't be populated during autograd.backward(). If you indeed want the gradient for a non-leaf Tensor, use .retain_grad() on the non-leaf Tensor. If you access the non-leaf Tensor by mistake, make sure you access the leaf Tensor instead. See github.com/pytorch/pytorch/pull/30531 for more informations.\n",
      "  This is separate from the ipykernel package so we can avoid doing imports until\n"
     ]
    }
   ],
   "source": [
    "# 这个图中的叶子节点，是w和x，是整个计算图的根基。之所以用叶子节点的概念，是为了减少内存，在反向传播结束之后，非叶子节点的梯度会被释放掉\n",
    "print(w.is_leaf,x.is_leaf,a.is_leaf,b.is_leaf,y.is_leaf)\n",
    "print(w.grad,x.grad,a.grad,b.grad,y.grad)"
   ]
  },
  {
   "cell_type": "code",
   "execution_count": 10,
   "metadata": {},
   "outputs": [
    {
     "name": "stdout",
     "output_type": "stream",
     "text": [
      "<MulBackward0 object at 0x7fc395461b70>\n",
      "<AddBackward0 object at 0x7fc395461a90>\n",
      "None\n"
     ]
    }
   ],
   "source": [
    "# torch.tensor有一个属性grad_fn,grad_fn的作用是记录创建该张量时所用的函数，这个属性反向传播的时候会用到。\n",
    "# 例如在上面的例子中，y.grad_fn=MulBackward0,表示y是通过乘法得到的。所以求导的时候就是用乘法的求导法则。\n",
    "# 同样的，a.grad=AddBackward0表示a是通过加法得到的，使用加法的求导法则。\n",
    "print(y.grad_fn)\n",
    "print(a.grad_fn)\n",
    "print(w.grad_fn) # 叶子节点的.grad_fn是None"
   ]
  },
  {
   "cell_type": "code",
   "execution_count": null,
   "metadata": {},
   "outputs": [],
   "source": []
  }
 ],
 "metadata": {
  "kernelspec": {
   "display_name": "Python 3",
   "language": "python",
   "name": "python3"
  },
  "language_info": {
   "codemirror_mode": {
    "name": "ipython",
    "version": 3
   },
   "file_extension": ".py",
   "mimetype": "text/x-python",
   "name": "python",
   "nbconvert_exporter": "python",
   "pygments_lexer": "ipython3",
   "version": "3.6.9"
  }
 },
 "nbformat": 4,
 "nbformat_minor": 4
}
