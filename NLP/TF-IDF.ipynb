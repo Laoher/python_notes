{
 "cells": [
  {
   "cell_type": "markdown",
   "metadata": {},
   "source": [
    "什么是TF-IDF?\n",
    "TF-IDF(term frequency–inverse document frequency)是一种用于信息检索与数据挖掘的常用加权技术，常用于挖掘文章中的关键词，而且算法简单高效，常被工业用于最开始的文本数据清洗。\n",
    "\n",
    "TF-IDF有两层意思，一层是\"词频\"（Term Frequency，缩写为TF），另一层是\"逆文档频率\"（Inverse Document Frequency，缩写为IDF）。\n",
    "\n",
    "TF可以统计到停用词并把它们过滤。当高频词过滤后就只需考虑剩下的有实际意义的词。\n",
    "    TF = 某词在文章中出现次数/文章单词数\n",
    "IDF会给常见的词较小的权重，它的大小与一个词的常见程度成反比。\n",
    "    IDF=log(语料库文档总数/包含该词的文档数)\n",
    "\n",
    "TF-IDF = TF x IDF\n",
    " \n",
    "所以自动提取关键词的算法就很清楚了：就是计算出文档的每个词的TF-IDF值，然后按降序排列，取排在最前面的几个词。\n",
    "\n",
    "TF-IDF的优缺点\n",
    "优点：简单快速，容易理解。\n",
    "缺点：用词频来衡量文章中的一个词的重要性不够全面，有时候重要的词出现的可能不够多，而且这种计算无法体现位置信息，无法体现词在上下文的重要性。如果要体现词的上下文结构，需要使用word2vec算法支持。"
   ]
  }
 ],
 "metadata": {
  "kernelspec": {
   "display_name": "Python 3",
   "language": "python",
   "name": "python3"
  },
  "language_info": {
   "codemirror_mode": {
    "name": "ipython",
    "version": 3
   },
   "file_extension": ".py",
   "mimetype": "text/x-python",
   "name": "python",
   "nbconvert_exporter": "python",
   "pygments_lexer": "ipython3",
   "version": "3.6.9"
  }
 },
 "nbformat": 4,
 "nbformat_minor": 4
}
